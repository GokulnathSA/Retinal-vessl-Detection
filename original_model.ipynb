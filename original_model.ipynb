{
  "nbformat": 4,
  "nbformat_minor": 0,
  "metadata": {
    "colab": {
      "name": "4_layer_model.ipynb",
      "provenance": [],
      "collapsed_sections": [
        "JKVngFts_muU",
        "Huk5OfFUWs2L",
        "u-nWSf7uaLXC",
        "lz3PuzabYuOR"
      ]
    },
    "kernelspec": {
      "name": "python3",
      "display_name": "Python 3"
    },
    "language_info": {
      "name": "python"
    },
    "accelerator": "GPU"
  },
  "cells": [
    {
      "cell_type": "markdown",
      "metadata": {
        "id": "JKVngFts_muU"
      },
      "source": [
        "\n",
        "\n",
        "```\n",
        "\n",
        "```\n",
        "\n",
        "# Pre processing\n"
      ]
    },
    {
      "cell_type": "code",
      "metadata": {
        "colab": {
          "base_uri": "https://localhost:8080/"
        },
        "id": "DrUmKr57_M9c",
        "outputId": "dde77e0a-0846-4df1-d5fc-acd929e158c2"
      },
      "source": [
        "from google.colab import drive\n",
        "drive.mount('/content/drive')"
      ],
      "execution_count": 2,
      "outputs": [
        {
          "output_type": "stream",
          "name": "stdout",
          "text": [
            "Drive already mounted at /content/drive; to attempt to forcibly remount, call drive.mount(\"/content/drive\", force_remount=True).\n"
          ]
        }
      ]
    },
    {
      "cell_type": "code",
      "metadata": {
        "id": "MbgTX9tJOuCX"
      },
      "source": [
        "import os\n",
        "import numpy as np\n",
        "import cv2\n",
        "from glob import glob\n",
        "from tqdm import tqdm\n",
        "import imageio\n",
        "from albumentations import HorizontalFlip, VerticalFlip, ElasticTransform, GridDistortion, OpticalDistortion"
      ],
      "execution_count": 3,
      "outputs": []
    },
    {
      "cell_type": "code",
      "metadata": {
        "id": "Dwr4fwZOQiHY"
      },
      "source": [
        "def create_dir(path):\n",
        "    if not os.path.exists(path):\n",
        "        os.makedirs(path)"
      ],
      "execution_count": 4,
      "outputs": []
    },
    {
      "cell_type": "code",
      "metadata": {
        "id": "9bvyOXDZQlCi"
      },
      "source": [
        "def load_data(path):\n",
        "    \"\"\" X = Images and Y = masks \"\"\"\n",
        "\n",
        "    train_x = sorted(glob(os.path.join(path, \"training\",\"training\", \"training\", \"images\", \"*.tif\")))\n",
        "    train_y = sorted(glob(os.path.join(path, \"training\",\"training\", \"training\", \"1st_manual\", \"*.gif\")))\n",
        "\n",
        "    test_x = sorted(glob(os.path.join(path, \"test\", \"test\", \"test\", \"images\", \"*.tif\")))\n",
        "    test_y = sorted(glob(os.path.join(path, \"test\", \"test\", \"test\", \"1st_manual\", \"*.gif\")))\n",
        "\n",
        "    return (train_x, train_y), (test_x, test_y)"
      ],
      "execution_count": 5,
      "outputs": []
    },
    {
      "cell_type": "code",
      "metadata": {
        "id": "vjJbbKD-QlKY"
      },
      "source": [
        "def augment_data(images, masks, save_path, augment=True):\n",
        "    H = 512\n",
        "    W = 512\n",
        "\n",
        "    for idx, (x, y) in tqdm(enumerate(zip(images, masks)), total=len(images)):\n",
        "        \"\"\" Extracting names \"\"\"\n",
        "        name = x.split(\"/\")[-1].split(\".\")[0]\n",
        "\n",
        "        \"\"\" Reading image and mask \"\"\"\n",
        "        x = cv2.imread(x, cv2.IMREAD_COLOR)\n",
        "        y = imageio.mimread(y)[0]\n",
        "\n",
        "        if augment == True:\n",
        "            aug = HorizontalFlip(p=1.0)\n",
        "            augmented = aug(image=x, mask=y)\n",
        "            x1 = augmented[\"image\"]\n",
        "            y1 = augmented[\"mask\"]\n",
        "\n",
        "            aug = VerticalFlip(p=1.0)\n",
        "            augmented = aug(image=x, mask=y)\n",
        "            x2 = augmented[\"image\"]\n",
        "            y2 = augmented[\"mask\"]\n",
        "\n",
        "            aug = ElasticTransform(p=1, alpha=120, sigma=120 * 0.05, alpha_affine=120 * 0.03)\n",
        "            augmented = aug(image=x, mask=y)\n",
        "            x3 = augmented['image']\n",
        "            y3 = augmented['mask']\n",
        "\n",
        "            aug = GridDistortion(p=1)\n",
        "            augmented = aug(image=x, mask=y)\n",
        "            x4 = augmented['image']\n",
        "            y4 = augmented['mask']\n",
        "\n",
        "            aug = OpticalDistortion(p=1, distort_limit=2, shift_limit=0.5)\n",
        "            augmented = aug(image=x, mask=y)\n",
        "            x5 = augmented['image']\n",
        "            y5 = augmented['mask']\n",
        "\n",
        "            X = [x, x1, x2, x3, x4, x5]\n",
        "            Y = [y, y1, y2, y3, y4, y5]\n",
        "\n",
        "        else:\n",
        "            X = [x]\n",
        "            Y = [y]\n",
        "\n",
        "        index = 0\n",
        "        for i, m in zip(X, Y):\n",
        "            i = cv2.resize(i, (W, H))\n",
        "            m = cv2.resize(m, (W, H))\n",
        "\n",
        "            if len(X) == 1:\n",
        "                tmp_image_name = f\"{name}.jpg\"\n",
        "                tmp_mask_name = f\"{name}.jpg\"\n",
        "            else:\n",
        "                tmp_image_name = f\"{name}_{index}.jpg\"\n",
        "                tmp_mask_name = f\"{name}_{index}.jpg\"\n",
        "\n",
        "            image_path = os.path.join(save_path, \"image\", tmp_image_name)\n",
        "            mask_path = os.path.join(save_path, \"mask\", tmp_mask_name)\n",
        "\n",
        "            cv2.imwrite(image_path, i)\n",
        "            cv2.imwrite(mask_path, m)\n",
        "\n",
        "            index += 1\n",
        "\n"
      ],
      "execution_count": 6,
      "outputs": []
    },
    {
      "cell_type": "code",
      "metadata": {
        "colab": {
          "base_uri": "https://localhost:8080/"
        },
        "id": "pTvyRAZCQz26",
        "outputId": "f8c32f8c-ce4b-4ff6-d457-b9fd3a0a3a55"
      },
      "source": [
        "if __name__ == \"__main__\":\n",
        "    \"\"\" Seeding \"\"\"\n",
        "    np.random.seed(42)\n",
        "\n",
        "    \"\"\" Load the data \"\"\"\n",
        "    data_path = \"/content/drive/MyDrive/project/UNet layers/4_Unet\"\n",
        "    (train_x, train_y), (test_x, test_y) = load_data(data_path)\n",
        "\n",
        "    print(f\"Train: {len(train_x)} - {len(train_y)}\")\n",
        "    print(f\"Test: {len(test_x)} - {len(test_y)}\")\n",
        "\n",
        "    \"\"\" Creating directories \"\"\"\n",
        "    create_dir(\"/content/drive/MyDrive/project/UNet layers/4_Unet/new_data/train/image\")\n",
        "    create_dir(\"/content/drive/MyDrive/project/UNet layers/4_Unet/new_data/train/mask\")\n",
        "    create_dir(\"/content/drive/MyDrive/project/UNet layers/4_Unet/new_data/test/image\")\n",
        "    create_dir(\"/content/drive/MyDrive/project/UNet layers/4_Unet/new_data/test/mask\")\n",
        "    create_dir(\"/content/drive/MyDrive/project/UNet layers/4_Unet/new_data/results\")\n",
        "\n",
        "    augment_data(train_x, train_y, \"/content/drive/MyDrive/project/UNet layers/4_Unet/new_data/train/\", augment= True)\n",
        "    augment_data(test_x, test_y, \"/content/drive/MyDrive/project/UNet layers/4_Unet/new_data/test/\", augment= True)"
      ],
      "execution_count": 7,
      "outputs": [
        {
          "output_type": "stream",
          "name": "stdout",
          "text": [
            "Train: 15 - 15\n",
            "Test: 5 - 5\n"
          ]
        },
        {
          "output_type": "stream",
          "name": "stderr",
          "text": [
            "100%|██████████| 15/15 [00:14<00:00,  1.01it/s]\n",
            "100%|██████████| 5/5 [00:07<00:00,  1.57s/it]\n"
          ]
        }
      ]
    },
    {
      "cell_type": "markdown",
      "metadata": {
        "id": "Huk5OfFUWs2L"
      },
      "source": [
        "# U net\n"
      ]
    },
    {
      "cell_type": "code",
      "metadata": {
        "id": "6U65BdcbWsLo"
      },
      "source": [
        "from tensorflow.keras.layers import Conv2D, BatchNormalization, Activation, MaxPool2D, Conv2DTranspose, Concatenate, Input\n",
        "from tensorflow.keras.models import Model"
      ],
      "execution_count": 8,
      "outputs": []
    },
    {
      "cell_type": "code",
      "metadata": {
        "id": "4_j61AyKXQpH"
      },
      "source": [
        "def conv_block(inputs, num_filters):\n",
        "    x = Conv2D(num_filters, 3, padding=\"same\")(inputs)\n",
        "    x = BatchNormalization()(x)\n",
        "    x = Activation(\"relu\")(x)\n",
        "\n",
        "    x = Conv2D(num_filters, 3, padding=\"same\")(x)\n",
        "    x = BatchNormalization()(x)\n",
        "    x = Activation(\"relu\")(x)\n",
        "\n",
        "    return x"
      ],
      "execution_count": 9,
      "outputs": []
    },
    {
      "cell_type": "code",
      "metadata": {
        "id": "GHQ0lMVvXUpT"
      },
      "source": [
        "def encoder_block(inputs, num_filters):\n",
        "    x = conv_block(inputs, num_filters)\n",
        "    p = MaxPool2D((2, 2))(x)\n",
        "    return x, p\n"
      ],
      "execution_count": 10,
      "outputs": []
    },
    {
      "cell_type": "code",
      "metadata": {
        "id": "aOxKXftyXWv-"
      },
      "source": [
        "def decoder_block(inputs, skip_features, num_filters):\n",
        "    x = Conv2DTranspose(num_filters, (2, 2), strides=2, padding=\"same\")(inputs)\n",
        "    x = Concatenate()([x, skip_features])\n",
        "    x = conv_block(x, num_filters)\n",
        "    return x"
      ],
      "execution_count": 11,
      "outputs": []
    },
    {
      "cell_type": "code",
      "metadata": {
        "id": "CEx_31yRXY4U"
      },
      "source": [
        "def build_unet(input_shape):\n",
        "    inputs = Input(input_shape)\n",
        "\n",
        "    s1, p1 = encoder_block(inputs, 64)\n",
        "    s2, p2 = encoder_block(p1, 128)\n",
        "    s3, p3 = encoder_block(p2, 256)\n",
        "    s4, p4 = encoder_block(p3, 512)\n",
        "\n",
        "    b1 = conv_block(p4, 1024)\n",
        "\n",
        "    d1 = decoder_block(b1, s4, 512)\n",
        "    d2 = decoder_block(d1, s3, 256)\n",
        "    d3 = decoder_block(d2, s2, 128)\n",
        "    d4 = decoder_block(d3, s1, 64)\n",
        "\n",
        "    outputs = Conv2D(1, 1, padding=\"same\", activation=\"sigmoid\")(d4)\n",
        "\n",
        "    model = Model(inputs, outputs, name=\"UNET\")\n",
        "    return model"
      ],
      "execution_count": 12,
      "outputs": []
    },
    {
      "cell_type": "code",
      "metadata": {
        "colab": {
          "base_uri": "https://localhost:8080/"
        },
        "id": "JttJmADxXbVt",
        "outputId": "3e3a0554-486f-4509-d0e6-14e64dc86543"
      },
      "source": [
        "if __name__ == \"__main__\":\n",
        "    input_shape = (512, 512, 3)\n",
        "    model = build_unet(input_shape)\n",
        "    model.summary()"
      ],
      "execution_count": 13,
      "outputs": [
        {
          "output_type": "stream",
          "name": "stdout",
          "text": [
            "Model: \"UNET\"\n",
            "__________________________________________________________________________________________________\n",
            " Layer (type)                   Output Shape         Param #     Connected to                     \n",
            "==================================================================================================\n",
            " input_1 (InputLayer)           [(None, 512, 512, 3  0           []                               \n",
            "                                )]                                                                \n",
            "                                                                                                  \n",
            " conv2d (Conv2D)                (None, 512, 512, 64  1792        ['input_1[0][0]']                \n",
            "                                )                                                                 \n",
            "                                                                                                  \n",
            " batch_normalization (BatchNorm  (None, 512, 512, 64  256        ['conv2d[0][0]']                 \n",
            " alization)                     )                                                                 \n",
            "                                                                                                  \n",
            " activation (Activation)        (None, 512, 512, 64  0           ['batch_normalization[0][0]']    \n",
            "                                )                                                                 \n",
            "                                                                                                  \n",
            " conv2d_1 (Conv2D)              (None, 512, 512, 64  36928       ['activation[0][0]']             \n",
            "                                )                                                                 \n",
            "                                                                                                  \n",
            " batch_normalization_1 (BatchNo  (None, 512, 512, 64  256        ['conv2d_1[0][0]']               \n",
            " rmalization)                   )                                                                 \n",
            "                                                                                                  \n",
            " activation_1 (Activation)      (None, 512, 512, 64  0           ['batch_normalization_1[0][0]']  \n",
            "                                )                                                                 \n",
            "                                                                                                  \n",
            " max_pooling2d (MaxPooling2D)   (None, 256, 256, 64  0           ['activation_1[0][0]']           \n",
            "                                )                                                                 \n",
            "                                                                                                  \n",
            " conv2d_2 (Conv2D)              (None, 256, 256, 12  73856       ['max_pooling2d[0][0]']          \n",
            "                                8)                                                                \n",
            "                                                                                                  \n",
            " batch_normalization_2 (BatchNo  (None, 256, 256, 12  512        ['conv2d_2[0][0]']               \n",
            " rmalization)                   8)                                                                \n",
            "                                                                                                  \n",
            " activation_2 (Activation)      (None, 256, 256, 12  0           ['batch_normalization_2[0][0]']  \n",
            "                                8)                                                                \n",
            "                                                                                                  \n",
            " conv2d_3 (Conv2D)              (None, 256, 256, 12  147584      ['activation_2[0][0]']           \n",
            "                                8)                                                                \n",
            "                                                                                                  \n",
            " batch_normalization_3 (BatchNo  (None, 256, 256, 12  512        ['conv2d_3[0][0]']               \n",
            " rmalization)                   8)                                                                \n",
            "                                                                                                  \n",
            " activation_3 (Activation)      (None, 256, 256, 12  0           ['batch_normalization_3[0][0]']  \n",
            "                                8)                                                                \n",
            "                                                                                                  \n",
            " max_pooling2d_1 (MaxPooling2D)  (None, 128, 128, 12  0          ['activation_3[0][0]']           \n",
            "                                8)                                                                \n",
            "                                                                                                  \n",
            " conv2d_4 (Conv2D)              (None, 128, 128, 25  295168      ['max_pooling2d_1[0][0]']        \n",
            "                                6)                                                                \n",
            "                                                                                                  \n",
            " batch_normalization_4 (BatchNo  (None, 128, 128, 25  1024       ['conv2d_4[0][0]']               \n",
            " rmalization)                   6)                                                                \n",
            "                                                                                                  \n",
            " activation_4 (Activation)      (None, 128, 128, 25  0           ['batch_normalization_4[0][0]']  \n",
            "                                6)                                                                \n",
            "                                                                                                  \n",
            " conv2d_5 (Conv2D)              (None, 128, 128, 25  590080      ['activation_4[0][0]']           \n",
            "                                6)                                                                \n",
            "                                                                                                  \n",
            " batch_normalization_5 (BatchNo  (None, 128, 128, 25  1024       ['conv2d_5[0][0]']               \n",
            " rmalization)                   6)                                                                \n",
            "                                                                                                  \n",
            " activation_5 (Activation)      (None, 128, 128, 25  0           ['batch_normalization_5[0][0]']  \n",
            "                                6)                                                                \n",
            "                                                                                                  \n",
            " max_pooling2d_2 (MaxPooling2D)  (None, 64, 64, 256)  0          ['activation_5[0][0]']           \n",
            "                                                                                                  \n",
            " conv2d_6 (Conv2D)              (None, 64, 64, 512)  1180160     ['max_pooling2d_2[0][0]']        \n",
            "                                                                                                  \n",
            " batch_normalization_6 (BatchNo  (None, 64, 64, 512)  2048       ['conv2d_6[0][0]']               \n",
            " rmalization)                                                                                     \n",
            "                                                                                                  \n",
            " activation_6 (Activation)      (None, 64, 64, 512)  0           ['batch_normalization_6[0][0]']  \n",
            "                                                                                                  \n",
            " conv2d_7 (Conv2D)              (None, 64, 64, 512)  2359808     ['activation_6[0][0]']           \n",
            "                                                                                                  \n",
            " batch_normalization_7 (BatchNo  (None, 64, 64, 512)  2048       ['conv2d_7[0][0]']               \n",
            " rmalization)                                                                                     \n",
            "                                                                                                  \n",
            " activation_7 (Activation)      (None, 64, 64, 512)  0           ['batch_normalization_7[0][0]']  \n",
            "                                                                                                  \n",
            " max_pooling2d_3 (MaxPooling2D)  (None, 32, 32, 512)  0          ['activation_7[0][0]']           \n",
            "                                                                                                  \n",
            " conv2d_8 (Conv2D)              (None, 32, 32, 1024  4719616     ['max_pooling2d_3[0][0]']        \n",
            "                                )                                                                 \n",
            "                                                                                                  \n",
            " batch_normalization_8 (BatchNo  (None, 32, 32, 1024  4096       ['conv2d_8[0][0]']               \n",
            " rmalization)                   )                                                                 \n",
            "                                                                                                  \n",
            " activation_8 (Activation)      (None, 32, 32, 1024  0           ['batch_normalization_8[0][0]']  \n",
            "                                )                                                                 \n",
            "                                                                                                  \n",
            " conv2d_9 (Conv2D)              (None, 32, 32, 1024  9438208     ['activation_8[0][0]']           \n",
            "                                )                                                                 \n",
            "                                                                                                  \n",
            " batch_normalization_9 (BatchNo  (None, 32, 32, 1024  4096       ['conv2d_9[0][0]']               \n",
            " rmalization)                   )                                                                 \n",
            "                                                                                                  \n",
            " activation_9 (Activation)      (None, 32, 32, 1024  0           ['batch_normalization_9[0][0]']  \n",
            "                                )                                                                 \n",
            "                                                                                                  \n",
            " conv2d_transpose (Conv2DTransp  (None, 64, 64, 512)  2097664    ['activation_9[0][0]']           \n",
            " ose)                                                                                             \n",
            "                                                                                                  \n",
            " concatenate (Concatenate)      (None, 64, 64, 1024  0           ['conv2d_transpose[0][0]',       \n",
            "                                )                                 'activation_7[0][0]']           \n",
            "                                                                                                  \n",
            " conv2d_10 (Conv2D)             (None, 64, 64, 512)  4719104     ['concatenate[0][0]']            \n",
            "                                                                                                  \n",
            " batch_normalization_10 (BatchN  (None, 64, 64, 512)  2048       ['conv2d_10[0][0]']              \n",
            " ormalization)                                                                                    \n",
            "                                                                                                  \n",
            " activation_10 (Activation)     (None, 64, 64, 512)  0           ['batch_normalization_10[0][0]'] \n",
            "                                                                                                  \n",
            " conv2d_11 (Conv2D)             (None, 64, 64, 512)  2359808     ['activation_10[0][0]']          \n",
            "                                                                                                  \n",
            " batch_normalization_11 (BatchN  (None, 64, 64, 512)  2048       ['conv2d_11[0][0]']              \n",
            " ormalization)                                                                                    \n",
            "                                                                                                  \n",
            " activation_11 (Activation)     (None, 64, 64, 512)  0           ['batch_normalization_11[0][0]'] \n",
            "                                                                                                  \n",
            " conv2d_transpose_1 (Conv2DTran  (None, 128, 128, 25  524544     ['activation_11[0][0]']          \n",
            " spose)                         6)                                                                \n",
            "                                                                                                  \n",
            " concatenate_1 (Concatenate)    (None, 128, 128, 51  0           ['conv2d_transpose_1[0][0]',     \n",
            "                                2)                                'activation_5[0][0]']           \n",
            "                                                                                                  \n",
            " conv2d_12 (Conv2D)             (None, 128, 128, 25  1179904     ['concatenate_1[0][0]']          \n",
            "                                6)                                                                \n",
            "                                                                                                  \n",
            " batch_normalization_12 (BatchN  (None, 128, 128, 25  1024       ['conv2d_12[0][0]']              \n",
            " ormalization)                  6)                                                                \n",
            "                                                                                                  \n",
            " activation_12 (Activation)     (None, 128, 128, 25  0           ['batch_normalization_12[0][0]'] \n",
            "                                6)                                                                \n",
            "                                                                                                  \n",
            " conv2d_13 (Conv2D)             (None, 128, 128, 25  590080      ['activation_12[0][0]']          \n",
            "                                6)                                                                \n",
            "                                                                                                  \n",
            " batch_normalization_13 (BatchN  (None, 128, 128, 25  1024       ['conv2d_13[0][0]']              \n",
            " ormalization)                  6)                                                                \n",
            "                                                                                                  \n",
            " activation_13 (Activation)     (None, 128, 128, 25  0           ['batch_normalization_13[0][0]'] \n",
            "                                6)                                                                \n",
            "                                                                                                  \n",
            " conv2d_transpose_2 (Conv2DTran  (None, 256, 256, 12  131200     ['activation_13[0][0]']          \n",
            " spose)                         8)                                                                \n",
            "                                                                                                  \n",
            " concatenate_2 (Concatenate)    (None, 256, 256, 25  0           ['conv2d_transpose_2[0][0]',     \n",
            "                                6)                                'activation_3[0][0]']           \n",
            "                                                                                                  \n",
            " conv2d_14 (Conv2D)             (None, 256, 256, 12  295040      ['concatenate_2[0][0]']          \n",
            "                                8)                                                                \n",
            "                                                                                                  \n",
            " batch_normalization_14 (BatchN  (None, 256, 256, 12  512        ['conv2d_14[0][0]']              \n",
            " ormalization)                  8)                                                                \n",
            "                                                                                                  \n",
            " activation_14 (Activation)     (None, 256, 256, 12  0           ['batch_normalization_14[0][0]'] \n",
            "                                8)                                                                \n",
            "                                                                                                  \n",
            " conv2d_15 (Conv2D)             (None, 256, 256, 12  147584      ['activation_14[0][0]']          \n",
            "                                8)                                                                \n",
            "                                                                                                  \n",
            " batch_normalization_15 (BatchN  (None, 256, 256, 12  512        ['conv2d_15[0][0]']              \n",
            " ormalization)                  8)                                                                \n",
            "                                                                                                  \n",
            " activation_15 (Activation)     (None, 256, 256, 12  0           ['batch_normalization_15[0][0]'] \n",
            "                                8)                                                                \n",
            "                                                                                                  \n",
            " conv2d_transpose_3 (Conv2DTran  (None, 512, 512, 64  32832      ['activation_15[0][0]']          \n",
            " spose)                         )                                                                 \n",
            "                                                                                                  \n",
            " concatenate_3 (Concatenate)    (None, 512, 512, 12  0           ['conv2d_transpose_3[0][0]',     \n",
            "                                8)                                'activation_1[0][0]']           \n",
            "                                                                                                  \n",
            " conv2d_16 (Conv2D)             (None, 512, 512, 64  73792       ['concatenate_3[0][0]']          \n",
            "                                )                                                                 \n",
            "                                                                                                  \n",
            " batch_normalization_16 (BatchN  (None, 512, 512, 64  256        ['conv2d_16[0][0]']              \n",
            " ormalization)                  )                                                                 \n",
            "                                                                                                  \n",
            " activation_16 (Activation)     (None, 512, 512, 64  0           ['batch_normalization_16[0][0]'] \n",
            "                                )                                                                 \n",
            "                                                                                                  \n",
            " conv2d_17 (Conv2D)             (None, 512, 512, 64  36928       ['activation_16[0][0]']          \n",
            "                                )                                                                 \n",
            "                                                                                                  \n",
            " batch_normalization_17 (BatchN  (None, 512, 512, 64  256        ['conv2d_17[0][0]']              \n",
            " ormalization)                  )                                                                 \n",
            "                                                                                                  \n",
            " activation_17 (Activation)     (None, 512, 512, 64  0           ['batch_normalization_17[0][0]'] \n",
            "                                )                                                                 \n",
            "                                                                                                  \n",
            " conv2d_18 (Conv2D)             (None, 512, 512, 1)  65          ['activation_17[0][0]']          \n",
            "                                                                                                  \n",
            "==================================================================================================\n",
            "Total params: 31,055,297\n",
            "Trainable params: 31,043,521\n",
            "Non-trainable params: 11,776\n",
            "__________________________________________________________________________________________________\n"
          ]
        }
      ]
    },
    {
      "cell_type": "code",
      "metadata": {
        "id": "nt8Sm-MXCYvp"
      },
      "source": [
        ""
      ],
      "execution_count": 13,
      "outputs": []
    },
    {
      "cell_type": "markdown",
      "metadata": {
        "id": "u-nWSf7uaLXC"
      },
      "source": [
        "# Metric"
      ]
    },
    {
      "cell_type": "code",
      "metadata": {
        "id": "ux5bPMyqaIr2"
      },
      "source": [
        "import numpy as np\n",
        "import tensorflow as tf\n",
        "from tensorflow.keras import backend as K"
      ],
      "execution_count": 14,
      "outputs": []
    },
    {
      "cell_type": "code",
      "metadata": {
        "id": "-0GwKT5gaXBB"
      },
      "source": [
        "def iou(y_true, y_pred):\n",
        "    def f(y_true, y_pred):\n",
        "        intersection = (y_true * y_pred).sum()\n",
        "        union = y_true.sum() + y_pred.sum() - intersection\n",
        "        x = (intersection + 1e-15) / (union + 1e-15)\n",
        "        x = x.astype(np.float32)\n",
        "        return x\n",
        "    return tf.numpy_function(f, [y_true, y_pred], tf.float32)"
      ],
      "execution_count": 15,
      "outputs": []
    },
    {
      "cell_type": "code",
      "metadata": {
        "id": "JoBHU_1Sacef"
      },
      "source": [
        "smooth = 1e-15\n",
        "def dice_coef(y_true, y_pred):\n",
        "    y_true = tf.keras.layers.Flatten()(y_true)\n",
        "    y_pred = tf.keras.layers.Flatten()(y_pred)\n",
        "    intersection = tf.reduce_sum(y_true * y_pred)\n",
        "    return (2. * intersection + smooth) / (tf.reduce_sum(y_true) + tf.reduce_sum(y_pred) + smooth)"
      ],
      "execution_count": 16,
      "outputs": []
    },
    {
      "cell_type": "code",
      "metadata": {
        "id": "hN8lqWsKaelp"
      },
      "source": [
        "def dice_loss(y_true, y_pred):\n",
        "    return 1.0 - dice_coef(y_true, y_pred)"
      ],
      "execution_count": 17,
      "outputs": []
    },
    {
      "cell_type": "markdown",
      "metadata": {
        "id": "lz3PuzabYuOR"
      },
      "source": [
        "# Training\n"
      ]
    },
    {
      "cell_type": "code",
      "metadata": {
        "id": "O6xU6icHYtUn"
      },
      "source": [
        "import os\n",
        "os.environ[\"TF_CPP_MIN_LOG_LEVEL\"] = \"2\"\n",
        "import numpy as np\n",
        "import cv2\n",
        "from glob import glob\n",
        "from sklearn.utils import shuffle\n",
        "import tensorflow as tf\n",
        "from tensorflow.keras.callbacks import ModelCheckpoint, CSVLogger, ReduceLROnPlateau, EarlyStopping, TensorBoard\n",
        "from tensorflow.keras.optimizers import Adam\n",
        "from tensorflow.keras.metrics import Recall, Precision\n"
      ],
      "execution_count": 18,
      "outputs": []
    },
    {
      "cell_type": "code",
      "metadata": {
        "id": "odXO1Sq-apHv"
      },
      "source": [
        "H = 512\n",
        "W = 512"
      ],
      "execution_count": 19,
      "outputs": []
    },
    {
      "cell_type": "code",
      "metadata": {
        "id": "ad2a3IgQarod"
      },
      "source": [
        "def create_dir(path):\n",
        "    if not os.path.exists(path):\n",
        "        os.makedirs(path)"
      ],
      "execution_count": 20,
      "outputs": []
    },
    {
      "cell_type": "code",
      "metadata": {
        "id": "KIRpl_FWasuA"
      },
      "source": [
        "def load_data(path):\n",
        "    x = sorted(glob(os.path.join(path, \"image\", \"*.jpg\")))\n",
        "    y = sorted(glob(os.path.join(path, \"mask\", \"*.jpg\")))\n",
        "    return x, y"
      ],
      "execution_count": 21,
      "outputs": []
    },
    {
      "cell_type": "code",
      "metadata": {
        "id": "3tnI_ZPaax7H"
      },
      "source": [
        "def shuffling(x, y):\n",
        "    x, y = shuffle(x, y, random_state=42)\n",
        "    return x, y"
      ],
      "execution_count": 22,
      "outputs": []
    },
    {
      "cell_type": "code",
      "metadata": {
        "id": "bF4mZL0Aa0gR"
      },
      "source": [
        "def read_image(path):\n",
        "    path = path.decode()\n",
        "    x = cv2.imread(path, cv2.IMREAD_COLOR)\n",
        "    # x = cv2.resize(x, (W, H))\n",
        "    x = x/255.0\n",
        "    x = x.astype(np.float32)\n",
        "    return x"
      ],
      "execution_count": 23,
      "outputs": []
    },
    {
      "cell_type": "code",
      "metadata": {
        "id": "aOyJgzyga3iZ"
      },
      "source": [
        "def read_mask(path):\n",
        "    path = path.decode()\n",
        "    x = cv2.imread(path, cv2.IMREAD_GRAYSCALE)  ## (512, 512)\n",
        "    # x = cv2.resize(x, (W, H))\n",
        "    x = x/255.0\n",
        "    x = x.astype(np.float32)\n",
        "    x = np.expand_dims(x, axis=-1)              ## (512, 512, 1)\n",
        "    return x"
      ],
      "execution_count": 24,
      "outputs": []
    },
    {
      "cell_type": "code",
      "metadata": {
        "id": "XrSakcs8a51T"
      },
      "source": [
        "def tf_parse(x, y):\n",
        "    def _parse(x, y):\n",
        "        x = read_image(x)\n",
        "        y = read_mask(y)\n",
        "        return x, y\n",
        "\n",
        "    x, y = tf.numpy_function(_parse, [x, y], [tf.float32, tf.float32])\n",
        "    x.set_shape([H, W, 3])\n",
        "    y.set_shape([H, W, 1])\n",
        "    return x, y"
      ],
      "execution_count": 25,
      "outputs": []
    },
    {
      "cell_type": "code",
      "metadata": {
        "id": "S4WFOls-a8RP"
      },
      "source": [
        "def tf_dataset(X, Y, batch_size=2):\n",
        "    dataset = tf.data.Dataset.from_tensor_slices((X, Y))\n",
        "    dataset = dataset.map(tf_parse)\n",
        "    dataset = dataset.batch(batch_size)\n",
        "    dataset = dataset.prefetch(4)\n",
        "    return dataset"
      ],
      "execution_count": 26,
      "outputs": []
    },
    {
      "cell_type": "code",
      "metadata": {
        "colab": {
          "base_uri": "https://localhost:8080/"
        },
        "id": "_XOlxR3VbAjL",
        "outputId": "046a31a2-d4c5-4595-a4b1-f3b7f7432a2b"
      },
      "source": [
        "if __name__ == \"__main__\":\n",
        "    \"\"\" Seeding \"\"\"\n",
        "    np.random.seed(42)\n",
        "    tf.random.set_seed(42)\n",
        "\n",
        "    \"\"\" Directory to save files \"\"\"\n",
        "    create_dir(\"/content/drive/MyDrive/project/UNet layers/4_Unet/new_data/files\")\n",
        "\n",
        "    \"\"\" Hyperparameters \"\"\"\n",
        "    batch_size = 2\n",
        "    lr = 1e-4\n",
        "    num_epochs = 100\n",
        "    model_path = os.path.join(\"/content/drive/MyDrive/project/UNet layers/4_Unet/new_data/files\", \"model.h5\")\n",
        "    csv_path = os.path.join(\"/content/drive/MyDrive/project/UNet layers/4_Unet/new_data/files\", \"data.csv\")\n",
        "\n",
        "    \"\"\" Dataset \"\"\"\n",
        "    dataset_path = \"/content/drive/MyDrive/project/UNet layers/4_Unet/new_data\"\n",
        "    train_path = os.path.join(dataset_path, \"train\")\n",
        "    valid_path = os.path.join(dataset_path, \"test\")\n",
        "\n",
        "    train_x, train_y = load_data(train_path)\n",
        "    train_x, train_y = shuffling(train_x, train_y)\n",
        "    valid_x, valid_y = load_data(valid_path)\n",
        "\n",
        "    print(f\"Train: {len(train_x)} - {len(train_y)}\")\n",
        "    print(f\"Valid: {len(valid_x)} - {len(valid_y)}\")\n",
        "\n",
        "    train_dataset = tf_dataset(train_x, train_y, batch_size=batch_size)\n",
        "    valid_dataset = tf_dataset(valid_x, valid_y, batch_size=batch_size)\n",
        "\n",
        "    train_steps = len(train_x)//batch_size\n",
        "    valid_setps = len(valid_x)//batch_size\n",
        "\n",
        "    if len(train_x) % batch_size != 0:\n",
        "        train_steps += 1\n",
        "    if len(valid_x) % batch_size != 0:\n",
        "        valid_setps += 1\n",
        "\n",
        "    \"\"\" Model \"\"\"\n",
        "    model = build_unet((H, W, 3))\n",
        "    model.compile(loss=dice_loss, optimizer=Adam(lr), metrics=[dice_coef, iou, Recall(), Precision()])\n",
        "    # model.summary()\n",
        "\n",
        "    callbacks = [\n",
        "        ModelCheckpoint(model_path, verbose=1, save_best_only=True),\n",
        "        ReduceLROnPlateau(monitor=\"val_loss\", factor=0.1, patience=5, min_lr=1e-6, verbose=1),\n",
        "        CSVLogger(csv_path),\n",
        "        TensorBoard(),\n",
        "        EarlyStopping(monitor=\"val_loss\", patience=10, restore_best_weights=False)\n",
        "    ]\n",
        "\n",
        "    model.fit(\n",
        "        train_dataset,\n",
        "        epochs=num_epochs,\n",
        "        validation_data=valid_dataset,\n",
        "        steps_per_epoch=train_steps,\n",
        "        validation_steps=valid_setps,\n",
        "        callbacks=callbacks\n",
        "    )"
      ],
      "execution_count": 27,
      "outputs": [
        {
          "output_type": "stream",
          "name": "stdout",
          "text": [
            "Train: 90 - 90\n",
            "Valid: 15 - 15\n",
            "Epoch 1/100\n",
            "45/45 [==============================] - ETA: 0s - loss: 0.6876 - dice_coef: 0.3124 - iou: 0.1876 - recall: 0.6689 - precision: 0.4080\n",
            "Epoch 00001: val_loss improved from inf to 0.85262, saving model to /content/drive/MyDrive/project/UNet layers/4_Unet/new_data/files/model.h5\n",
            "45/45 [==============================] - 116s 2s/step - loss: 0.6876 - dice_coef: 0.3124 - iou: 0.1876 - recall: 0.6689 - precision: 0.4080 - val_loss: 0.8526 - val_dice_coef: 0.1463 - val_iou: 0.0790 - val_recall: 4.5609e-04 - val_precision: 0.0037 - lr: 1.0000e-04\n",
            "Epoch 2/100\n",
            "45/45 [==============================] - ETA: 0s - loss: 0.5232 - dice_coef: 0.4768 - iou: 0.3143 - recall: 0.4490 - precision: 0.7577\n",
            "Epoch 00002: val_loss did not improve from 0.85262\n",
            "45/45 [==============================] - 77s 2s/step - loss: 0.5232 - dice_coef: 0.4768 - iou: 0.3143 - recall: 0.4490 - precision: 0.7577 - val_loss: 0.8665 - val_dice_coef: 0.1327 - val_iou: 0.0711 - val_recall: 0.0000e+00 - val_precision: 0.0000e+00 - lr: 1.0000e-04\n",
            "Epoch 3/100\n",
            "45/45 [==============================] - ETA: 0s - loss: 0.4586 - dice_coef: 0.5414 - iou: 0.3721 - recall: 0.4289 - precision: 0.8296\n",
            "Epoch 00003: val_loss did not improve from 0.85262\n",
            "45/45 [==============================] - 77s 2s/step - loss: 0.4586 - dice_coef: 0.5414 - iou: 0.3721 - recall: 0.4289 - precision: 0.8296 - val_loss: 0.8827 - val_dice_coef: 0.1167 - val_iou: 0.0620 - val_recall: 0.0000e+00 - val_precision: 0.0000e+00 - lr: 1.0000e-04\n",
            "Epoch 4/100\n",
            "45/45 [==============================] - ETA: 0s - loss: 0.4251 - dice_coef: 0.5749 - iou: 0.4043 - recall: 0.4242 - precision: 0.8591\n",
            "Epoch 00004: val_loss did not improve from 0.85262\n",
            "45/45 [==============================] - 77s 2s/step - loss: 0.4251 - dice_coef: 0.5749 - iou: 0.4043 - recall: 0.4242 - precision: 0.8591 - val_loss: 0.8967 - val_dice_coef: 0.1027 - val_iou: 0.0542 - val_recall: 4.7758e-06 - val_precision: 1.0000 - lr: 1.0000e-04\n",
            "Epoch 5/100\n",
            "45/45 [==============================] - ETA: 0s - loss: 0.3996 - dice_coef: 0.6004 - iou: 0.4299 - recall: 0.4190 - precision: 0.8816\n",
            "Epoch 00005: val_loss did not improve from 0.85262\n",
            "45/45 [==============================] - 77s 2s/step - loss: 0.3996 - dice_coef: 0.6004 - iou: 0.4299 - recall: 0.4190 - precision: 0.8816 - val_loss: 0.9179 - val_dice_coef: 0.0815 - val_iou: 0.0425 - val_recall: 0.0031 - val_precision: 0.0530 - lr: 1.0000e-04\n",
            "Epoch 6/100\n",
            "45/45 [==============================] - ETA: 0s - loss: 0.3764 - dice_coef: 0.6236 - iou: 0.4540 - recall: 0.4148 - precision: 0.9011\n",
            "Epoch 00006: val_loss did not improve from 0.85262\n",
            "\n",
            "Epoch 00006: ReduceLROnPlateau reducing learning rate to 9.999999747378752e-06.\n",
            "45/45 [==============================] - 77s 2s/step - loss: 0.3764 - dice_coef: 0.6236 - iou: 0.4540 - recall: 0.4148 - precision: 0.9011 - val_loss: 0.9199 - val_dice_coef: 0.0790 - val_iou: 0.0413 - val_recall: 0.0106 - val_precision: 0.1480 - lr: 1.0000e-04\n",
            "Epoch 7/100\n",
            "45/45 [==============================] - ETA: 0s - loss: 0.3602 - dice_coef: 0.6398 - iou: 0.4712 - recall: 0.4143 - precision: 0.9146\n",
            "Epoch 00007: val_loss did not improve from 0.85262\n",
            "45/45 [==============================] - 77s 2s/step - loss: 0.3602 - dice_coef: 0.6398 - iou: 0.4712 - recall: 0.4143 - precision: 0.9146 - val_loss: 0.8642 - val_dice_coef: 0.1326 - val_iou: 0.0720 - val_recall: 0.0365 - val_precision: 0.2764 - lr: 1.0000e-05\n",
            "Epoch 8/100\n",
            "45/45 [==============================] - ETA: 0s - loss: 0.3528 - dice_coef: 0.6472 - iou: 0.4792 - recall: 0.4169 - precision: 0.9217\n",
            "Epoch 00008: val_loss improved from 0.85262 to 0.75403, saving model to /content/drive/MyDrive/project/UNet layers/4_Unet/new_data/files/model.h5\n",
            "45/45 [==============================] - 82s 2s/step - loss: 0.3528 - dice_coef: 0.6472 - iou: 0.4792 - recall: 0.4169 - precision: 0.9217 - val_loss: 0.7540 - val_dice_coef: 0.2415 - val_iou: 0.1395 - val_recall: 0.0907 - val_precision: 0.4769 - lr: 1.0000e-05\n",
            "Epoch 9/100\n",
            "45/45 [==============================] - ETA: 0s - loss: 0.3481 - dice_coef: 0.6519 - iou: 0.4844 - recall: 0.4182 - precision: 0.9260\n",
            "Epoch 00009: val_loss improved from 0.75403 to 0.62559, saving model to /content/drive/MyDrive/project/UNet layers/4_Unet/new_data/files/model.h5\n",
            "45/45 [==============================] - 82s 2s/step - loss: 0.3481 - dice_coef: 0.6519 - iou: 0.4844 - recall: 0.4182 - precision: 0.9260 - val_loss: 0.6256 - val_dice_coef: 0.3706 - val_iou: 0.2293 - val_recall: 0.1647 - val_precision: 0.6373 - lr: 1.0000e-05\n",
            "Epoch 10/100\n",
            "45/45 [==============================] - ETA: 0s - loss: 0.3434 - dice_coef: 0.6566 - iou: 0.4896 - recall: 0.4193 - precision: 0.9299\n",
            "Epoch 00010: val_loss improved from 0.62559 to 0.52557, saving model to /content/drive/MyDrive/project/UNet layers/4_Unet/new_data/files/model.h5\n",
            "45/45 [==============================] - 82s 2s/step - loss: 0.3434 - dice_coef: 0.6566 - iou: 0.4896 - recall: 0.4193 - precision: 0.9299 - val_loss: 0.5256 - val_dice_coef: 0.4717 - val_iou: 0.3098 - val_recall: 0.2357 - val_precision: 0.7472 - lr: 1.0000e-05\n",
            "Epoch 11/100\n",
            "45/45 [==============================] - ETA: 0s - loss: 0.3387 - dice_coef: 0.6613 - iou: 0.4949 - recall: 0.4202 - precision: 0.9337\n",
            "Epoch 00011: val_loss improved from 0.52557 to 0.45907, saving model to /content/drive/MyDrive/project/UNet layers/4_Unet/new_data/files/model.h5\n",
            "45/45 [==============================] - 82s 2s/step - loss: 0.3387 - dice_coef: 0.6613 - iou: 0.4949 - recall: 0.4202 - precision: 0.9337 - val_loss: 0.4591 - val_dice_coef: 0.5388 - val_iou: 0.3695 - val_recall: 0.2923 - val_precision: 0.8415 - lr: 1.0000e-05\n",
            "Epoch 12/100\n",
            "45/45 [==============================] - ETA: 0s - loss: 0.3338 - dice_coef: 0.6662 - iou: 0.5003 - recall: 0.4212 - precision: 0.9376\n",
            "Epoch 00012: val_loss improved from 0.45907 to 0.41456, saving model to /content/drive/MyDrive/project/UNet layers/4_Unet/new_data/files/model.h5\n",
            "45/45 [==============================] - 82s 2s/step - loss: 0.3338 - dice_coef: 0.6662 - iou: 0.5003 - recall: 0.4212 - precision: 0.9376 - val_loss: 0.4146 - val_dice_coef: 0.5836 - val_iou: 0.4125 - val_recall: 0.3355 - val_precision: 0.9037 - lr: 1.0000e-05\n",
            "Epoch 13/100\n",
            "45/45 [==============================] - ETA: 0s - loss: 0.3289 - dice_coef: 0.6711 - iou: 0.5058 - recall: 0.4219 - precision: 0.9412\n",
            "Epoch 00013: val_loss improved from 0.41456 to 0.38575, saving model to /content/drive/MyDrive/project/UNet layers/4_Unet/new_data/files/model.h5\n",
            "45/45 [==============================] - 83s 2s/step - loss: 0.3289 - dice_coef: 0.6711 - iou: 0.5058 - recall: 0.4219 - precision: 0.9412 - val_loss: 0.3857 - val_dice_coef: 0.6123 - val_iou: 0.4417 - val_recall: 0.3668 - val_precision: 0.9224 - lr: 1.0000e-05\n",
            "Epoch 14/100\n",
            "45/45 [==============================] - ETA: 0s - loss: 0.3242 - dice_coef: 0.6758 - iou: 0.5113 - recall: 0.4225 - precision: 0.9447\n",
            "Epoch 00014: val_loss improved from 0.38575 to 0.36974, saving model to /content/drive/MyDrive/project/UNet layers/4_Unet/new_data/files/model.h5\n",
            "45/45 [==============================] - 83s 2s/step - loss: 0.3242 - dice_coef: 0.6758 - iou: 0.5113 - recall: 0.4225 - precision: 0.9447 - val_loss: 0.3697 - val_dice_coef: 0.6281 - val_iou: 0.4583 - val_recall: 0.3883 - val_precision: 0.9256 - lr: 1.0000e-05\n",
            "Epoch 15/100\n",
            "45/45 [==============================] - ETA: 0s - loss: 0.3195 - dice_coef: 0.6805 - iou: 0.5165 - recall: 0.4231 - precision: 0.9478\n",
            "Epoch 00015: val_loss improved from 0.36974 to 0.36228, saving model to /content/drive/MyDrive/project/UNet layers/4_Unet/new_data/files/model.h5\n",
            "45/45 [==============================] - 83s 2s/step - loss: 0.3195 - dice_coef: 0.6805 - iou: 0.5165 - recall: 0.4231 - precision: 0.9478 - val_loss: 0.3623 - val_dice_coef: 0.6354 - val_iou: 0.4660 - val_recall: 0.4021 - val_precision: 0.9223 - lr: 1.0000e-05\n",
            "Epoch 16/100\n",
            "45/45 [==============================] - ETA: 0s - loss: 0.3153 - dice_coef: 0.6847 - iou: 0.5215 - recall: 0.4236 - precision: 0.9508\n",
            "Epoch 00016: val_loss improved from 0.36228 to 0.35864, saving model to /content/drive/MyDrive/project/UNet layers/4_Unet/new_data/files/model.h5\n",
            "45/45 [==============================] - 83s 2s/step - loss: 0.3153 - dice_coef: 0.6847 - iou: 0.5215 - recall: 0.4236 - precision: 0.9508 - val_loss: 0.3586 - val_dice_coef: 0.6389 - val_iou: 0.4699 - val_recall: 0.4145 - val_precision: 0.9149 - lr: 1.0000e-05\n",
            "Epoch 17/100\n",
            "45/45 [==============================] - ETA: 0s - loss: 0.3117 - dice_coef: 0.6883 - iou: 0.5256 - recall: 0.4236 - precision: 0.9528\n",
            "Epoch 00017: val_loss improved from 0.35864 to 0.35556, saving model to /content/drive/MyDrive/project/UNet layers/4_Unet/new_data/files/model.h5\n",
            "45/45 [==============================] - 84s 2s/step - loss: 0.3117 - dice_coef: 0.6883 - iou: 0.5256 - recall: 0.4236 - precision: 0.9528 - val_loss: 0.3556 - val_dice_coef: 0.6420 - val_iou: 0.4732 - val_recall: 0.4199 - val_precision: 0.9112 - lr: 1.0000e-05\n",
            "Epoch 18/100\n",
            "45/45 [==============================] - ETA: 0s - loss: 0.3095 - dice_coef: 0.6905 - iou: 0.5282 - recall: 0.4236 - precision: 0.9534\n",
            "Epoch 00018: val_loss improved from 0.35556 to 0.35396, saving model to /content/drive/MyDrive/project/UNet layers/4_Unet/new_data/files/model.h5\n",
            "45/45 [==============================] - 82s 2s/step - loss: 0.3095 - dice_coef: 0.6905 - iou: 0.5282 - recall: 0.4236 - precision: 0.9534 - val_loss: 0.3540 - val_dice_coef: 0.6436 - val_iou: 0.4749 - val_recall: 0.4273 - val_precision: 0.9050 - lr: 1.0000e-05\n",
            "Epoch 19/100\n",
            "45/45 [==============================] - ETA: 0s - loss: 0.3074 - dice_coef: 0.6926 - iou: 0.5306 - recall: 0.4239 - precision: 0.9537\n",
            "Epoch 00019: val_loss did not improve from 0.35396\n",
            "45/45 [==============================] - 78s 2s/step - loss: 0.3074 - dice_coef: 0.6926 - iou: 0.5306 - recall: 0.4239 - precision: 0.9537 - val_loss: 0.3558 - val_dice_coef: 0.6419 - val_iou: 0.4731 - val_recall: 0.4197 - val_precision: 0.9058 - lr: 1.0000e-05\n",
            "Epoch 20/100\n",
            "45/45 [==============================] - ETA: 0s - loss: 0.3039 - dice_coef: 0.6961 - iou: 0.5347 - recall: 0.4239 - precision: 0.9560\n",
            "Epoch 00020: val_loss improved from 0.35396 to 0.35078, saving model to /content/drive/MyDrive/project/UNet layers/4_Unet/new_data/files/model.h5\n",
            "45/45 [==============================] - 82s 2s/step - loss: 0.3039 - dice_coef: 0.6961 - iou: 0.5347 - recall: 0.4239 - precision: 0.9560 - val_loss: 0.3508 - val_dice_coef: 0.6471 - val_iou: 0.4787 - val_recall: 0.4206 - val_precision: 0.9056 - lr: 1.0000e-05\n",
            "Epoch 21/100\n",
            "45/45 [==============================] - ETA: 0s - loss: 0.3010 - dice_coef: 0.6990 - iou: 0.5382 - recall: 0.4240 - precision: 0.9578\n",
            "Epoch 00021: val_loss improved from 0.35078 to 0.34961, saving model to /content/drive/MyDrive/project/UNet layers/4_Unet/new_data/files/model.h5\n",
            "45/45 [==============================] - 82s 2s/step - loss: 0.3010 - dice_coef: 0.6990 - iou: 0.5382 - recall: 0.4240 - precision: 0.9578 - val_loss: 0.3496 - val_dice_coef: 0.6480 - val_iou: 0.4797 - val_recall: 0.4213 - val_precision: 0.9080 - lr: 1.0000e-05\n",
            "Epoch 22/100\n",
            "45/45 [==============================] - ETA: 0s - loss: 0.2983 - dice_coef: 0.7017 - iou: 0.5414 - recall: 0.4236 - precision: 0.9594\n",
            "Epoch 00022: val_loss improved from 0.34961 to 0.34960, saving model to /content/drive/MyDrive/project/UNet layers/4_Unet/new_data/files/model.h5\n",
            "45/45 [==============================] - 82s 2s/step - loss: 0.2983 - dice_coef: 0.7017 - iou: 0.5414 - recall: 0.4236 - precision: 0.9594 - val_loss: 0.3496 - val_dice_coef: 0.6481 - val_iou: 0.4798 - val_recall: 0.4119 - val_precision: 0.9101 - lr: 1.0000e-05\n",
            "Epoch 23/100\n",
            "45/45 [==============================] - ETA: 0s - loss: 0.2960 - dice_coef: 0.7040 - iou: 0.5441 - recall: 0.4230 - precision: 0.9607\n",
            "Epoch 00023: val_loss did not improve from 0.34960\n",
            "45/45 [==============================] - 78s 2s/step - loss: 0.2960 - dice_coef: 0.7040 - iou: 0.5441 - recall: 0.4230 - precision: 0.9607 - val_loss: 0.3527 - val_dice_coef: 0.6452 - val_iou: 0.4766 - val_recall: 0.3993 - val_precision: 0.9096 - lr: 1.0000e-05\n",
            "Epoch 24/100\n",
            "45/45 [==============================] - ETA: 0s - loss: 0.2946 - dice_coef: 0.7054 - iou: 0.5457 - recall: 0.4231 - precision: 0.9605\n",
            "Epoch 00024: val_loss improved from 0.34960 to 0.34650, saving model to /content/drive/MyDrive/project/UNet layers/4_Unet/new_data/files/model.h5\n",
            "45/45 [==============================] - 81s 2s/step - loss: 0.2946 - dice_coef: 0.7054 - iou: 0.5457 - recall: 0.4231 - precision: 0.9605 - val_loss: 0.3465 - val_dice_coef: 0.6514 - val_iou: 0.4834 - val_recall: 0.4084 - val_precision: 0.9149 - lr: 1.0000e-05\n",
            "Epoch 25/100\n",
            "45/45 [==============================] - ETA: 0s - loss: 0.2919 - dice_coef: 0.7081 - iou: 0.5490 - recall: 0.4236 - precision: 0.9616\n",
            "Epoch 00025: val_loss did not improve from 0.34650\n",
            "45/45 [==============================] - 78s 2s/step - loss: 0.2919 - dice_coef: 0.7081 - iou: 0.5490 - recall: 0.4236 - precision: 0.9616 - val_loss: 0.3479 - val_dice_coef: 0.6499 - val_iou: 0.4818 - val_recall: 0.4199 - val_precision: 0.9068 - lr: 1.0000e-05\n",
            "Epoch 26/100\n",
            "45/45 [==============================] - ETA: 0s - loss: 0.2891 - dice_coef: 0.7109 - iou: 0.5524 - recall: 0.4228 - precision: 0.9637\n",
            "Epoch 00026: val_loss did not improve from 0.34650\n",
            "45/45 [==============================] - 77s 2s/step - loss: 0.2891 - dice_coef: 0.7109 - iou: 0.5524 - recall: 0.4228 - precision: 0.9637 - val_loss: 0.3482 - val_dice_coef: 0.6496 - val_iou: 0.4814 - val_recall: 0.4187 - val_precision: 0.9077 - lr: 1.0000e-05\n",
            "Epoch 27/100\n",
            "45/45 [==============================] - ETA: 0s - loss: 0.2870 - dice_coef: 0.7130 - iou: 0.5549 - recall: 0.4225 - precision: 0.9649\n",
            "Epoch 00027: val_loss improved from 0.34650 to 0.34575, saving model to /content/drive/MyDrive/project/UNet layers/4_Unet/new_data/files/model.h5\n",
            "45/45 [==============================] - 82s 2s/step - loss: 0.2870 - dice_coef: 0.7130 - iou: 0.5549 - recall: 0.4225 - precision: 0.9649 - val_loss: 0.3457 - val_dice_coef: 0.6521 - val_iou: 0.4842 - val_recall: 0.4230 - val_precision: 0.9058 - lr: 1.0000e-05\n",
            "Epoch 28/100\n",
            "45/45 [==============================] - ETA: 0s - loss: 0.2848 - dice_coef: 0.7152 - iou: 0.5576 - recall: 0.4223 - precision: 0.9659\n",
            "Epoch 00028: val_loss improved from 0.34575 to 0.34231, saving model to /content/drive/MyDrive/project/UNet layers/4_Unet/new_data/files/model.h5\n",
            "45/45 [==============================] - 82s 2s/step - loss: 0.2848 - dice_coef: 0.7152 - iou: 0.5576 - recall: 0.4223 - precision: 0.9659 - val_loss: 0.3423 - val_dice_coef: 0.6556 - val_iou: 0.4880 - val_recall: 0.4261 - val_precision: 0.9029 - lr: 1.0000e-05\n",
            "Epoch 29/100\n",
            "45/45 [==============================] - ETA: 0s - loss: 0.2829 - dice_coef: 0.7171 - iou: 0.5599 - recall: 0.4221 - precision: 0.9666\n",
            "Epoch 00029: val_loss improved from 0.34231 to 0.34121, saving model to /content/drive/MyDrive/project/UNet layers/4_Unet/new_data/files/model.h5\n",
            "45/45 [==============================] - 82s 2s/step - loss: 0.2829 - dice_coef: 0.7171 - iou: 0.5599 - recall: 0.4221 - precision: 0.9666 - val_loss: 0.3412 - val_dice_coef: 0.6565 - val_iou: 0.4891 - val_recall: 0.4200 - val_precision: 0.9065 - lr: 1.0000e-05\n",
            "Epoch 30/100\n",
            "45/45 [==============================] - ETA: 0s - loss: 0.2811 - dice_coef: 0.7189 - iou: 0.5619 - recall: 0.4225 - precision: 0.9670\n",
            "Epoch 00030: val_loss did not improve from 0.34121\n",
            "45/45 [==============================] - 78s 2s/step - loss: 0.2811 - dice_coef: 0.7189 - iou: 0.5619 - recall: 0.4225 - precision: 0.9670 - val_loss: 0.3423 - val_dice_coef: 0.6555 - val_iou: 0.4880 - val_recall: 0.4009 - val_precision: 0.9199 - lr: 1.0000e-05\n",
            "Epoch 31/100\n",
            "45/45 [==============================] - ETA: 0s - loss: 0.2794 - dice_coef: 0.7206 - iou: 0.5641 - recall: 0.4229 - precision: 0.9673\n",
            "Epoch 00031: val_loss did not improve from 0.34121\n",
            "45/45 [==============================] - 77s 2s/step - loss: 0.2794 - dice_coef: 0.7206 - iou: 0.5641 - recall: 0.4229 - precision: 0.9673 - val_loss: 0.3459 - val_dice_coef: 0.6520 - val_iou: 0.4841 - val_recall: 0.4040 - val_precision: 0.9126 - lr: 1.0000e-05\n",
            "Epoch 32/100\n",
            "45/45 [==============================] - ETA: 0s - loss: 0.2773 - dice_coef: 0.7227 - iou: 0.5666 - recall: 0.4221 - precision: 0.9683\n",
            "Epoch 00032: val_loss did not improve from 0.34121\n",
            "45/45 [==============================] - 77s 2s/step - loss: 0.2773 - dice_coef: 0.7227 - iou: 0.5666 - recall: 0.4221 - precision: 0.9683 - val_loss: 0.3420 - val_dice_coef: 0.6557 - val_iou: 0.4882 - val_recall: 0.4189 - val_precision: 0.9041 - lr: 1.0000e-05\n",
            "Epoch 33/100\n",
            "45/45 [==============================] - ETA: 0s - loss: 0.2738 - dice_coef: 0.7262 - iou: 0.5710 - recall: 0.4221 - precision: 0.9707\n",
            "Epoch 00033: val_loss improved from 0.34121 to 0.34010, saving model to /content/drive/MyDrive/project/UNet layers/4_Unet/new_data/files/model.h5\n",
            "45/45 [==============================] - 82s 2s/step - loss: 0.2738 - dice_coef: 0.7262 - iou: 0.5710 - recall: 0.4221 - precision: 0.9707 - val_loss: 0.3401 - val_dice_coef: 0.6576 - val_iou: 0.4903 - val_recall: 0.4149 - val_precision: 0.9066 - lr: 1.0000e-05\n",
            "Epoch 34/100\n",
            "45/45 [==============================] - ETA: 0s - loss: 0.2709 - dice_coef: 0.7291 - iou: 0.5745 - recall: 0.4218 - precision: 0.9724\n",
            "Epoch 00034: val_loss did not improve from 0.34010\n",
            "45/45 [==============================] - 78s 2s/step - loss: 0.2709 - dice_coef: 0.7291 - iou: 0.5745 - recall: 0.4218 - precision: 0.9724 - val_loss: 0.3418 - val_dice_coef: 0.6560 - val_iou: 0.4885 - val_recall: 0.4062 - val_precision: 0.9111 - lr: 1.0000e-05\n",
            "Epoch 35/100\n",
            "45/45 [==============================] - ETA: 0s - loss: 0.2686 - dice_coef: 0.7314 - iou: 0.5774 - recall: 0.4214 - precision: 0.9736\n",
            "Epoch 00035: val_loss did not improve from 0.34010\n",
            "45/45 [==============================] - 77s 2s/step - loss: 0.2686 - dice_coef: 0.7314 - iou: 0.5774 - recall: 0.4214 - precision: 0.9736 - val_loss: 0.3414 - val_dice_coef: 0.6566 - val_iou: 0.4891 - val_recall: 0.4108 - val_precision: 0.9075 - lr: 1.0000e-05\n",
            "Epoch 36/100\n",
            "45/45 [==============================] - ETA: 0s - loss: 0.2670 - dice_coef: 0.7330 - iou: 0.5793 - recall: 0.4210 - precision: 0.9742\n",
            "Epoch 00036: val_loss improved from 0.34010 to 0.33639, saving model to /content/drive/MyDrive/project/UNet layers/4_Unet/new_data/files/model.h5\n",
            "45/45 [==============================] - 82s 2s/step - loss: 0.2670 - dice_coef: 0.7330 - iou: 0.5793 - recall: 0.4210 - precision: 0.9742 - val_loss: 0.3364 - val_dice_coef: 0.6615 - val_iou: 0.4946 - val_recall: 0.4216 - val_precision: 0.9051 - lr: 1.0000e-05\n",
            "Epoch 37/100\n",
            "45/45 [==============================] - ETA: 0s - loss: 0.2654 - dice_coef: 0.7346 - iou: 0.5814 - recall: 0.4210 - precision: 0.9748\n",
            "Epoch 00037: val_loss improved from 0.33639 to 0.33468, saving model to /content/drive/MyDrive/project/UNet layers/4_Unet/new_data/files/model.h5\n",
            "45/45 [==============================] - 82s 2s/step - loss: 0.2654 - dice_coef: 0.7346 - iou: 0.5814 - recall: 0.4210 - precision: 0.9748 - val_loss: 0.3347 - val_dice_coef: 0.6630 - val_iou: 0.4963 - val_recall: 0.4133 - val_precision: 0.9114 - lr: 1.0000e-05\n",
            "Epoch 38/100\n",
            "45/45 [==============================] - ETA: 0s - loss: 0.2642 - dice_coef: 0.7358 - iou: 0.5828 - recall: 0.4208 - precision: 0.9748\n",
            "Epoch 00038: val_loss did not improve from 0.33468\n",
            "45/45 [==============================] - 77s 2s/step - loss: 0.2642 - dice_coef: 0.7358 - iou: 0.5828 - recall: 0.4208 - precision: 0.9748 - val_loss: 0.3364 - val_dice_coef: 0.6614 - val_iou: 0.4944 - val_recall: 0.4037 - val_precision: 0.9151 - lr: 1.0000e-05\n",
            "Epoch 39/100\n",
            "45/45 [==============================] - ETA: 0s - loss: 0.2631 - dice_coef: 0.7369 - iou: 0.5843 - recall: 0.4208 - precision: 0.9747\n",
            "Epoch 00039: val_loss did not improve from 0.33468\n",
            "45/45 [==============================] - 77s 2s/step - loss: 0.2631 - dice_coef: 0.7369 - iou: 0.5843 - recall: 0.4208 - precision: 0.9747 - val_loss: 0.3376 - val_dice_coef: 0.6603 - val_iou: 0.4932 - val_recall: 0.4048 - val_precision: 0.9105 - lr: 1.0000e-05\n",
            "Epoch 40/100\n",
            "45/45 [==============================] - ETA: 0s - loss: 0.2616 - dice_coef: 0.7384 - iou: 0.5861 - recall: 0.4213 - precision: 0.9750\n",
            "Epoch 00040: val_loss did not improve from 0.33468\n",
            "45/45 [==============================] - 78s 2s/step - loss: 0.2616 - dice_coef: 0.7384 - iou: 0.5861 - recall: 0.4213 - precision: 0.9750 - val_loss: 0.3427 - val_dice_coef: 0.6552 - val_iou: 0.4875 - val_recall: 0.4036 - val_precision: 0.9032 - lr: 1.0000e-05\n",
            "Epoch 41/100\n",
            "45/45 [==============================] - ETA: 0s - loss: 0.2607 - dice_coef: 0.7393 - iou: 0.5873 - recall: 0.4210 - precision: 0.9751\n",
            "Epoch 00041: val_loss did not improve from 0.33468\n",
            "45/45 [==============================] - 78s 2s/step - loss: 0.2607 - dice_coef: 0.7393 - iou: 0.5873 - recall: 0.4210 - precision: 0.9751 - val_loss: 0.3385 - val_dice_coef: 0.6595 - val_iou: 0.4923 - val_recall: 0.3910 - val_precision: 0.9168 - lr: 1.0000e-05\n",
            "Epoch 42/100\n",
            "45/45 [==============================] - ETA: 0s - loss: 0.2597 - dice_coef: 0.7403 - iou: 0.5884 - recall: 0.4199 - precision: 0.9754\n",
            "Epoch 00042: val_loss improved from 0.33468 to 0.33246, saving model to /content/drive/MyDrive/project/UNet layers/4_Unet/new_data/files/model.h5\n",
            "45/45 [==============================] - 82s 2s/step - loss: 0.2597 - dice_coef: 0.7403 - iou: 0.5884 - recall: 0.4199 - precision: 0.9754 - val_loss: 0.3325 - val_dice_coef: 0.6657 - val_iou: 0.4993 - val_recall: 0.3920 - val_precision: 0.9228 - lr: 1.0000e-05\n",
            "Epoch 43/100\n",
            "45/45 [==============================] - ETA: 0s - loss: 0.2589 - dice_coef: 0.7411 - iou: 0.5896 - recall: 0.4193 - precision: 0.9757\n",
            "Epoch 00043: val_loss did not improve from 0.33246\n",
            "45/45 [==============================] - 79s 2s/step - loss: 0.2589 - dice_coef: 0.7411 - iou: 0.5896 - recall: 0.4193 - precision: 0.9757 - val_loss: 0.3365 - val_dice_coef: 0.6613 - val_iou: 0.4944 - val_recall: 0.3984 - val_precision: 0.9123 - lr: 1.0000e-05\n",
            "Epoch 44/100\n",
            "45/45 [==============================] - ETA: 0s - loss: 0.2587 - dice_coef: 0.7413 - iou: 0.5898 - recall: 0.4195 - precision: 0.9749\n",
            "Epoch 00044: val_loss did not improve from 0.33246\n",
            "45/45 [==============================] - 78s 2s/step - loss: 0.2587 - dice_coef: 0.7413 - iou: 0.5898 - recall: 0.4195 - precision: 0.9749 - val_loss: 0.3400 - val_dice_coef: 0.6577 - val_iou: 0.4904 - val_recall: 0.3849 - val_precision: 0.9172 - lr: 1.0000e-05\n",
            "Epoch 45/100\n",
            "45/45 [==============================] - ETA: 0s - loss: 0.2567 - dice_coef: 0.7433 - iou: 0.5922 - recall: 0.4204 - precision: 0.9751\n",
            "Epoch 00045: val_loss did not improve from 0.33246\n",
            "45/45 [==============================] - 78s 2s/step - loss: 0.2567 - dice_coef: 0.7433 - iou: 0.5922 - recall: 0.4204 - precision: 0.9751 - val_loss: 0.3377 - val_dice_coef: 0.6600 - val_iou: 0.4928 - val_recall: 0.3833 - val_precision: 0.9210 - lr: 1.0000e-05\n",
            "Epoch 46/100\n",
            "45/45 [==============================] - ETA: 0s - loss: 0.2538 - dice_coef: 0.7462 - iou: 0.5959 - recall: 0.4201 - precision: 0.9771\n",
            "Epoch 00046: val_loss did not improve from 0.33246\n",
            "45/45 [==============================] - 78s 2s/step - loss: 0.2538 - dice_coef: 0.7462 - iou: 0.5959 - recall: 0.4201 - precision: 0.9771 - val_loss: 0.3352 - val_dice_coef: 0.6625 - val_iou: 0.4957 - val_recall: 0.3824 - val_precision: 0.9240 - lr: 1.0000e-05\n",
            "Epoch 47/100\n",
            "45/45 [==============================] - ETA: 0s - loss: 0.2514 - dice_coef: 0.7486 - iou: 0.5990 - recall: 0.4192 - precision: 0.9786\n",
            "Epoch 00047: val_loss improved from 0.33246 to 0.33215, saving model to /content/drive/MyDrive/project/UNet layers/4_Unet/new_data/files/model.h5\n",
            "45/45 [==============================] - 82s 2s/step - loss: 0.2514 - dice_coef: 0.7486 - iou: 0.5990 - recall: 0.4192 - precision: 0.9786 - val_loss: 0.3321 - val_dice_coef: 0.6656 - val_iou: 0.4992 - val_recall: 0.3869 - val_precision: 0.9239 - lr: 1.0000e-05\n",
            "Epoch 48/100\n",
            "45/45 [==============================] - ETA: 0s - loss: 0.2493 - dice_coef: 0.7507 - iou: 0.6017 - recall: 0.4191 - precision: 0.9795\n",
            "Epoch 00048: val_loss improved from 0.33215 to 0.33150, saving model to /content/drive/MyDrive/project/UNet layers/4_Unet/new_data/files/model.h5\n",
            "45/45 [==============================] - 83s 2s/step - loss: 0.2493 - dice_coef: 0.7507 - iou: 0.6017 - recall: 0.4191 - precision: 0.9795 - val_loss: 0.3315 - val_dice_coef: 0.6665 - val_iou: 0.5002 - val_recall: 0.3821 - val_precision: 0.9267 - lr: 1.0000e-05\n",
            "Epoch 49/100\n",
            "45/45 [==============================] - ETA: 0s - loss: 0.2471 - dice_coef: 0.7529 - iou: 0.6045 - recall: 0.4203 - precision: 0.9800\n",
            "Epoch 00049: val_loss did not improve from 0.33150\n",
            "45/45 [==============================] - 79s 2s/step - loss: 0.2471 - dice_coef: 0.7529 - iou: 0.6045 - recall: 0.4203 - precision: 0.9800 - val_loss: 0.3353 - val_dice_coef: 0.6630 - val_iou: 0.4962 - val_recall: 0.3667 - val_precision: 0.9333 - lr: 1.0000e-05\n",
            "Epoch 50/100\n",
            "45/45 [==============================] - ETA: 0s - loss: 0.2450 - dice_coef: 0.7550 - iou: 0.6073 - recall: 0.4198 - precision: 0.9813\n",
            "Epoch 00050: val_loss did not improve from 0.33150\n",
            "45/45 [==============================] - 78s 2s/step - loss: 0.2450 - dice_coef: 0.7550 - iou: 0.6073 - recall: 0.4198 - precision: 0.9813 - val_loss: 0.3323 - val_dice_coef: 0.6661 - val_iou: 0.4996 - val_recall: 0.3643 - val_precision: 0.9371 - lr: 1.0000e-05\n",
            "Epoch 51/100\n",
            "45/45 [==============================] - ETA: 0s - loss: 0.2430 - dice_coef: 0.7570 - iou: 0.6097 - recall: 0.4187 - precision: 0.9823\n",
            "Epoch 00051: val_loss improved from 0.33150 to 0.32884, saving model to /content/drive/MyDrive/project/UNet layers/4_Unet/new_data/files/model.h5\n",
            "45/45 [==============================] - 83s 2s/step - loss: 0.2430 - dice_coef: 0.7570 - iou: 0.6097 - recall: 0.4187 - precision: 0.9823 - val_loss: 0.3288 - val_dice_coef: 0.6694 - val_iou: 0.5034 - val_recall: 0.3716 - val_precision: 0.9335 - lr: 1.0000e-05\n",
            "Epoch 52/100\n",
            "45/45 [==============================] - ETA: 0s - loss: 0.2417 - dice_coef: 0.7583 - iou: 0.6115 - recall: 0.4186 - precision: 0.9827\n",
            "Epoch 00052: val_loss did not improve from 0.32884\n",
            "45/45 [==============================] - 79s 2s/step - loss: 0.2417 - dice_coef: 0.7583 - iou: 0.6115 - recall: 0.4186 - precision: 0.9827 - val_loss: 0.3295 - val_dice_coef: 0.6684 - val_iou: 0.5023 - val_recall: 0.3789 - val_precision: 0.9281 - lr: 1.0000e-05\n",
            "Epoch 53/100\n",
            "45/45 [==============================] - ETA: 0s - loss: 0.2403 - dice_coef: 0.7597 - iou: 0.6132 - recall: 0.4191 - precision: 0.9829\n",
            "Epoch 00053: val_loss did not improve from 0.32884\n",
            "45/45 [==============================] - 78s 2s/step - loss: 0.2403 - dice_coef: 0.7597 - iou: 0.6132 - recall: 0.4191 - precision: 0.9829 - val_loss: 0.3322 - val_dice_coef: 0.6655 - val_iou: 0.4990 - val_recall: 0.3794 - val_precision: 0.9247 - lr: 1.0000e-05\n",
            "Epoch 54/100\n",
            "45/45 [==============================] - ETA: 0s - loss: 0.2392 - dice_coef: 0.7608 - iou: 0.6148 - recall: 0.4186 - precision: 0.9832\n",
            "Epoch 00054: val_loss did not improve from 0.32884\n",
            "45/45 [==============================] - 78s 2s/step - loss: 0.2392 - dice_coef: 0.7608 - iou: 0.6148 - recall: 0.4186 - precision: 0.9832 - val_loss: 0.3325 - val_dice_coef: 0.6652 - val_iou: 0.4987 - val_recall: 0.3776 - val_precision: 0.9229 - lr: 1.0000e-05\n",
            "Epoch 55/100\n",
            "45/45 [==============================] - ETA: 0s - loss: 0.2383 - dice_coef: 0.7617 - iou: 0.6159 - recall: 0.4182 - precision: 0.9833\n",
            "Epoch 00055: val_loss improved from 0.32884 to 0.32862, saving model to /content/drive/MyDrive/project/UNet layers/4_Unet/new_data/files/model.h5\n",
            "45/45 [==============================] - 82s 2s/step - loss: 0.2383 - dice_coef: 0.7617 - iou: 0.6159 - recall: 0.4182 - precision: 0.9833 - val_loss: 0.3286 - val_dice_coef: 0.6693 - val_iou: 0.5033 - val_recall: 0.3864 - val_precision: 0.9186 - lr: 1.0000e-05\n",
            "Epoch 56/100\n",
            "45/45 [==============================] - ETA: 0s - loss: 0.2375 - dice_coef: 0.7625 - iou: 0.6169 - recall: 0.4183 - precision: 0.9831\n",
            "Epoch 00056: val_loss improved from 0.32862 to 0.32756, saving model to /content/drive/MyDrive/project/UNet layers/4_Unet/new_data/files/model.h5\n",
            "45/45 [==============================] - 82s 2s/step - loss: 0.2375 - dice_coef: 0.7625 - iou: 0.6169 - recall: 0.4183 - precision: 0.9831 - val_loss: 0.3276 - val_dice_coef: 0.6702 - val_iou: 0.5043 - val_recall: 0.3918 - val_precision: 0.9163 - lr: 1.0000e-05\n",
            "Epoch 57/100\n",
            "45/45 [==============================] - ETA: 0s - loss: 0.2363 - dice_coef: 0.7637 - iou: 0.6185 - recall: 0.4183 - precision: 0.9834\n",
            "Epoch 00057: val_loss improved from 0.32756 to 0.32582, saving model to /content/drive/MyDrive/project/UNet layers/4_Unet/new_data/files/model.h5\n",
            "45/45 [==============================] - 83s 2s/step - loss: 0.2363 - dice_coef: 0.7637 - iou: 0.6185 - recall: 0.4183 - precision: 0.9834 - val_loss: 0.3258 - val_dice_coef: 0.6719 - val_iou: 0.5063 - val_recall: 0.3935 - val_precision: 0.9164 - lr: 1.0000e-05\n",
            "Epoch 58/100\n",
            "45/45 [==============================] - ETA: 0s - loss: 0.2349 - dice_coef: 0.7651 - iou: 0.6203 - recall: 0.4181 - precision: 0.9837\n",
            "Epoch 00058: val_loss improved from 0.32582 to 0.32499, saving model to /content/drive/MyDrive/project/UNet layers/4_Unet/new_data/files/model.h5\n",
            "45/45 [==============================] - 83s 2s/step - loss: 0.2349 - dice_coef: 0.7651 - iou: 0.6203 - recall: 0.4181 - precision: 0.9837 - val_loss: 0.3250 - val_dice_coef: 0.6730 - val_iou: 0.5075 - val_recall: 0.3873 - val_precision: 0.9188 - lr: 1.0000e-05\n",
            "Epoch 59/100\n",
            "45/45 [==============================] - ETA: 0s - loss: 0.2339 - dice_coef: 0.7661 - iou: 0.6217 - recall: 0.4178 - precision: 0.9840\n",
            "Epoch 00059: val_loss improved from 0.32499 to 0.32303, saving model to /content/drive/MyDrive/project/UNet layers/4_Unet/new_data/files/model.h5\n",
            "45/45 [==============================] - 83s 2s/step - loss: 0.2339 - dice_coef: 0.7661 - iou: 0.6217 - recall: 0.4178 - precision: 0.9840 - val_loss: 0.3230 - val_dice_coef: 0.6752 - val_iou: 0.5100 - val_recall: 0.3935 - val_precision: 0.9155 - lr: 1.0000e-05\n",
            "Epoch 60/100\n",
            "45/45 [==============================] - ETA: 0s - loss: 0.2330 - dice_coef: 0.7670 - iou: 0.6228 - recall: 0.4181 - precision: 0.9840\n",
            "Epoch 00060: val_loss improved from 0.32303 to 0.32206, saving model to /content/drive/MyDrive/project/UNet layers/4_Unet/new_data/files/model.h5\n",
            "45/45 [==============================] - 83s 2s/step - loss: 0.2330 - dice_coef: 0.7670 - iou: 0.6228 - recall: 0.4181 - precision: 0.9840 - val_loss: 0.3221 - val_dice_coef: 0.6762 - val_iou: 0.5111 - val_recall: 0.3941 - val_precision: 0.9178 - lr: 1.0000e-05\n",
            "Epoch 61/100\n",
            "45/45 [==============================] - ETA: 0s - loss: 0.2323 - dice_coef: 0.7677 - iou: 0.6238 - recall: 0.4177 - precision: 0.9841\n",
            "Epoch 00061: val_loss improved from 0.32206 to 0.32111, saving model to /content/drive/MyDrive/project/UNet layers/4_Unet/new_data/files/model.h5\n",
            "45/45 [==============================] - 83s 2s/step - loss: 0.2323 - dice_coef: 0.7677 - iou: 0.6238 - recall: 0.4177 - precision: 0.9841 - val_loss: 0.3211 - val_dice_coef: 0.6773 - val_iou: 0.5124 - val_recall: 0.3930 - val_precision: 0.9189 - lr: 1.0000e-05\n",
            "Epoch 62/100\n",
            "45/45 [==============================] - ETA: 0s - loss: 0.2310 - dice_coef: 0.7690 - iou: 0.6255 - recall: 0.4172 - precision: 0.9845\n",
            "Epoch 00062: val_loss improved from 0.32111 to 0.32105, saving model to /content/drive/MyDrive/project/UNet layers/4_Unet/new_data/files/model.h5\n",
            "45/45 [==============================] - 82s 2s/step - loss: 0.2310 - dice_coef: 0.7690 - iou: 0.6255 - recall: 0.4172 - precision: 0.9845 - val_loss: 0.3211 - val_dice_coef: 0.6773 - val_iou: 0.5124 - val_recall: 0.4003 - val_precision: 0.9107 - lr: 1.0000e-05\n",
            "Epoch 63/100\n",
            "45/45 [==============================] - ETA: 0s - loss: 0.2301 - dice_coef: 0.7699 - iou: 0.6267 - recall: 0.4168 - precision: 0.9847\n",
            "Epoch 00063: val_loss improved from 0.32105 to 0.32067, saving model to /content/drive/MyDrive/project/UNet layers/4_Unet/new_data/files/model.h5\n",
            "45/45 [==============================] - 82s 2s/step - loss: 0.2301 - dice_coef: 0.7699 - iou: 0.6267 - recall: 0.4168 - precision: 0.9847 - val_loss: 0.3207 - val_dice_coef: 0.6773 - val_iou: 0.5124 - val_recall: 0.4042 - val_precision: 0.9076 - lr: 1.0000e-05\n",
            "Epoch 64/100\n",
            "45/45 [==============================] - ETA: 0s - loss: 0.2286 - dice_coef: 0.7714 - iou: 0.6286 - recall: 0.4172 - precision: 0.9851\n",
            "Epoch 00064: val_loss did not improve from 0.32067\n",
            "45/45 [==============================] - 79s 2s/step - loss: 0.2286 - dice_coef: 0.7714 - iou: 0.6286 - recall: 0.4172 - precision: 0.9851 - val_loss: 0.3220 - val_dice_coef: 0.6755 - val_iou: 0.5104 - val_recall: 0.3952 - val_precision: 0.9129 - lr: 1.0000e-05\n",
            "Epoch 65/100\n",
            "45/45 [==============================] - ETA: 0s - loss: 0.2270 - dice_coef: 0.7730 - iou: 0.6308 - recall: 0.4173 - precision: 0.9856\n",
            "Epoch 00065: val_loss did not improve from 0.32067\n",
            "45/45 [==============================] - 78s 2s/step - loss: 0.2270 - dice_coef: 0.7730 - iou: 0.6308 - recall: 0.4173 - precision: 0.9856 - val_loss: 0.3214 - val_dice_coef: 0.6762 - val_iou: 0.5112 - val_recall: 0.3907 - val_precision: 0.9167 - lr: 1.0000e-05\n",
            "Epoch 66/100\n",
            "45/45 [==============================] - ETA: 0s - loss: 0.2256 - dice_coef: 0.7744 - iou: 0.6326 - recall: 0.4170 - precision: 0.9860\n",
            "Epoch 00066: val_loss improved from 0.32067 to 0.31834, saving model to /content/drive/MyDrive/project/UNet layers/4_Unet/new_data/files/model.h5\n",
            "45/45 [==============================] - 83s 2s/step - loss: 0.2256 - dice_coef: 0.7744 - iou: 0.6326 - recall: 0.4170 - precision: 0.9860 - val_loss: 0.3183 - val_dice_coef: 0.6796 - val_iou: 0.5150 - val_recall: 0.3937 - val_precision: 0.9157 - lr: 1.0000e-05\n",
            "Epoch 67/100\n",
            "45/45 [==============================] - ETA: 0s - loss: 0.2243 - dice_coef: 0.7757 - iou: 0.6343 - recall: 0.4170 - precision: 0.9864\n",
            "Epoch 00067: val_loss did not improve from 0.31834\n",
            "45/45 [==============================] - 78s 2s/step - loss: 0.2243 - dice_coef: 0.7757 - iou: 0.6343 - recall: 0.4170 - precision: 0.9864 - val_loss: 0.3188 - val_dice_coef: 0.6793 - val_iou: 0.5147 - val_recall: 0.3982 - val_precision: 0.9131 - lr: 1.0000e-05\n",
            "Epoch 68/100\n",
            "45/45 [==============================] - ETA: 0s - loss: 0.2235 - dice_coef: 0.7765 - iou: 0.6354 - recall: 0.4171 - precision: 0.9864\n",
            "Epoch 00068: val_loss did not improve from 0.31834\n",
            "45/45 [==============================] - 78s 2s/step - loss: 0.2235 - dice_coef: 0.7765 - iou: 0.6354 - recall: 0.4171 - precision: 0.9864 - val_loss: 0.3205 - val_dice_coef: 0.6776 - val_iou: 0.5127 - val_recall: 0.3940 - val_precision: 0.9158 - lr: 1.0000e-05\n",
            "Epoch 69/100\n",
            "45/45 [==============================] - ETA: 0s - loss: 0.2232 - dice_coef: 0.7768 - iou: 0.6358 - recall: 0.4167 - precision: 0.9862\n",
            "Epoch 00069: val_loss improved from 0.31834 to 0.31748, saving model to /content/drive/MyDrive/project/UNet layers/4_Unet/new_data/files/model.h5\n",
            "45/45 [==============================] - 83s 2s/step - loss: 0.2232 - dice_coef: 0.7768 - iou: 0.6358 - recall: 0.4167 - precision: 0.9862 - val_loss: 0.3175 - val_dice_coef: 0.6806 - val_iou: 0.5162 - val_recall: 0.3988 - val_precision: 0.9144 - lr: 1.0000e-05\n",
            "Epoch 70/100\n",
            "45/45 [==============================] - ETA: 0s - loss: 0.2222 - dice_coef: 0.7778 - iou: 0.6372 - recall: 0.4163 - precision: 0.9865\n",
            "Epoch 00070: val_loss improved from 0.31748 to 0.31236, saving model to /content/drive/MyDrive/project/UNet layers/4_Unet/new_data/files/model.h5\n",
            "45/45 [==============================] - 83s 2s/step - loss: 0.2222 - dice_coef: 0.7778 - iou: 0.6372 - recall: 0.4163 - precision: 0.9865 - val_loss: 0.3124 - val_dice_coef: 0.6858 - val_iou: 0.5221 - val_recall: 0.4019 - val_precision: 0.9164 - lr: 1.0000e-05\n",
            "Epoch 71/100\n",
            "45/45 [==============================] - ETA: 0s - loss: 0.2207 - dice_coef: 0.7793 - iou: 0.6391 - recall: 0.4164 - precision: 0.9869\n",
            "Epoch 00071: val_loss improved from 0.31236 to 0.31177, saving model to /content/drive/MyDrive/project/UNet layers/4_Unet/new_data/files/model.h5\n",
            "45/45 [==============================] - 82s 2s/step - loss: 0.2207 - dice_coef: 0.7793 - iou: 0.6391 - recall: 0.4164 - precision: 0.9869 - val_loss: 0.3118 - val_dice_coef: 0.6863 - val_iou: 0.5227 - val_recall: 0.3922 - val_precision: 0.9233 - lr: 1.0000e-05\n",
            "Epoch 72/100\n",
            "45/45 [==============================] - ETA: 0s - loss: 0.2194 - dice_coef: 0.7806 - iou: 0.6408 - recall: 0.4166 - precision: 0.9871\n",
            "Epoch 00072: val_loss did not improve from 0.31177\n",
            "45/45 [==============================] - 78s 2s/step - loss: 0.2194 - dice_coef: 0.7806 - iou: 0.6408 - recall: 0.4166 - precision: 0.9871 - val_loss: 0.3147 - val_dice_coef: 0.6833 - val_iou: 0.5193 - val_recall: 0.3834 - val_precision: 0.9257 - lr: 1.0000e-05\n",
            "Epoch 73/100\n",
            "45/45 [==============================] - ETA: 0s - loss: 0.2178 - dice_coef: 0.7822 - iou: 0.6430 - recall: 0.4167 - precision: 0.9876\n",
            "Epoch 00073: val_loss did not improve from 0.31177\n",
            "45/45 [==============================] - 78s 2s/step - loss: 0.2178 - dice_coef: 0.7822 - iou: 0.6430 - recall: 0.4167 - precision: 0.9876 - val_loss: 0.3174 - val_dice_coef: 0.6806 - val_iou: 0.5162 - val_recall: 0.3862 - val_precision: 0.9204 - lr: 1.0000e-05\n",
            "Epoch 74/100\n",
            "45/45 [==============================] - ETA: 0s - loss: 0.2163 - dice_coef: 0.7837 - iou: 0.6450 - recall: 0.4163 - precision: 0.9883\n",
            "Epoch 00074: val_loss did not improve from 0.31177\n",
            "45/45 [==============================] - 78s 2s/step - loss: 0.2163 - dice_coef: 0.7837 - iou: 0.6450 - recall: 0.4163 - precision: 0.9883 - val_loss: 0.3144 - val_dice_coef: 0.6836 - val_iou: 0.5197 - val_recall: 0.3880 - val_precision: 0.9225 - lr: 1.0000e-05\n",
            "Epoch 75/100\n",
            "45/45 [==============================] - ETA: 0s - loss: 0.2149 - dice_coef: 0.7851 - iou: 0.6469 - recall: 0.4159 - precision: 0.9886\n",
            "Epoch 00075: val_loss improved from 0.31177 to 0.31107, saving model to /content/drive/MyDrive/project/UNet layers/4_Unet/new_data/files/model.h5\n",
            "45/45 [==============================] - 82s 2s/step - loss: 0.2149 - dice_coef: 0.7851 - iou: 0.6469 - recall: 0.4159 - precision: 0.9886 - val_loss: 0.3111 - val_dice_coef: 0.6868 - val_iou: 0.5234 - val_recall: 0.3887 - val_precision: 0.9254 - lr: 1.0000e-05\n",
            "Epoch 76/100\n",
            "45/45 [==============================] - ETA: 0s - loss: 0.2139 - dice_coef: 0.7861 - iou: 0.6484 - recall: 0.4160 - precision: 0.9888\n",
            "Epoch 00076: val_loss did not improve from 0.31107\n",
            "45/45 [==============================] - 78s 2s/step - loss: 0.2139 - dice_coef: 0.7861 - iou: 0.6484 - recall: 0.4160 - precision: 0.9888 - val_loss: 0.3116 - val_dice_coef: 0.6863 - val_iou: 0.5228 - val_recall: 0.3887 - val_precision: 0.9249 - lr: 1.0000e-05\n",
            "Epoch 77/100\n",
            "45/45 [==============================] - ETA: 0s - loss: 0.2128 - dice_coef: 0.7872 - iou: 0.6498 - recall: 0.4162 - precision: 0.9890\n",
            "Epoch 00077: val_loss did not improve from 0.31107\n",
            "45/45 [==============================] - 78s 2s/step - loss: 0.2128 - dice_coef: 0.7872 - iou: 0.6498 - recall: 0.4162 - precision: 0.9890 - val_loss: 0.3149 - val_dice_coef: 0.6833 - val_iou: 0.5193 - val_recall: 0.3819 - val_precision: 0.9253 - lr: 1.0000e-05\n",
            "Epoch 78/100\n",
            "45/45 [==============================] - ETA: 0s - loss: 0.2121 - dice_coef: 0.7879 - iou: 0.6507 - recall: 0.4160 - precision: 0.9890\n",
            "Epoch 00078: val_loss did not improve from 0.31107\n",
            "45/45 [==============================] - 78s 2s/step - loss: 0.2121 - dice_coef: 0.7879 - iou: 0.6507 - recall: 0.4160 - precision: 0.9890 - val_loss: 0.3151 - val_dice_coef: 0.6835 - val_iou: 0.5194 - val_recall: 0.3727 - val_precision: 0.9307 - lr: 1.0000e-05\n",
            "Epoch 79/100\n",
            "45/45 [==============================] - ETA: 0s - loss: 0.2113 - dice_coef: 0.7887 - iou: 0.6518 - recall: 0.4157 - precision: 0.9892\n",
            "Epoch 00079: val_loss did not improve from 0.31107\n",
            "45/45 [==============================] - 78s 2s/step - loss: 0.2113 - dice_coef: 0.7887 - iou: 0.6518 - recall: 0.4157 - precision: 0.9892 - val_loss: 0.3125 - val_dice_coef: 0.6859 - val_iou: 0.5222 - val_recall: 0.3732 - val_precision: 0.9323 - lr: 1.0000e-05\n",
            "Epoch 80/100\n",
            "45/45 [==============================] - ETA: 0s - loss: 0.2103 - dice_coef: 0.7897 - iou: 0.6531 - recall: 0.4156 - precision: 0.9893\n",
            "Epoch 00080: val_loss did not improve from 0.31107\n",
            "\n",
            "Epoch 00080: ReduceLROnPlateau reducing learning rate to 1e-06.\n",
            "45/45 [==============================] - 78s 2s/step - loss: 0.2103 - dice_coef: 0.7897 - iou: 0.6531 - recall: 0.4156 - precision: 0.9893 - val_loss: 0.3122 - val_dice_coef: 0.6858 - val_iou: 0.5222 - val_recall: 0.3780 - val_precision: 0.9295 - lr: 1.0000e-05\n",
            "Epoch 81/100\n",
            "45/45 [==============================] - ETA: 0s - loss: 0.2127 - dice_coef: 0.7873 - iou: 0.6500 - recall: 0.4128 - precision: 0.9881\n",
            "Epoch 00081: val_loss improved from 0.31107 to 0.30990, saving model to /content/drive/MyDrive/project/UNet layers/4_Unet/new_data/files/model.h5\n",
            "45/45 [==============================] - 83s 2s/step - loss: 0.2127 - dice_coef: 0.7873 - iou: 0.6500 - recall: 0.4128 - precision: 0.9881 - val_loss: 0.3099 - val_dice_coef: 0.6881 - val_iou: 0.5248 - val_recall: 0.3906 - val_precision: 0.9208 - lr: 1.0000e-06\n",
            "Epoch 82/100\n",
            "45/45 [==============================] - ETA: 0s - loss: 0.2092 - dice_coef: 0.7908 - iou: 0.6547 - recall: 0.4158 - precision: 0.9894\n",
            "Epoch 00082: val_loss improved from 0.30990 to 0.30924, saving model to /content/drive/MyDrive/project/UNet layers/4_Unet/new_data/files/model.h5\n",
            "45/45 [==============================] - 83s 2s/step - loss: 0.2092 - dice_coef: 0.7908 - iou: 0.6547 - recall: 0.4158 - precision: 0.9894 - val_loss: 0.3092 - val_dice_coef: 0.6888 - val_iou: 0.5256 - val_recall: 0.3901 - val_precision: 0.9217 - lr: 1.0000e-06\n",
            "Epoch 83/100\n",
            "45/45 [==============================] - ETA: 0s - loss: 0.2081 - dice_coef: 0.7919 - iou: 0.6562 - recall: 0.4155 - precision: 0.9901\n",
            "Epoch 00083: val_loss improved from 0.30924 to 0.30889, saving model to /content/drive/MyDrive/project/UNet layers/4_Unet/new_data/files/model.h5\n",
            "45/45 [==============================] - 83s 2s/step - loss: 0.2081 - dice_coef: 0.7919 - iou: 0.6562 - recall: 0.4155 - precision: 0.9901 - val_loss: 0.3089 - val_dice_coef: 0.6892 - val_iou: 0.5261 - val_recall: 0.3888 - val_precision: 0.9228 - lr: 1.0000e-06\n",
            "Epoch 84/100\n",
            "45/45 [==============================] - ETA: 0s - loss: 0.2074 - dice_coef: 0.7926 - iou: 0.6572 - recall: 0.4154 - precision: 0.9905\n",
            "Epoch 00084: val_loss improved from 0.30889 to 0.30872, saving model to /content/drive/MyDrive/project/UNet layers/4_Unet/new_data/files/model.h5\n",
            "45/45 [==============================] - 84s 2s/step - loss: 0.2074 - dice_coef: 0.7926 - iou: 0.6572 - recall: 0.4154 - precision: 0.9905 - val_loss: 0.3087 - val_dice_coef: 0.6894 - val_iou: 0.5263 - val_recall: 0.3879 - val_precision: 0.9236 - lr: 1.0000e-06\n",
            "Epoch 85/100\n",
            "45/45 [==============================] - ETA: 0s - loss: 0.2067 - dice_coef: 0.7933 - iou: 0.6580 - recall: 0.4154 - precision: 0.9909\n",
            "Epoch 00085: val_loss improved from 0.30872 to 0.30863, saving model to /content/drive/MyDrive/project/UNet layers/4_Unet/new_data/files/model.h5\n",
            "45/45 [==============================] - 82s 2s/step - loss: 0.2067 - dice_coef: 0.7933 - iou: 0.6580 - recall: 0.4154 - precision: 0.9909 - val_loss: 0.3086 - val_dice_coef: 0.6895 - val_iou: 0.5264 - val_recall: 0.3871 - val_precision: 0.9241 - lr: 1.0000e-06\n",
            "Epoch 86/100\n",
            "45/45 [==============================] - ETA: 0s - loss: 0.2062 - dice_coef: 0.7938 - iou: 0.6588 - recall: 0.4154 - precision: 0.9912\n",
            "Epoch 00086: val_loss improved from 0.30863 to 0.30858, saving model to /content/drive/MyDrive/project/UNet layers/4_Unet/new_data/files/model.h5\n",
            "45/45 [==============================] - 83s 2s/step - loss: 0.2062 - dice_coef: 0.7938 - iou: 0.6588 - recall: 0.4154 - precision: 0.9912 - val_loss: 0.3086 - val_dice_coef: 0.6895 - val_iou: 0.5264 - val_recall: 0.3865 - val_precision: 0.9244 - lr: 1.0000e-06\n",
            "Epoch 87/100\n",
            "45/45 [==============================] - ETA: 0s - loss: 0.2057 - dice_coef: 0.7943 - iou: 0.6594 - recall: 0.4153 - precision: 0.9914\n",
            "Epoch 00087: val_loss improved from 0.30858 to 0.30857, saving model to /content/drive/MyDrive/project/UNet layers/4_Unet/new_data/files/model.h5\n",
            "45/45 [==============================] - 83s 2s/step - loss: 0.2057 - dice_coef: 0.7943 - iou: 0.6594 - recall: 0.4153 - precision: 0.9914 - val_loss: 0.3086 - val_dice_coef: 0.6895 - val_iou: 0.5264 - val_recall: 0.3861 - val_precision: 0.9246 - lr: 1.0000e-06\n",
            "Epoch 88/100\n",
            "45/45 [==============================] - ETA: 0s - loss: 0.2053 - dice_coef: 0.7947 - iou: 0.6600 - recall: 0.4153 - precision: 0.9916\n",
            "Epoch 00088: val_loss improved from 0.30857 to 0.30856, saving model to /content/drive/MyDrive/project/UNet layers/4_Unet/new_data/files/model.h5\n",
            "45/45 [==============================] - 83s 2s/step - loss: 0.2053 - dice_coef: 0.7947 - iou: 0.6600 - recall: 0.4153 - precision: 0.9916 - val_loss: 0.3086 - val_dice_coef: 0.6895 - val_iou: 0.5265 - val_recall: 0.3858 - val_precision: 0.9248 - lr: 1.0000e-06\n",
            "Epoch 89/100\n",
            "45/45 [==============================] - ETA: 0s - loss: 0.2049 - dice_coef: 0.7951 - iou: 0.6605 - recall: 0.4153 - precision: 0.9918\n",
            "Epoch 00089: val_loss did not improve from 0.30856\n",
            "45/45 [==============================] - 79s 2s/step - loss: 0.2049 - dice_coef: 0.7951 - iou: 0.6605 - recall: 0.4153 - precision: 0.9918 - val_loss: 0.3086 - val_dice_coef: 0.6895 - val_iou: 0.5265 - val_recall: 0.3855 - val_precision: 0.9250 - lr: 1.0000e-06\n",
            "Epoch 90/100\n",
            "45/45 [==============================] - ETA: 0s - loss: 0.2046 - dice_coef: 0.7954 - iou: 0.6610 - recall: 0.4152 - precision: 0.9920\n",
            "Epoch 00090: val_loss did not improve from 0.30856\n",
            "45/45 [==============================] - 78s 2s/step - loss: 0.2046 - dice_coef: 0.7954 - iou: 0.6610 - recall: 0.4152 - precision: 0.9920 - val_loss: 0.3086 - val_dice_coef: 0.6895 - val_iou: 0.5264 - val_recall: 0.3853 - val_precision: 0.9251 - lr: 1.0000e-06\n",
            "Epoch 91/100\n",
            "45/45 [==============================] - ETA: 0s - loss: 0.2042 - dice_coef: 0.7958 - iou: 0.6615 - recall: 0.4152 - precision: 0.9922\n",
            "Epoch 00091: val_loss did not improve from 0.30856\n",
            "45/45 [==============================] - 78s 2s/step - loss: 0.2042 - dice_coef: 0.7958 - iou: 0.6615 - recall: 0.4152 - precision: 0.9922 - val_loss: 0.3086 - val_dice_coef: 0.6895 - val_iou: 0.5264 - val_recall: 0.3851 - val_precision: 0.9251 - lr: 1.0000e-06\n",
            "Epoch 92/100\n",
            "45/45 [==============================] - ETA: 0s - loss: 0.2039 - dice_coef: 0.7961 - iou: 0.6619 - recall: 0.4152 - precision: 0.9923\n",
            "Epoch 00092: val_loss did not improve from 0.30856\n",
            "45/45 [==============================] - 79s 2s/step - loss: 0.2039 - dice_coef: 0.7961 - iou: 0.6619 - recall: 0.4152 - precision: 0.9923 - val_loss: 0.3086 - val_dice_coef: 0.6895 - val_iou: 0.5264 - val_recall: 0.3849 - val_precision: 0.9252 - lr: 1.0000e-06\n",
            "Epoch 93/100\n",
            "45/45 [==============================] - ETA: 0s - loss: 0.2036 - dice_coef: 0.7964 - iou: 0.6623 - recall: 0.4151 - precision: 0.9924\n",
            "Epoch 00093: val_loss did not improve from 0.30856\n",
            "45/45 [==============================] - 78s 2s/step - loss: 0.2036 - dice_coef: 0.7964 - iou: 0.6623 - recall: 0.4151 - precision: 0.9924 - val_loss: 0.3086 - val_dice_coef: 0.6895 - val_iou: 0.5264 - val_recall: 0.3848 - val_precision: 0.9253 - lr: 1.0000e-06\n",
            "Epoch 94/100\n",
            "45/45 [==============================] - ETA: 0s - loss: 0.2033 - dice_coef: 0.7967 - iou: 0.6627 - recall: 0.4151 - precision: 0.9925\n",
            "Epoch 00094: val_loss did not improve from 0.30856\n",
            "45/45 [==============================] - 78s 2s/step - loss: 0.2033 - dice_coef: 0.7967 - iou: 0.6627 - recall: 0.4151 - precision: 0.9925 - val_loss: 0.3086 - val_dice_coef: 0.6895 - val_iou: 0.5264 - val_recall: 0.3846 - val_precision: 0.9253 - lr: 1.0000e-06\n",
            "Epoch 95/100\n",
            "45/45 [==============================] - ETA: 0s - loss: 0.2031 - dice_coef: 0.7969 - iou: 0.6631 - recall: 0.4151 - precision: 0.9927\n",
            "Epoch 00095: val_loss did not improve from 0.30856\n",
            "45/45 [==============================] - 78s 2s/step - loss: 0.2031 - dice_coef: 0.7969 - iou: 0.6631 - recall: 0.4151 - precision: 0.9927 - val_loss: 0.3086 - val_dice_coef: 0.6895 - val_iou: 0.5264 - val_recall: 0.3845 - val_precision: 0.9253 - lr: 1.0000e-06\n",
            "Epoch 96/100\n",
            "45/45 [==============================] - ETA: 0s - loss: 0.2028 - dice_coef: 0.7972 - iou: 0.6635 - recall: 0.4151 - precision: 0.9927\n",
            "Epoch 00096: val_loss did not improve from 0.30856\n",
            "45/45 [==============================] - 78s 2s/step - loss: 0.2028 - dice_coef: 0.7972 - iou: 0.6635 - recall: 0.4151 - precision: 0.9927 - val_loss: 0.3086 - val_dice_coef: 0.6895 - val_iou: 0.5264 - val_recall: 0.3844 - val_precision: 0.9253 - lr: 1.0000e-06\n",
            "Epoch 97/100\n",
            "45/45 [==============================] - ETA: 0s - loss: 0.2026 - dice_coef: 0.7974 - iou: 0.6638 - recall: 0.4150 - precision: 0.9928\n",
            "Epoch 00097: val_loss did not improve from 0.30856\n",
            "45/45 [==============================] - 78s 2s/step - loss: 0.2026 - dice_coef: 0.7974 - iou: 0.6638 - recall: 0.4150 - precision: 0.9928 - val_loss: 0.3086 - val_dice_coef: 0.6895 - val_iou: 0.5264 - val_recall: 0.3843 - val_precision: 0.9254 - lr: 1.0000e-06\n",
            "Epoch 98/100\n",
            "45/45 [==============================] - ETA: 0s - loss: 0.2023 - dice_coef: 0.7977 - iou: 0.6641 - recall: 0.4150 - precision: 0.9929\n",
            "Epoch 00098: val_loss did not improve from 0.30856\n",
            "45/45 [==============================] - 79s 2s/step - loss: 0.2023 - dice_coef: 0.7977 - iou: 0.6641 - recall: 0.4150 - precision: 0.9929 - val_loss: 0.3086 - val_dice_coef: 0.6895 - val_iou: 0.5264 - val_recall: 0.3843 - val_precision: 0.9254 - lr: 1.0000e-06\n"
          ]
        }
      ]
    },
    {
      "cell_type": "markdown",
      "metadata": {
        "id": "wowMhtDTwSqY"
      },
      "source": [
        "# Evaluate"
      ]
    },
    {
      "cell_type": "code",
      "metadata": {
        "id": "Gw-ZZk0uwJdC"
      },
      "source": [
        "import os\n",
        "os.environ[\"TF_CPP_MIN_LOG_LEVEL\"] = \"2\"\n",
        "import numpy as np\n",
        "import pandas as pd\n",
        "import cv2\n",
        "from glob import glob\n",
        "from tqdm import tqdm\n",
        "import tensorflow as tf\n",
        "from tensorflow.keras.utils import CustomObjectScope\n",
        "from sklearn.metrics import accuracy_score, f1_score, jaccard_score, precision_score, recall_score"
      ],
      "execution_count": 28,
      "outputs": []
    },
    {
      "cell_type": "code",
      "metadata": {
        "id": "ziOA3THMwiWD"
      },
      "source": [
        "H = 512\n",
        "W = 512"
      ],
      "execution_count": 29,
      "outputs": []
    },
    {
      "cell_type": "code",
      "metadata": {
        "id": "6oM6aVKgwk5y"
      },
      "source": [
        "def create_dir(path):\n",
        "    if not os.path.exists(path):\n",
        "        os.makedirs(path)"
      ],
      "execution_count": 30,
      "outputs": []
    },
    {
      "cell_type": "code",
      "metadata": {
        "id": "CoukMx4Kwo1U"
      },
      "source": [
        "def read_image(path):\n",
        "    x = cv2.imread(path, cv2.IMREAD_COLOR)\n",
        "    # x = cv2.resize(x, (W, H))\n",
        "    ori_x = x\n",
        "    x = x/255.0\n",
        "    x = x.astype(np.float32)\n",
        "    return ori_x, x"
      ],
      "execution_count": 31,
      "outputs": []
    },
    {
      "cell_type": "code",
      "metadata": {
        "id": "-Lu-EAO1wrKu"
      },
      "source": [
        "def read_mask(path):\n",
        "    x = cv2.imread(path, cv2.IMREAD_GRAYSCALE)  ## (512, 512)\n",
        "    # x = cv2.resize(x, (W, H))\n",
        "    ori_x = x\n",
        "    x = x/255.0\n",
        "    x = x.astype(np.int32)\n",
        "    return ori_x, x"
      ],
      "execution_count": 32,
      "outputs": []
    },
    {
      "cell_type": "code",
      "metadata": {
        "id": "C0dekbVzwtk4"
      },
      "source": [
        "def load_data(path):\n",
        "    x = sorted(glob(os.path.join(path, \"image\", \"*.jpg\")))\n",
        "    y = sorted(glob(os.path.join(path, \"mask\", \"*.jpg\")))\n",
        "    return x, y"
      ],
      "execution_count": 33,
      "outputs": []
    },
    {
      "cell_type": "code",
      "metadata": {
        "id": "G2QLHT6pwzTS"
      },
      "source": [
        "def save_results(ori_x, ori_y, y_pred, save_image_path):\n",
        "    line = np.ones((H, 10, 3)) * 255\n",
        "\n",
        "    ori_y = np.expand_dims(ori_y, axis=-1)\n",
        "    ori_y = np.concatenate([ori_y, ori_y, ori_y], axis=-1)\n",
        "\n",
        "    y_pred = np.expand_dims(y_pred, axis=-1)\n",
        "    y_pred = np.concatenate([y_pred, y_pred, y_pred], axis=-1) * 255\n",
        "\n",
        "    cat_images = np.concatenate([ori_x, line, ori_y, line, y_pred], axis=1)\n",
        "    cv2.imwrite(save_image_path, cat_images)"
      ],
      "execution_count": 34,
      "outputs": []
    },
    {
      "cell_type": "code",
      "metadata": {
        "id": "Ah1Cxczuw4AP",
        "colab": {
          "base_uri": "https://localhost:8080/"
        },
        "outputId": "54a21af7-72b7-4d45-c26a-4483e47775cb"
      },
      "source": [
        "if __name__ == \"__main__\":\n",
        "    \n",
        "\n",
        "    \"\"\" Load the model \"\"\"\n",
        "    with CustomObjectScope({'iou': iou, 'dice_coef': dice_coef, 'dice_loss': dice_loss}):\n",
        "        model = tf.keras.models.load_model(\"/content/drive/MyDrive/project/UNet layers/4_Unet/new_data/files/model.h5\")\n",
        "\n",
        "    \"\"\" Load the dataset \"\"\"\n",
        "    dataset_path = os.path.join(\"/content/drive/MyDrive/project/UNet layers/4_Unet/new_data\", \"test\")\n",
        "    test_x, test_y = load_data(dataset_path)\n",
        "\n",
        "    \"\"\" Make the prediction and calculate the metrics values \"\"\"\n",
        "    SCORE = []\n",
        "    for x, y in tqdm(zip(test_x, test_y), total=len(test_x)):\n",
        "        \"\"\" Extracting name \"\"\"\n",
        "        name = x.split(\"/\")[-1].split(\".\")[0]\n",
        "\n",
        "        \"\"\" Read the image and mask \"\"\"\n",
        "        ori_x, x = read_image(x)\n",
        "        ori_y, y = read_mask(y)\n",
        "\n",
        "        \"\"\" Prediction \"\"\"\n",
        "        y_pred = model.predict(np.expand_dims(x, axis=0))[0]\n",
        "        y_pred = y_pred > 0.5\n",
        "        y_pred = y_pred.astype(np.int32)\n",
        "        y_pred = np.squeeze(y_pred, axis=-1)\n",
        "\n",
        "        \"\"\" Saving the images \"\"\"\n",
        "        save_image_path = f\"/content/drive/MyDrive/project/UNet layers/4_Unet/new_data/results/{name}.png\"\n",
        "        save_results(ori_x, ori_y, y_pred, save_image_path)\n",
        "\n",
        "        \"\"\" Flatten the array \"\"\"\n",
        "        y = y.flatten()\n",
        "        y_pred = y_pred.flatten()\n",
        "\n",
        "        \"\"\" Calculate the metrics \"\"\"\n",
        "        acc_value = accuracy_score(y, y_pred)\n",
        "        f1_value = f1_score(y, y_pred, labels=[0, 1], average=\"binary\")\n",
        "        jac_value = jaccard_score(y, y_pred, labels=[0, 1], average=\"binary\")\n",
        "        recall_value = recall_score(y, y_pred, labels=[0, 1], average=\"binary\")\n",
        "        precision_value = precision_score(y, y_pred, labels=[0, 1], average=\"binary\")\n",
        "        SCORE.append([name, acc_value, f1_value, jac_value, recall_value, precision_value])\n",
        "\n",
        "    score = [s[1:] for s in SCORE]\n",
        "    score = np.mean(score, axis=0)\n",
        "    print(f\"Accuracy: {score[0]:0.5f}\")\n",
        "    print(f\"F1: {score[1]:0.5f}\")\n",
        "    print(f\"Jaccard: {score[2]:0.5f}\")\n",
        "    print(f\"Recall: {score[3]:0.5f}\")\n",
        "    print(f\"Precision: {score[4]:0.5f}\")\n",
        "\n",
        "    \"\"\" Saving \"\"\"\n",
        "    df = pd.DataFrame(SCORE, columns=[\"Image\", \"Acc\", \"F1\", \"Jaccard\", \"Recall\", \"Precision\"])\n",
        "    df.to_csv(\"/content/drive/MyDrive/project/UNet layers/4_Unet/new_data/files/score.csv\")"
      ],
      "execution_count": 35,
      "outputs": [
        {
          "output_type": "stream",
          "name": "stderr",
          "text": [
            "100%|██████████| 15/15 [00:11<00:00,  1.36it/s]"
          ]
        },
        {
          "output_type": "stream",
          "name": "stdout",
          "text": [
            "Accuracy: 0.93634\n",
            "F1: 0.48206\n",
            "Jaccard: 0.31786\n",
            "Recall: 0.86477\n",
            "Precision: 0.33465\n"
          ]
        },
        {
          "output_type": "stream",
          "name": "stderr",
          "text": [
            "\n"
          ]
        }
      ]
    }
  ]
}