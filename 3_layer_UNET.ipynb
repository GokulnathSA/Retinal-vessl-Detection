{
  "nbformat": 4,
  "nbformat_minor": 0,
  "metadata": {
    "colab": {
      "name": "3_layer_UNET.ipynb",
      "provenance": [],
      "collapsed_sections": [
        "JKVngFts_muU",
        "Huk5OfFUWs2L",
        "u-nWSf7uaLXC",
        "lz3PuzabYuOR"
      ]
    },
    "kernelspec": {
      "name": "python3",
      "display_name": "Python 3"
    },
    "language_info": {
      "name": "python"
    },
    "accelerator": "GPU"
  },
  "cells": [
    {
      "cell_type": "markdown",
      "metadata": {
        "id": "JKVngFts_muU"
      },
      "source": [
        "\n",
        "\n",
        "```\n",
        "\n",
        "```\n",
        "\n",
        "# Pre processing\n"
      ]
    },
    {
      "cell_type": "code",
      "metadata": {
        "colab": {
          "base_uri": "https://localhost:8080/"
        },
        "id": "DrUmKr57_M9c",
        "outputId": "dc3836c9-271a-4189-cbdb-85c5836ced48"
      },
      "source": [
        "from google.colab import drive\n",
        "drive.mount('/content/drive')"
      ],
      "execution_count": 2,
      "outputs": [
        {
          "output_type": "stream",
          "name": "stdout",
          "text": [
            "Drive already mounted at /content/drive; to attempt to forcibly remount, call drive.mount(\"/content/drive\", force_remount=True).\n"
          ]
        }
      ]
    },
    {
      "cell_type": "code",
      "metadata": {
        "id": "MbgTX9tJOuCX"
      },
      "source": [
        "import os\n",
        "import numpy as np\n",
        "import cv2\n",
        "from glob import glob\n",
        "from tqdm import tqdm\n",
        "import imageio\n",
        "from albumentations import HorizontalFlip, VerticalFlip, ElasticTransform, GridDistortion, OpticalDistortion"
      ],
      "execution_count": 3,
      "outputs": []
    },
    {
      "cell_type": "code",
      "metadata": {
        "id": "Dwr4fwZOQiHY"
      },
      "source": [
        "def create_dir(path):\n",
        "    if not os.path.exists(path):\n",
        "        os.makedirs(path)"
      ],
      "execution_count": 4,
      "outputs": []
    },
    {
      "cell_type": "code",
      "metadata": {
        "id": "9bvyOXDZQlCi"
      },
      "source": [
        "def load_data(path):\n",
        "    \"\"\" X = Images and Y = masks \"\"\"\n",
        "\n",
        "    train_x = sorted(glob(os.path.join(path, \"training\",\"training\", \"training\", \"images\", \"*.tif\")))\n",
        "    train_y = sorted(glob(os.path.join(path, \"training\",\"training\", \"training\", \"1st_manual\", \"*.gif\")))\n",
        "\n",
        "    test_x = sorted(glob(os.path.join(path, \"test\", \"test\", \"test\", \"images\", \"*.tif\")))\n",
        "    test_y = sorted(glob(os.path.join(path, \"test\", \"test\", \"test\", \"1st_manual\", \"*.gif\")))\n",
        "\n",
        "    return (train_x, train_y), (test_x, test_y)"
      ],
      "execution_count": 5,
      "outputs": []
    },
    {
      "cell_type": "code",
      "metadata": {
        "id": "vjJbbKD-QlKY"
      },
      "source": [
        "def augment_data(images, masks, save_path, augment=True):\n",
        "    H = 512\n",
        "    W = 512\n",
        "\n",
        "    for idx, (x, y) in tqdm(enumerate(zip(images, masks)), total=len(images)):\n",
        "        \"\"\" Extracting names \"\"\"\n",
        "        name = x.split(\"/\")[-1].split(\".\")[0]\n",
        "\n",
        "        \"\"\" Reading image and mask \"\"\"\n",
        "        x = cv2.imread(x, cv2.IMREAD_COLOR)\n",
        "        y = imageio.mimread(y)[0]\n",
        "\n",
        "        if augment == True:\n",
        "            aug = HorizontalFlip(p=1.0)\n",
        "            augmented = aug(image=x, mask=y)\n",
        "            x1 = augmented[\"image\"]\n",
        "            y1 = augmented[\"mask\"]\n",
        "\n",
        "            aug = VerticalFlip(p=1.0)\n",
        "            augmented = aug(image=x, mask=y)\n",
        "            x2 = augmented[\"image\"]\n",
        "            y2 = augmented[\"mask\"]\n",
        "\n",
        "            aug = ElasticTransform(p=1, alpha=120, sigma=120 * 0.05, alpha_affine=120 * 0.03)\n",
        "            augmented = aug(image=x, mask=y)\n",
        "            x3 = augmented['image']\n",
        "            y3 = augmented['mask']\n",
        "\n",
        "            aug = GridDistortion(p=1)\n",
        "            augmented = aug(image=x, mask=y)\n",
        "            x4 = augmented['image']\n",
        "            y4 = augmented['mask']\n",
        "\n",
        "            aug = OpticalDistortion(p=1, distort_limit=2, shift_limit=0.5)\n",
        "            augmented = aug(image=x, mask=y)\n",
        "            x5 = augmented['image']\n",
        "            y5 = augmented['mask']\n",
        "\n",
        "            X = [x, x1, x2, x3, x4, x5]\n",
        "            Y = [y, y1, y2, y3, y4, y5]\n",
        "\n",
        "        else:\n",
        "            X = [x]\n",
        "            Y = [y]\n",
        "\n",
        "        index = 0\n",
        "        for i, m in zip(X, Y):\n",
        "            i = cv2.resize(i, (W, H))\n",
        "            m = cv2.resize(m, (W, H))\n",
        "\n",
        "            if len(X) == 1:\n",
        "                tmp_image_name = f\"{name}.jpg\"\n",
        "                tmp_mask_name = f\"{name}.jpg\"\n",
        "            else:\n",
        "                tmp_image_name = f\"{name}_{index}.jpg\"\n",
        "                tmp_mask_name = f\"{name}_{index}.jpg\"\n",
        "\n",
        "            image_path = os.path.join(save_path, \"image\", tmp_image_name)\n",
        "            mask_path = os.path.join(save_path, \"mask\", tmp_mask_name)\n",
        "\n",
        "            cv2.imwrite(image_path, i)\n",
        "            cv2.imwrite(mask_path, m)\n",
        "\n",
        "            index += 1\n",
        "\n"
      ],
      "execution_count": 6,
      "outputs": []
    },
    {
      "cell_type": "code",
      "metadata": {
        "colab": {
          "base_uri": "https://localhost:8080/"
        },
        "id": "pTvyRAZCQz26",
        "outputId": "378f27e5-0b27-48d7-d21e-29ff33410f29"
      },
      "source": [
        "if __name__ == \"__main__\":\n",
        "    \"\"\" Seeding \"\"\"\n",
        "    np.random.seed(42)\n",
        "\n",
        "    \"\"\" Load the data \"\"\"\n",
        "    data_path = \"/content/drive/MyDrive/project/UNet layers/3_Unet\"\n",
        "    (train_x, train_y), (test_x, test_y) = load_data(data_path)\n",
        "\n",
        "    print(f\"Train: {len(train_x)} - {len(train_y)}\")\n",
        "    print(f\"Test: {len(test_x)} - {len(test_y)}\")\n",
        "\n",
        "    \"\"\" Creating directories \"\"\"\n",
        "    create_dir(\"/content/drive/MyDrive/project/UNet layers/3_Unet/new_data/train/image\")\n",
        "    create_dir(\"/content/drive/MyDrive/project/UNet layers/3_Unet/new_data/train/mask\")\n",
        "    create_dir(\"/content/drive/MyDrive/project/UNet layers/3_Unet/new_data/test/image\")\n",
        "    create_dir(\"/content/drive/MyDrive/project/UNet layers/3_Unet/new_data/test/mask\")\n",
        "    create_dir(\"/content/drive/MyDrive/project/UNet layers/3_Unet/new_data/results\")\n",
        "\n",
        "    augment_data(train_x, train_y, \"/content/drive/MyDrive/project/UNet layers/3_Unet/new_data/train/\", augment= True)\n",
        "    augment_data(test_x, test_y, \"/content/drive/MyDrive/project/UNet layers/3_Unet/new_data/test/\", augment= True)"
      ],
      "execution_count": 7,
      "outputs": [
        {
          "output_type": "stream",
          "name": "stdout",
          "text": [
            "Train: 15 - 15\n",
            "Test: 5 - 5\n"
          ]
        },
        {
          "output_type": "stream",
          "name": "stderr",
          "text": [
            "100%|██████████| 15/15 [00:12<00:00,  1.17it/s]\n",
            "100%|██████████| 5/5 [00:04<00:00,  1.06it/s]\n"
          ]
        }
      ]
    },
    {
      "cell_type": "markdown",
      "metadata": {
        "id": "Huk5OfFUWs2L"
      },
      "source": [
        "# U net\n"
      ]
    },
    {
      "cell_type": "code",
      "metadata": {
        "id": "6U65BdcbWsLo"
      },
      "source": [
        "from tensorflow.keras.layers import Conv2D, BatchNormalization, Activation, MaxPool2D, Conv2DTranspose, Concatenate, Input\n",
        "from tensorflow.keras.models import Model"
      ],
      "execution_count": 8,
      "outputs": []
    },
    {
      "cell_type": "code",
      "metadata": {
        "id": "4_j61AyKXQpH"
      },
      "source": [
        "def conv_block(inputs, num_filters):\n",
        "    x = Conv2D(num_filters, 3, padding=\"same\")(inputs)\n",
        "    x = BatchNormalization()(x)\n",
        "    x = Activation(\"relu\")(x)\n",
        "\n",
        "    x = Conv2D(num_filters, 3, padding=\"same\")(x)\n",
        "    x = BatchNormalization()(x)\n",
        "    x = Activation(\"relu\")(x)\n",
        "\n",
        "    return x"
      ],
      "execution_count": 9,
      "outputs": []
    },
    {
      "cell_type": "code",
      "metadata": {
        "id": "GHQ0lMVvXUpT"
      },
      "source": [
        "def encoder_block(inputs, num_filters):\n",
        "    x = conv_block(inputs, num_filters)\n",
        "    p = MaxPool2D((2, 2))(x)\n",
        "    return x, p\n"
      ],
      "execution_count": 10,
      "outputs": []
    },
    {
      "cell_type": "code",
      "metadata": {
        "id": "aOxKXftyXWv-"
      },
      "source": [
        "def decoder_block(inputs, skip_features, num_filters):\n",
        "    x = Conv2DTranspose(num_filters, (2, 2), strides=2, padding=\"same\")(inputs)\n",
        "    x = Concatenate()([x, skip_features])\n",
        "    x = conv_block(x, num_filters)\n",
        "    return x"
      ],
      "execution_count": 11,
      "outputs": []
    },
    {
      "cell_type": "code",
      "metadata": {
        "id": "CEx_31yRXY4U"
      },
      "source": [
        "def build_unet(input_shape):\n",
        "    inputs = Input(input_shape)\n",
        "\n",
        "    s1, p1 = encoder_block(inputs, 64)\n",
        "    s2, p2 = encoder_block(p1, 128)\n",
        "    s3, p3 = encoder_block(p2, 256)\n",
        "    \n",
        "    b1 = conv_block(p3, 512)\n",
        "\n",
        "    \n",
        "    d1 = decoder_block(b1, s3, 256)\n",
        "    d2 = decoder_block(d1, s2, 128)\n",
        "    d3 = decoder_block(d2, s1, 64)\n",
        "\n",
        "    outputs = Conv2D(1, 1, padding=\"same\", activation=\"sigmoid\")(d3)\n",
        "\n",
        "    model = Model(inputs, outputs, name=\"UNET\")\n",
        "    return model"
      ],
      "execution_count": 14,
      "outputs": []
    },
    {
      "cell_type": "code",
      "metadata": {
        "colab": {
          "base_uri": "https://localhost:8080/"
        },
        "id": "JttJmADxXbVt",
        "outputId": "44635d52-17a9-4f6a-f13b-132b6f5b6d58"
      },
      "source": [
        "if __name__ == \"__main__\":\n",
        "    input_shape = (512, 512, 3)\n",
        "    model = build_unet(input_shape)\n",
        "    model.summary()"
      ],
      "execution_count": 15,
      "outputs": [
        {
          "output_type": "stream",
          "name": "stdout",
          "text": [
            "Model: \"UNET\"\n",
            "__________________________________________________________________________________________________\n",
            " Layer (type)                   Output Shape         Param #     Connected to                     \n",
            "==================================================================================================\n",
            " input_2 (InputLayer)           [(None, 512, 512, 3  0           []                               \n",
            "                                )]                                                                \n",
            "                                                                                                  \n",
            " conv2d_6 (Conv2D)              (None, 512, 512, 64  1792        ['input_2[0][0]']                \n",
            "                                )                                                                 \n",
            "                                                                                                  \n",
            " batch_normalization_6 (BatchNo  (None, 512, 512, 64  256        ['conv2d_6[0][0]']               \n",
            " rmalization)                   )                                                                 \n",
            "                                                                                                  \n",
            " activation_6 (Activation)      (None, 512, 512, 64  0           ['batch_normalization_6[0][0]']  \n",
            "                                )                                                                 \n",
            "                                                                                                  \n",
            " conv2d_7 (Conv2D)              (None, 512, 512, 64  36928       ['activation_6[0][0]']           \n",
            "                                )                                                                 \n",
            "                                                                                                  \n",
            " batch_normalization_7 (BatchNo  (None, 512, 512, 64  256        ['conv2d_7[0][0]']               \n",
            " rmalization)                   )                                                                 \n",
            "                                                                                                  \n",
            " activation_7 (Activation)      (None, 512, 512, 64  0           ['batch_normalization_7[0][0]']  \n",
            "                                )                                                                 \n",
            "                                                                                                  \n",
            " max_pooling2d_3 (MaxPooling2D)  (None, 256, 256, 64  0          ['activation_7[0][0]']           \n",
            "                                )                                                                 \n",
            "                                                                                                  \n",
            " conv2d_8 (Conv2D)              (None, 256, 256, 12  73856       ['max_pooling2d_3[0][0]']        \n",
            "                                8)                                                                \n",
            "                                                                                                  \n",
            " batch_normalization_8 (BatchNo  (None, 256, 256, 12  512        ['conv2d_8[0][0]']               \n",
            " rmalization)                   8)                                                                \n",
            "                                                                                                  \n",
            " activation_8 (Activation)      (None, 256, 256, 12  0           ['batch_normalization_8[0][0]']  \n",
            "                                8)                                                                \n",
            "                                                                                                  \n",
            " conv2d_9 (Conv2D)              (None, 256, 256, 12  147584      ['activation_8[0][0]']           \n",
            "                                8)                                                                \n",
            "                                                                                                  \n",
            " batch_normalization_9 (BatchNo  (None, 256, 256, 12  512        ['conv2d_9[0][0]']               \n",
            " rmalization)                   8)                                                                \n",
            "                                                                                                  \n",
            " activation_9 (Activation)      (None, 256, 256, 12  0           ['batch_normalization_9[0][0]']  \n",
            "                                8)                                                                \n",
            "                                                                                                  \n",
            " max_pooling2d_4 (MaxPooling2D)  (None, 128, 128, 12  0          ['activation_9[0][0]']           \n",
            "                                8)                                                                \n",
            "                                                                                                  \n",
            " conv2d_10 (Conv2D)             (None, 128, 128, 25  295168      ['max_pooling2d_4[0][0]']        \n",
            "                                6)                                                                \n",
            "                                                                                                  \n",
            " batch_normalization_10 (BatchN  (None, 128, 128, 25  1024       ['conv2d_10[0][0]']              \n",
            " ormalization)                  6)                                                                \n",
            "                                                                                                  \n",
            " activation_10 (Activation)     (None, 128, 128, 25  0           ['batch_normalization_10[0][0]'] \n",
            "                                6)                                                                \n",
            "                                                                                                  \n",
            " conv2d_11 (Conv2D)             (None, 128, 128, 25  590080      ['activation_10[0][0]']          \n",
            "                                6)                                                                \n",
            "                                                                                                  \n",
            " batch_normalization_11 (BatchN  (None, 128, 128, 25  1024       ['conv2d_11[0][0]']              \n",
            " ormalization)                  6)                                                                \n",
            "                                                                                                  \n",
            " activation_11 (Activation)     (None, 128, 128, 25  0           ['batch_normalization_11[0][0]'] \n",
            "                                6)                                                                \n",
            "                                                                                                  \n",
            " max_pooling2d_5 (MaxPooling2D)  (None, 64, 64, 256)  0          ['activation_11[0][0]']          \n",
            "                                                                                                  \n",
            " conv2d_12 (Conv2D)             (None, 64, 64, 512)  1180160     ['max_pooling2d_5[0][0]']        \n",
            "                                                                                                  \n",
            " batch_normalization_12 (BatchN  (None, 64, 64, 512)  2048       ['conv2d_12[0][0]']              \n",
            " ormalization)                                                                                    \n",
            "                                                                                                  \n",
            " activation_12 (Activation)     (None, 64, 64, 512)  0           ['batch_normalization_12[0][0]'] \n",
            "                                                                                                  \n",
            " conv2d_13 (Conv2D)             (None, 64, 64, 512)  2359808     ['activation_12[0][0]']          \n",
            "                                                                                                  \n",
            " batch_normalization_13 (BatchN  (None, 64, 64, 512)  2048       ['conv2d_13[0][0]']              \n",
            " ormalization)                                                                                    \n",
            "                                                                                                  \n",
            " activation_13 (Activation)     (None, 64, 64, 512)  0           ['batch_normalization_13[0][0]'] \n",
            "                                                                                                  \n",
            " conv2d_transpose (Conv2DTransp  (None, 128, 128, 25  524544     ['activation_13[0][0]']          \n",
            " ose)                           6)                                                                \n",
            "                                                                                                  \n",
            " concatenate (Concatenate)      (None, 128, 128, 51  0           ['conv2d_transpose[0][0]',       \n",
            "                                2)                                'activation_11[0][0]']          \n",
            "                                                                                                  \n",
            " conv2d_14 (Conv2D)             (None, 128, 128, 25  1179904     ['concatenate[0][0]']            \n",
            "                                6)                                                                \n",
            "                                                                                                  \n",
            " batch_normalization_14 (BatchN  (None, 128, 128, 25  1024       ['conv2d_14[0][0]']              \n",
            " ormalization)                  6)                                                                \n",
            "                                                                                                  \n",
            " activation_14 (Activation)     (None, 128, 128, 25  0           ['batch_normalization_14[0][0]'] \n",
            "                                6)                                                                \n",
            "                                                                                                  \n",
            " conv2d_15 (Conv2D)             (None, 128, 128, 25  590080      ['activation_14[0][0]']          \n",
            "                                6)                                                                \n",
            "                                                                                                  \n",
            " batch_normalization_15 (BatchN  (None, 128, 128, 25  1024       ['conv2d_15[0][0]']              \n",
            " ormalization)                  6)                                                                \n",
            "                                                                                                  \n",
            " activation_15 (Activation)     (None, 128, 128, 25  0           ['batch_normalization_15[0][0]'] \n",
            "                                6)                                                                \n",
            "                                                                                                  \n",
            " conv2d_transpose_1 (Conv2DTran  (None, 256, 256, 12  131200     ['activation_15[0][0]']          \n",
            " spose)                         8)                                                                \n",
            "                                                                                                  \n",
            " concatenate_1 (Concatenate)    (None, 256, 256, 25  0           ['conv2d_transpose_1[0][0]',     \n",
            "                                6)                                'activation_9[0][0]']           \n",
            "                                                                                                  \n",
            " conv2d_16 (Conv2D)             (None, 256, 256, 12  295040      ['concatenate_1[0][0]']          \n",
            "                                8)                                                                \n",
            "                                                                                                  \n",
            " batch_normalization_16 (BatchN  (None, 256, 256, 12  512        ['conv2d_16[0][0]']              \n",
            " ormalization)                  8)                                                                \n",
            "                                                                                                  \n",
            " activation_16 (Activation)     (None, 256, 256, 12  0           ['batch_normalization_16[0][0]'] \n",
            "                                8)                                                                \n",
            "                                                                                                  \n",
            " conv2d_17 (Conv2D)             (None, 256, 256, 12  147584      ['activation_16[0][0]']          \n",
            "                                8)                                                                \n",
            "                                                                                                  \n",
            " batch_normalization_17 (BatchN  (None, 256, 256, 12  512        ['conv2d_17[0][0]']              \n",
            " ormalization)                  8)                                                                \n",
            "                                                                                                  \n",
            " activation_17 (Activation)     (None, 256, 256, 12  0           ['batch_normalization_17[0][0]'] \n",
            "                                8)                                                                \n",
            "                                                                                                  \n",
            " conv2d_transpose_2 (Conv2DTran  (None, 512, 512, 64  32832      ['activation_17[0][0]']          \n",
            " spose)                         )                                                                 \n",
            "                                                                                                  \n",
            " concatenate_2 (Concatenate)    (None, 512, 512, 12  0           ['conv2d_transpose_2[0][0]',     \n",
            "                                8)                                'activation_7[0][0]']           \n",
            "                                                                                                  \n",
            " conv2d_18 (Conv2D)             (None, 512, 512, 64  73792       ['concatenate_2[0][0]']          \n",
            "                                )                                                                 \n",
            "                                                                                                  \n",
            " batch_normalization_18 (BatchN  (None, 512, 512, 64  256        ['conv2d_18[0][0]']              \n",
            " ormalization)                  )                                                                 \n",
            "                                                                                                  \n",
            " activation_18 (Activation)     (None, 512, 512, 64  0           ['batch_normalization_18[0][0]'] \n",
            "                                )                                                                 \n",
            "                                                                                                  \n",
            " conv2d_19 (Conv2D)             (None, 512, 512, 64  36928       ['activation_18[0][0]']          \n",
            "                                )                                                                 \n",
            "                                                                                                  \n",
            " batch_normalization_19 (BatchN  (None, 512, 512, 64  256        ['conv2d_19[0][0]']              \n",
            " ormalization)                  )                                                                 \n",
            "                                                                                                  \n",
            " activation_19 (Activation)     (None, 512, 512, 64  0           ['batch_normalization_19[0][0]'] \n",
            "                                )                                                                 \n",
            "                                                                                                  \n",
            " conv2d_20 (Conv2D)             (None, 512, 512, 1)  65          ['activation_19[0][0]']          \n",
            "                                                                                                  \n",
            "==================================================================================================\n",
            "Total params: 7,708,609\n",
            "Trainable params: 7,702,977\n",
            "Non-trainable params: 5,632\n",
            "__________________________________________________________________________________________________\n"
          ]
        }
      ]
    },
    {
      "cell_type": "markdown",
      "metadata": {
        "id": "u-nWSf7uaLXC"
      },
      "source": [
        "# Metric"
      ]
    },
    {
      "cell_type": "code",
      "metadata": {
        "id": "ux5bPMyqaIr2"
      },
      "source": [
        "import numpy as np\n",
        "import tensorflow as tf\n",
        "from tensorflow.keras import backend as K"
      ],
      "execution_count": 16,
      "outputs": []
    },
    {
      "cell_type": "code",
      "metadata": {
        "id": "-0GwKT5gaXBB"
      },
      "source": [
        "def iou(y_true, y_pred):\n",
        "    def f(y_true, y_pred):\n",
        "        intersection = (y_true * y_pred).sum()\n",
        "        union = y_true.sum() + y_pred.sum() - intersection\n",
        "        x = (intersection + 1e-15) / (union + 1e-15)\n",
        "        x = x.astype(np.float32)\n",
        "        return x\n",
        "    return tf.numpy_function(f, [y_true, y_pred], tf.float32)"
      ],
      "execution_count": 17,
      "outputs": []
    },
    {
      "cell_type": "code",
      "metadata": {
        "id": "JoBHU_1Sacef"
      },
      "source": [
        "smooth = 1e-15\n",
        "def dice_coef(y_true, y_pred):\n",
        "    y_true = tf.keras.layers.Flatten()(y_true)\n",
        "    y_pred = tf.keras.layers.Flatten()(y_pred)\n",
        "    intersection = tf.reduce_sum(y_true * y_pred)\n",
        "    return (2. * intersection + smooth) / (tf.reduce_sum(y_true) + tf.reduce_sum(y_pred) + smooth)"
      ],
      "execution_count": 18,
      "outputs": []
    },
    {
      "cell_type": "code",
      "metadata": {
        "id": "hN8lqWsKaelp"
      },
      "source": [
        "def dice_loss(y_true, y_pred):\n",
        "    return 1.0 - dice_coef(y_true, y_pred)"
      ],
      "execution_count": 19,
      "outputs": []
    },
    {
      "cell_type": "markdown",
      "metadata": {
        "id": "lz3PuzabYuOR"
      },
      "source": [
        "# Training\n"
      ]
    },
    {
      "cell_type": "code",
      "metadata": {
        "id": "O6xU6icHYtUn"
      },
      "source": [
        "import os\n",
        "os.environ[\"TF_CPP_MIN_LOG_LEVEL\"] = \"2\"\n",
        "import numpy as np\n",
        "import cv2\n",
        "from glob import glob\n",
        "from sklearn.utils import shuffle\n",
        "import tensorflow as tf\n",
        "from tensorflow.keras.callbacks import ModelCheckpoint, CSVLogger, ReduceLROnPlateau, EarlyStopping, TensorBoard\n",
        "from tensorflow.keras.optimizers import Adam\n",
        "from tensorflow.keras.metrics import Recall, Precision\n"
      ],
      "execution_count": 20,
      "outputs": []
    },
    {
      "cell_type": "code",
      "metadata": {
        "id": "odXO1Sq-apHv"
      },
      "source": [
        "H = 512\n",
        "W = 512"
      ],
      "execution_count": 21,
      "outputs": []
    },
    {
      "cell_type": "code",
      "metadata": {
        "id": "ad2a3IgQarod"
      },
      "source": [
        "def create_dir(path):\n",
        "    if not os.path.exists(path):\n",
        "        os.makedirs(path)"
      ],
      "execution_count": 22,
      "outputs": []
    },
    {
      "cell_type": "code",
      "metadata": {
        "id": "KIRpl_FWasuA"
      },
      "source": [
        "def load_data(path):\n",
        "    x = sorted(glob(os.path.join(path, \"image\", \"*.jpg\")))\n",
        "    y = sorted(glob(os.path.join(path, \"mask\", \"*.jpg\")))\n",
        "    return x, y"
      ],
      "execution_count": 23,
      "outputs": []
    },
    {
      "cell_type": "code",
      "metadata": {
        "id": "3tnI_ZPaax7H"
      },
      "source": [
        "def shuffling(x, y):\n",
        "    x, y = shuffle(x, y, random_state=42)\n",
        "    return x, y"
      ],
      "execution_count": 24,
      "outputs": []
    },
    {
      "cell_type": "code",
      "metadata": {
        "id": "bF4mZL0Aa0gR"
      },
      "source": [
        "def read_image(path):\n",
        "    path = path.decode()\n",
        "    x = cv2.imread(path, cv2.IMREAD_COLOR)\n",
        "    # x = cv2.resize(x, (W, H))\n",
        "    x = x/255.0\n",
        "    x = x.astype(np.float32)\n",
        "    return x"
      ],
      "execution_count": 25,
      "outputs": []
    },
    {
      "cell_type": "code",
      "metadata": {
        "id": "aOyJgzyga3iZ"
      },
      "source": [
        "def read_mask(path):\n",
        "    path = path.decode()\n",
        "    x = cv2.imread(path, cv2.IMREAD_GRAYSCALE)  ## (512, 512)\n",
        "    # x = cv2.resize(x, (W, H))\n",
        "    x = x/255.0\n",
        "    x = x.astype(np.float32)\n",
        "    x = np.expand_dims(x, axis=-1)              ## (512, 512, 1)\n",
        "    return x"
      ],
      "execution_count": 26,
      "outputs": []
    },
    {
      "cell_type": "code",
      "metadata": {
        "id": "XrSakcs8a51T"
      },
      "source": [
        "def tf_parse(x, y):\n",
        "    def _parse(x, y):\n",
        "        x = read_image(x)\n",
        "        y = read_mask(y)\n",
        "        return x, y\n",
        "\n",
        "    x, y = tf.numpy_function(_parse, [x, y], [tf.float32, tf.float32])\n",
        "    x.set_shape([H, W, 3])\n",
        "    y.set_shape([H, W, 1])\n",
        "    return x, y"
      ],
      "execution_count": 27,
      "outputs": []
    },
    {
      "cell_type": "code",
      "metadata": {
        "id": "S4WFOls-a8RP"
      },
      "source": [
        "def tf_dataset(X, Y, batch_size=2):\n",
        "    dataset = tf.data.Dataset.from_tensor_slices((X, Y))\n",
        "    dataset = dataset.map(tf_parse)\n",
        "    dataset = dataset.batch(batch_size)\n",
        "    dataset = dataset.prefetch(4)\n",
        "    return dataset"
      ],
      "execution_count": 28,
      "outputs": []
    },
    {
      "cell_type": "code",
      "metadata": {
        "colab": {
          "base_uri": "https://localhost:8080/"
        },
        "id": "_XOlxR3VbAjL",
        "outputId": "6d0ed5cf-346a-4bf9-c289-d67aeacd6d58"
      },
      "source": [
        "if __name__ == \"__main__\":\n",
        "    \"\"\" Seeding \"\"\"\n",
        "    np.random.seed(42)\n",
        "    tf.random.set_seed(42)\n",
        "\n",
        "    \"\"\" Directory to save files \"\"\"\n",
        "    create_dir(\"/content/drive/MyDrive/project/UNet layers/3_Unet/new_data/files\")\n",
        "\n",
        "    \"\"\" Hyperparameters \"\"\"\n",
        "    batch_size = 2\n",
        "    lr = 1e-4\n",
        "    num_epochs = 100\n",
        "    model_path = os.path.join(\"/content/drive/MyDrive/project/UNet layers/3_Unet/new_data/files\", \"model.h5\")\n",
        "    csv_path = os.path.join(\"/content/drive/MyDrive/project/UNet layers/3_Unet/new_data/files\", \"data.csv\")\n",
        "\n",
        "    \"\"\" Dataset \"\"\"\n",
        "    dataset_path = \"/content/drive/MyDrive/project/UNet layers/3_Unet/new_data\"\n",
        "    train_path = os.path.join(dataset_path, \"train\")\n",
        "    valid_path = os.path.join(dataset_path, \"test\")\n",
        "\n",
        "    train_x, train_y = load_data(train_path)\n",
        "    train_x, train_y = shuffling(train_x, train_y)\n",
        "    valid_x, valid_y = load_data(valid_path)\n",
        "\n",
        "    print(f\"Train: {len(train_x)} - {len(train_y)}\")\n",
        "    print(f\"Valid: {len(valid_x)} - {len(valid_y)}\")\n",
        "\n",
        "    train_dataset = tf_dataset(train_x, train_y, batch_size=batch_size)\n",
        "    valid_dataset = tf_dataset(valid_x, valid_y, batch_size=batch_size)\n",
        "\n",
        "    train_steps = len(train_x)//batch_size\n",
        "    valid_setps = len(valid_x)//batch_size\n",
        "\n",
        "    if len(train_x) % batch_size != 0:\n",
        "        train_steps += 1\n",
        "    if len(valid_x) % batch_size != 0:\n",
        "        valid_setps += 1\n",
        "\n",
        "    \"\"\" Model \"\"\"\n",
        "    model = build_unet((H, W, 3))\n",
        "    model.compile(loss=dice_loss, optimizer=Adam(lr), metrics=[dice_coef, iou, Recall(), Precision()])\n",
        "    # model.summary()\n",
        "\n",
        "    callbacks = [\n",
        "        ModelCheckpoint(model_path, verbose=1, save_best_only=True),\n",
        "        ReduceLROnPlateau(monitor=\"val_loss\", factor=0.1, patience=5, min_lr=1e-6, verbose=1),\n",
        "        CSVLogger(csv_path),\n",
        "        TensorBoard(),\n",
        "        EarlyStopping(monitor=\"val_loss\", patience=10, restore_best_weights=False)\n",
        "    ]\n",
        "\n",
        "    model.fit(\n",
        "        train_dataset,\n",
        "        epochs=num_epochs,\n",
        "        validation_data=valid_dataset,\n",
        "        steps_per_epoch=train_steps,\n",
        "        validation_steps=valid_setps,\n",
        "        callbacks=callbacks\n",
        "    )"
      ],
      "execution_count": 29,
      "outputs": [
        {
          "output_type": "stream",
          "name": "stdout",
          "text": [
            "Train: 90 - 90\n",
            "Valid: 15 - 15\n",
            "Epoch 1/100\n",
            "45/45 [==============================] - ETA: 0s - loss: 0.6860 - dice_coef: 0.3140 - iou: 0.1891 - recall: 0.6213 - precision: 0.4166\n",
            "Epoch 00001: val_loss improved from inf to 0.85174, saving model to /content/drive/MyDrive/project/UNet layers/3_Unet/new_data/files/model.h5\n",
            "45/45 [==============================] - 91s 1s/step - loss: 0.6860 - dice_coef: 0.3140 - iou: 0.1891 - recall: 0.6213 - precision: 0.4166 - val_loss: 0.8517 - val_dice_coef: 0.1471 - val_iou: 0.0795 - val_recall: 0.0000e+00 - val_precision: 0.0000e+00 - lr: 1.0000e-04\n",
            "Epoch 2/100\n",
            "45/45 [==============================] - ETA: 0s - loss: 0.4937 - dice_coef: 0.5063 - iou: 0.3402 - recall: 0.4463 - precision: 0.7697\n",
            "Epoch 00002: val_loss did not improve from 0.85174\n",
            "45/45 [==============================] - 61s 1s/step - loss: 0.4937 - dice_coef: 0.5063 - iou: 0.3402 - recall: 0.4463 - precision: 0.7697 - val_loss: 0.8651 - val_dice_coef: 0.1340 - val_iou: 0.0719 - val_recall: 0.0000e+00 - val_precision: 0.0000e+00 - lr: 1.0000e-04\n",
            "Epoch 3/100\n",
            "45/45 [==============================] - ETA: 0s - loss: 0.4248 - dice_coef: 0.5752 - iou: 0.4045 - recall: 0.4185 - precision: 0.8434\n",
            "Epoch 00003: val_loss did not improve from 0.85174\n",
            "45/45 [==============================] - 61s 1s/step - loss: 0.4248 - dice_coef: 0.5752 - iou: 0.4045 - recall: 0.4185 - precision: 0.8434 - val_loss: 0.8905 - val_dice_coef: 0.1089 - val_iou: 0.0576 - val_recall: 0.0000e+00 - val_precision: 0.0000e+00 - lr: 1.0000e-04\n",
            "Epoch 4/100\n",
            "45/45 [==============================] - ETA: 0s - loss: 0.3901 - dice_coef: 0.6099 - iou: 0.4396 - recall: 0.4129 - precision: 0.8737\n",
            "Epoch 00004: val_loss did not improve from 0.85174\n",
            "45/45 [==============================] - 61s 1s/step - loss: 0.3901 - dice_coef: 0.6099 - iou: 0.4396 - recall: 0.4129 - precision: 0.8737 - val_loss: 0.9136 - val_dice_coef: 0.0860 - val_iou: 0.0449 - val_recall: 4.4176e-05 - val_precision: 1.0000 - lr: 1.0000e-04\n",
            "Epoch 5/100\n",
            "45/45 [==============================] - ETA: 0s - loss: 0.3647 - dice_coef: 0.6353 - iou: 0.4663 - recall: 0.4094 - precision: 0.8936\n",
            "Epoch 00005: val_loss did not improve from 0.85174\n",
            "45/45 [==============================] - 61s 1s/step - loss: 0.3647 - dice_coef: 0.6353 - iou: 0.4663 - recall: 0.4094 - precision: 0.8936 - val_loss: 0.9231 - val_dice_coef: 0.0761 - val_iou: 0.0396 - val_recall: 0.0024 - val_precision: 0.2225 - lr: 1.0000e-04\n",
            "Epoch 6/100\n",
            "45/45 [==============================] - ETA: 0s - loss: 0.3449 - dice_coef: 0.6551 - iou: 0.4879 - recall: 0.4076 - precision: 0.9076\n",
            "Epoch 00006: val_loss did not improve from 0.85174\n",
            "\n",
            "Epoch 00006: ReduceLROnPlateau reducing learning rate to 9.999999747378752e-06.\n",
            "45/45 [==============================] - 59s 1s/step - loss: 0.3449 - dice_coef: 0.6551 - iou: 0.4879 - recall: 0.4076 - precision: 0.9076 - val_loss: 0.8977 - val_dice_coef: 0.0994 - val_iou: 0.0530 - val_recall: 0.0172 - val_precision: 0.3633 - lr: 1.0000e-04\n",
            "Epoch 7/100\n",
            "45/45 [==============================] - ETA: 0s - loss: 0.3318 - dice_coef: 0.6682 - iou: 0.5024 - recall: 0.4083 - precision: 0.9167\n",
            "Epoch 00007: val_loss improved from 0.85174 to 0.82912, saving model to /content/drive/MyDrive/project/UNet layers/3_Unet/new_data/files/model.h5\n",
            "45/45 [==============================] - 60s 1s/step - loss: 0.3318 - dice_coef: 0.6682 - iou: 0.5024 - recall: 0.4083 - precision: 0.9167 - val_loss: 0.8291 - val_dice_coef: 0.1656 - val_iou: 0.0923 - val_recall: 0.0514 - val_precision: 0.4266 - lr: 1.0000e-05\n",
            "Epoch 8/100\n",
            "45/45 [==============================] - ETA: 0s - loss: 0.3253 - dice_coef: 0.6747 - iou: 0.5097 - recall: 0.4096 - precision: 0.9238\n",
            "Epoch 00008: val_loss improved from 0.82912 to 0.71574, saving model to /content/drive/MyDrive/project/UNet layers/3_Unet/new_data/files/model.h5\n",
            "45/45 [==============================] - 60s 1s/step - loss: 0.3253 - dice_coef: 0.6747 - iou: 0.5097 - recall: 0.4096 - precision: 0.9238 - val_loss: 0.7157 - val_dice_coef: 0.2785 - val_iou: 0.1645 - val_recall: 0.1088 - val_precision: 0.5489 - lr: 1.0000e-05\n",
            "Epoch 9/100\n",
            "45/45 [==============================] - ETA: 0s - loss: 0.3223 - dice_coef: 0.6777 - iou: 0.5132 - recall: 0.4105 - precision: 0.9261\n",
            "Epoch 00009: val_loss improved from 0.71574 to 0.60261, saving model to /content/drive/MyDrive/project/UNet layers/3_Unet/new_data/files/model.h5\n",
            "45/45 [==============================] - 60s 1s/step - loss: 0.3223 - dice_coef: 0.6777 - iou: 0.5132 - recall: 0.4105 - precision: 0.9261 - val_loss: 0.6026 - val_dice_coef: 0.3927 - val_iou: 0.2464 - val_recall: 0.1778 - val_precision: 0.6325 - lr: 1.0000e-05\n",
            "Epoch 10/100\n",
            "45/45 [==============================] - ETA: 0s - loss: 0.3196 - dice_coef: 0.6804 - iou: 0.5163 - recall: 0.4109 - precision: 0.9280\n",
            "Epoch 00010: val_loss improved from 0.60261 to 0.51478, saving model to /content/drive/MyDrive/project/UNet layers/3_Unet/new_data/files/model.h5\n",
            "45/45 [==============================] - 60s 1s/step - loss: 0.3196 - dice_coef: 0.6804 - iou: 0.5163 - recall: 0.4109 - precision: 0.9280 - val_loss: 0.5148 - val_dice_coef: 0.4815 - val_iou: 0.3186 - val_recall: 0.2424 - val_precision: 0.6989 - lr: 1.0000e-05\n",
            "Epoch 11/100\n",
            "45/45 [==============================] - ETA: 0s - loss: 0.3170 - dice_coef: 0.6830 - iou: 0.5193 - recall: 0.4112 - precision: 0.9299\n",
            "Epoch 00011: val_loss improved from 0.51478 to 0.45187, saving model to /content/drive/MyDrive/project/UNet layers/3_Unet/new_data/files/model.h5\n",
            "45/45 [==============================] - 62s 1s/step - loss: 0.3170 - dice_coef: 0.6830 - iou: 0.5193 - recall: 0.4112 - precision: 0.9299 - val_loss: 0.4519 - val_dice_coef: 0.5453 - val_iou: 0.3759 - val_recall: 0.2971 - val_precision: 0.7552 - lr: 1.0000e-05\n",
            "Epoch 12/100\n",
            "45/45 [==============================] - ETA: 0s - loss: 0.3144 - dice_coef: 0.6856 - iou: 0.5222 - recall: 0.4114 - precision: 0.9317\n",
            "Epoch 00012: val_loss improved from 0.45187 to 0.40664, saving model to /content/drive/MyDrive/project/UNet layers/3_Unet/new_data/files/model.h5\n",
            "45/45 [==============================] - 60s 1s/step - loss: 0.3144 - dice_coef: 0.6856 - iou: 0.5222 - recall: 0.4114 - precision: 0.9317 - val_loss: 0.4066 - val_dice_coef: 0.5904 - val_iou: 0.4196 - val_recall: 0.3383 - val_precision: 0.8091 - lr: 1.0000e-05\n",
            "Epoch 13/100\n",
            "45/45 [==============================] - ETA: 0s - loss: 0.3119 - dice_coef: 0.6881 - iou: 0.5252 - recall: 0.4117 - precision: 0.9334\n",
            "Epoch 00013: val_loss improved from 0.40664 to 0.36799, saving model to /content/drive/MyDrive/project/UNet layers/3_Unet/new_data/files/model.h5\n",
            "45/45 [==============================] - 60s 1s/step - loss: 0.3119 - dice_coef: 0.6881 - iou: 0.5252 - recall: 0.4117 - precision: 0.9334 - val_loss: 0.3680 - val_dice_coef: 0.6291 - val_iou: 0.4595 - val_recall: 0.3678 - val_precision: 0.8773 - lr: 1.0000e-05\n",
            "Epoch 14/100\n",
            "45/45 [==============================] - ETA: 0s - loss: 0.3093 - dice_coef: 0.6907 - iou: 0.5281 - recall: 0.4119 - precision: 0.9351\n",
            "Epoch 00014: val_loss improved from 0.36799 to 0.34196, saving model to /content/drive/MyDrive/project/UNet layers/3_Unet/new_data/files/model.h5\n",
            "45/45 [==============================] - 62s 1s/step - loss: 0.3093 - dice_coef: 0.6907 - iou: 0.5281 - recall: 0.4119 - precision: 0.9351 - val_loss: 0.3420 - val_dice_coef: 0.6555 - val_iou: 0.4880 - val_recall: 0.3885 - val_precision: 0.9163 - lr: 1.0000e-05\n",
            "Epoch 15/100\n",
            "45/45 [==============================] - ETA: 0s - loss: 0.3068 - dice_coef: 0.6932 - iou: 0.5311 - recall: 0.4120 - precision: 0.9368\n",
            "Epoch 00015: val_loss improved from 0.34196 to 0.32917, saving model to /content/drive/MyDrive/project/UNet layers/3_Unet/new_data/files/model.h5\n",
            "45/45 [==============================] - 60s 1s/step - loss: 0.3068 - dice_coef: 0.6932 - iou: 0.5311 - recall: 0.4120 - precision: 0.9368 - val_loss: 0.3292 - val_dice_coef: 0.6686 - val_iou: 0.5026 - val_recall: 0.4032 - val_precision: 0.9235 - lr: 1.0000e-05\n",
            "Epoch 16/100\n",
            "45/45 [==============================] - ETA: 0s - loss: 0.3042 - dice_coef: 0.6958 - iou: 0.5341 - recall: 0.4121 - precision: 0.9384\n",
            "Epoch 00016: val_loss improved from 0.32917 to 0.32352, saving model to /content/drive/MyDrive/project/UNet layers/3_Unet/new_data/files/model.h5\n",
            "45/45 [==============================] - 61s 1s/step - loss: 0.3042 - dice_coef: 0.6958 - iou: 0.5341 - recall: 0.4121 - precision: 0.9384 - val_loss: 0.3235 - val_dice_coef: 0.6744 - val_iou: 0.5091 - val_recall: 0.4128 - val_precision: 0.9222 - lr: 1.0000e-05\n",
            "Epoch 17/100\n",
            "45/45 [==============================] - ETA: 0s - loss: 0.3017 - dice_coef: 0.6983 - iou: 0.5370 - recall: 0.4121 - precision: 0.9400\n",
            "Epoch 00017: val_loss improved from 0.32352 to 0.32086, saving model to /content/drive/MyDrive/project/UNet layers/3_Unet/new_data/files/model.h5\n",
            "45/45 [==============================] - 62s 1s/step - loss: 0.3017 - dice_coef: 0.6983 - iou: 0.5370 - recall: 0.4121 - precision: 0.9400 - val_loss: 0.3209 - val_dice_coef: 0.6772 - val_iou: 0.5122 - val_recall: 0.4181 - val_precision: 0.9207 - lr: 1.0000e-05\n",
            "Epoch 18/100\n",
            "45/45 [==============================] - ETA: 0s - loss: 0.2992 - dice_coef: 0.7008 - iou: 0.5399 - recall: 0.4122 - precision: 0.9417\n",
            "Epoch 00018: val_loss improved from 0.32086 to 0.31925, saving model to /content/drive/MyDrive/project/UNet layers/3_Unet/new_data/files/model.h5\n",
            "45/45 [==============================] - 60s 1s/step - loss: 0.2992 - dice_coef: 0.7008 - iou: 0.5399 - recall: 0.4122 - precision: 0.9417 - val_loss: 0.3193 - val_dice_coef: 0.6788 - val_iou: 0.5141 - val_recall: 0.4205 - val_precision: 0.9197 - lr: 1.0000e-05\n",
            "Epoch 19/100\n",
            "45/45 [==============================] - ETA: 0s - loss: 0.2968 - dice_coef: 0.7032 - iou: 0.5428 - recall: 0.4122 - precision: 0.9433\n",
            "Epoch 00019: val_loss improved from 0.31925 to 0.31834, saving model to /content/drive/MyDrive/project/UNet layers/3_Unet/new_data/files/model.h5\n",
            "45/45 [==============================] - 60s 1s/step - loss: 0.2968 - dice_coef: 0.7032 - iou: 0.5428 - recall: 0.4122 - precision: 0.9433 - val_loss: 0.3183 - val_dice_coef: 0.6797 - val_iou: 0.5152 - val_recall: 0.4217 - val_precision: 0.9191 - lr: 1.0000e-05\n",
            "Epoch 20/100\n",
            "45/45 [==============================] - ETA: 0s - loss: 0.2944 - dice_coef: 0.7056 - iou: 0.5457 - recall: 0.4123 - precision: 0.9448\n",
            "Epoch 00020: val_loss improved from 0.31834 to 0.31758, saving model to /content/drive/MyDrive/project/UNet layers/3_Unet/new_data/files/model.h5\n",
            "45/45 [==============================] - 62s 1s/step - loss: 0.2944 - dice_coef: 0.7056 - iou: 0.5457 - recall: 0.4123 - precision: 0.9448 - val_loss: 0.3176 - val_dice_coef: 0.6805 - val_iou: 0.5161 - val_recall: 0.4222 - val_precision: 0.9189 - lr: 1.0000e-05\n",
            "Epoch 21/100\n",
            "45/45 [==============================] - ETA: 0s - loss: 0.2920 - dice_coef: 0.7080 - iou: 0.5486 - recall: 0.4124 - precision: 0.9463\n",
            "Epoch 00021: val_loss improved from 0.31758 to 0.31691, saving model to /content/drive/MyDrive/project/UNet layers/3_Unet/new_data/files/model.h5\n",
            "45/45 [==============================] - 62s 1s/step - loss: 0.2920 - dice_coef: 0.7080 - iou: 0.5486 - recall: 0.4124 - precision: 0.9463 - val_loss: 0.3169 - val_dice_coef: 0.6812 - val_iou: 0.5169 - val_recall: 0.4219 - val_precision: 0.9191 - lr: 1.0000e-05\n",
            "Epoch 22/100\n",
            "45/45 [==============================] - ETA: 0s - loss: 0.2896 - dice_coef: 0.7104 - iou: 0.5515 - recall: 0.4125 - precision: 0.9477\n",
            "Epoch 00022: val_loss improved from 0.31691 to 0.31646, saving model to /content/drive/MyDrive/project/UNet layers/3_Unet/new_data/files/model.h5\n",
            "45/45 [==============================] - 62s 1s/step - loss: 0.2896 - dice_coef: 0.7104 - iou: 0.5515 - recall: 0.4125 - precision: 0.9477 - val_loss: 0.3165 - val_dice_coef: 0.6817 - val_iou: 0.5174 - val_recall: 0.4220 - val_precision: 0.9188 - lr: 1.0000e-05\n",
            "Epoch 23/100\n",
            "45/45 [==============================] - ETA: 0s - loss: 0.2872 - dice_coef: 0.7128 - iou: 0.5543 - recall: 0.4125 - precision: 0.9491\n",
            "Epoch 00023: val_loss improved from 0.31646 to 0.31581, saving model to /content/drive/MyDrive/project/UNet layers/3_Unet/new_data/files/model.h5\n",
            "45/45 [==============================] - 60s 1s/step - loss: 0.2872 - dice_coef: 0.7128 - iou: 0.5543 - recall: 0.4125 - precision: 0.9491 - val_loss: 0.3158 - val_dice_coef: 0.6824 - val_iou: 0.5182 - val_recall: 0.4215 - val_precision: 0.9189 - lr: 1.0000e-05\n",
            "Epoch 24/100\n",
            "45/45 [==============================] - ETA: 0s - loss: 0.2849 - dice_coef: 0.7151 - iou: 0.5571 - recall: 0.4125 - precision: 0.9505\n",
            "Epoch 00024: val_loss improved from 0.31581 to 0.31521, saving model to /content/drive/MyDrive/project/UNet layers/3_Unet/new_data/files/model.h5\n",
            "45/45 [==============================] - 60s 1s/step - loss: 0.2849 - dice_coef: 0.7151 - iou: 0.5571 - recall: 0.4125 - precision: 0.9505 - val_loss: 0.3152 - val_dice_coef: 0.6830 - val_iou: 0.5189 - val_recall: 0.4210 - val_precision: 0.9188 - lr: 1.0000e-05\n",
            "Epoch 25/100\n",
            "45/45 [==============================] - ETA: 0s - loss: 0.2826 - dice_coef: 0.7174 - iou: 0.5599 - recall: 0.4125 - precision: 0.9518\n",
            "Epoch 00025: val_loss improved from 0.31521 to 0.31498, saving model to /content/drive/MyDrive/project/UNet layers/3_Unet/new_data/files/model.h5\n",
            "45/45 [==============================] - 60s 1s/step - loss: 0.2826 - dice_coef: 0.7174 - iou: 0.5599 - recall: 0.4125 - precision: 0.9518 - val_loss: 0.3150 - val_dice_coef: 0.6832 - val_iou: 0.5192 - val_recall: 0.4218 - val_precision: 0.9176 - lr: 1.0000e-05\n",
            "Epoch 26/100\n",
            "45/45 [==============================] - ETA: 0s - loss: 0.2803 - dice_coef: 0.7197 - iou: 0.5627 - recall: 0.4125 - precision: 0.9531\n",
            "Epoch 00026: val_loss improved from 0.31498 to 0.31497, saving model to /content/drive/MyDrive/project/UNet layers/3_Unet/new_data/files/model.h5\n",
            "45/45 [==============================] - 60s 1s/step - loss: 0.2803 - dice_coef: 0.7197 - iou: 0.5627 - recall: 0.4125 - precision: 0.9531 - val_loss: 0.3150 - val_dice_coef: 0.6833 - val_iou: 0.5192 - val_recall: 0.4230 - val_precision: 0.9162 - lr: 1.0000e-05\n",
            "Epoch 27/100\n",
            "45/45 [==============================] - ETA: 0s - loss: 0.2781 - dice_coef: 0.7219 - iou: 0.5654 - recall: 0.4124 - precision: 0.9543\n",
            "Epoch 00027: val_loss improved from 0.31497 to 0.31464, saving model to /content/drive/MyDrive/project/UNet layers/3_Unet/new_data/files/model.h5\n",
            "45/45 [==============================] - 62s 1s/step - loss: 0.2781 - dice_coef: 0.7219 - iou: 0.5654 - recall: 0.4124 - precision: 0.9543 - val_loss: 0.3146 - val_dice_coef: 0.6836 - val_iou: 0.5196 - val_recall: 0.4232 - val_precision: 0.9156 - lr: 1.0000e-05\n",
            "Epoch 28/100\n",
            "45/45 [==============================] - ETA: 0s - loss: 0.2759 - dice_coef: 0.7241 - iou: 0.5681 - recall: 0.4124 - precision: 0.9555\n",
            "Epoch 00028: val_loss improved from 0.31464 to 0.31440, saving model to /content/drive/MyDrive/project/UNet layers/3_Unet/new_data/files/model.h5\n",
            "45/45 [==============================] - 62s 1s/step - loss: 0.2759 - dice_coef: 0.7241 - iou: 0.5681 - recall: 0.4124 - precision: 0.9555 - val_loss: 0.3144 - val_dice_coef: 0.6839 - val_iou: 0.5199 - val_recall: 0.4243 - val_precision: 0.9143 - lr: 1.0000e-05\n",
            "Epoch 29/100\n",
            "45/45 [==============================] - ETA: 0s - loss: 0.2737 - dice_coef: 0.7263 - iou: 0.5708 - recall: 0.4123 - precision: 0.9568\n",
            "Epoch 00029: val_loss improved from 0.31440 to 0.31405, saving model to /content/drive/MyDrive/project/UNet layers/3_Unet/new_data/files/model.h5\n",
            "45/45 [==============================] - 60s 1s/step - loss: 0.2737 - dice_coef: 0.7263 - iou: 0.5708 - recall: 0.4123 - precision: 0.9568 - val_loss: 0.3140 - val_dice_coef: 0.6843 - val_iou: 0.5203 - val_recall: 0.4243 - val_precision: 0.9137 - lr: 1.0000e-05\n",
            "Epoch 30/100\n",
            "45/45 [==============================] - ETA: 0s - loss: 0.2716 - dice_coef: 0.7284 - iou: 0.5734 - recall: 0.4123 - precision: 0.9579\n",
            "Epoch 00030: val_loss improved from 0.31405 to 0.31387, saving model to /content/drive/MyDrive/project/UNet layers/3_Unet/new_data/files/model.h5\n",
            "45/45 [==============================] - 60s 1s/step - loss: 0.2716 - dice_coef: 0.7284 - iou: 0.5734 - recall: 0.4123 - precision: 0.9579 - val_loss: 0.3139 - val_dice_coef: 0.6845 - val_iou: 0.5206 - val_recall: 0.4251 - val_precision: 0.9125 - lr: 1.0000e-05\n",
            "Epoch 31/100\n",
            "45/45 [==============================] - ETA: 0s - loss: 0.2695 - dice_coef: 0.7305 - iou: 0.5760 - recall: 0.4123 - precision: 0.9590\n",
            "Epoch 00031: val_loss improved from 0.31387 to 0.31353, saving model to /content/drive/MyDrive/project/UNet layers/3_Unet/new_data/files/model.h5\n",
            "45/45 [==============================] - 62s 1s/step - loss: 0.2695 - dice_coef: 0.7305 - iou: 0.5760 - recall: 0.4123 - precision: 0.9590 - val_loss: 0.3135 - val_dice_coef: 0.6848 - val_iou: 0.5210 - val_recall: 0.4247 - val_precision: 0.9122 - lr: 1.0000e-05\n",
            "Epoch 32/100\n",
            "45/45 [==============================] - ETA: 0s - loss: 0.2674 - dice_coef: 0.7326 - iou: 0.5785 - recall: 0.4123 - precision: 0.9600\n",
            "Epoch 00032: val_loss improved from 0.31353 to 0.31329, saving model to /content/drive/MyDrive/project/UNet layers/3_Unet/new_data/files/model.h5\n",
            "45/45 [==============================] - 60s 1s/step - loss: 0.2674 - dice_coef: 0.7326 - iou: 0.5785 - recall: 0.4123 - precision: 0.9600 - val_loss: 0.3133 - val_dice_coef: 0.6851 - val_iou: 0.5213 - val_recall: 0.4240 - val_precision: 0.9122 - lr: 1.0000e-05\n",
            "Epoch 33/100\n",
            "45/45 [==============================] - ETA: 0s - loss: 0.2654 - dice_coef: 0.7346 - iou: 0.5810 - recall: 0.4122 - precision: 0.9610\n",
            "Epoch 00033: val_loss improved from 0.31329 to 0.31316, saving model to /content/drive/MyDrive/project/UNet layers/3_Unet/new_data/files/model.h5\n",
            "45/45 [==============================] - 61s 1s/step - loss: 0.2654 - dice_coef: 0.7346 - iou: 0.5810 - recall: 0.4122 - precision: 0.9610 - val_loss: 0.3132 - val_dice_coef: 0.6852 - val_iou: 0.5214 - val_recall: 0.4241 - val_precision: 0.9114 - lr: 1.0000e-05\n",
            "Epoch 34/100\n",
            "45/45 [==============================] - ETA: 0s - loss: 0.2635 - dice_coef: 0.7365 - iou: 0.5835 - recall: 0.4122 - precision: 0.9620\n",
            "Epoch 00034: val_loss improved from 0.31316 to 0.31280, saving model to /content/drive/MyDrive/project/UNet layers/3_Unet/new_data/files/model.h5\n",
            "45/45 [==============================] - 62s 1s/step - loss: 0.2635 - dice_coef: 0.7365 - iou: 0.5835 - recall: 0.4122 - precision: 0.9620 - val_loss: 0.3128 - val_dice_coef: 0.6856 - val_iou: 0.5219 - val_recall: 0.4225 - val_precision: 0.9119 - lr: 1.0000e-05\n",
            "Epoch 35/100\n",
            "45/45 [==============================] - ETA: 0s - loss: 0.2616 - dice_coef: 0.7384 - iou: 0.5858 - recall: 0.4121 - precision: 0.9629\n",
            "Epoch 00035: val_loss did not improve from 0.31280\n",
            "45/45 [==============================] - 59s 1s/step - loss: 0.2616 - dice_coef: 0.7384 - iou: 0.5858 - recall: 0.4121 - precision: 0.9629 - val_loss: 0.3132 - val_dice_coef: 0.6852 - val_iou: 0.5214 - val_recall: 0.4257 - val_precision: 0.9092 - lr: 1.0000e-05\n",
            "Epoch 36/100\n",
            "45/45 [==============================] - ETA: 0s - loss: 0.2598 - dice_coef: 0.7402 - iou: 0.5881 - recall: 0.4120 - precision: 0.9639\n",
            "Epoch 00036: val_loss did not improve from 0.31280\n",
            "45/45 [==============================] - 61s 1s/step - loss: 0.2598 - dice_coef: 0.7402 - iou: 0.5881 - recall: 0.4120 - precision: 0.9639 - val_loss: 0.3132 - val_dice_coef: 0.6852 - val_iou: 0.5214 - val_recall: 0.4258 - val_precision: 0.9082 - lr: 1.0000e-05\n",
            "Epoch 37/100\n",
            "45/45 [==============================] - ETA: 0s - loss: 0.2581 - dice_coef: 0.7419 - iou: 0.5901 - recall: 0.4119 - precision: 0.9646\n",
            "Epoch 00037: val_loss improved from 0.31280 to 0.31189, saving model to /content/drive/MyDrive/project/UNet layers/3_Unet/new_data/files/model.h5\n",
            "45/45 [==============================] - 62s 1s/step - loss: 0.2581 - dice_coef: 0.7419 - iou: 0.5901 - recall: 0.4119 - precision: 0.9646 - val_loss: 0.3119 - val_dice_coef: 0.6865 - val_iou: 0.5229 - val_recall: 0.4214 - val_precision: 0.9118 - lr: 1.0000e-05\n",
            "Epoch 38/100\n",
            "45/45 [==============================] - ETA: 0s - loss: 0.2568 - dice_coef: 0.7432 - iou: 0.5919 - recall: 0.4118 - precision: 0.9650\n",
            "Epoch 00038: val_loss did not improve from 0.31189\n",
            "45/45 [==============================] - 59s 1s/step - loss: 0.2568 - dice_coef: 0.7432 - iou: 0.5919 - recall: 0.4118 - precision: 0.9650 - val_loss: 0.3127 - val_dice_coef: 0.6858 - val_iou: 0.5221 - val_recall: 0.4315 - val_precision: 0.9054 - lr: 1.0000e-05\n",
            "Epoch 39/100\n",
            "45/45 [==============================] - ETA: 0s - loss: 0.2559 - dice_coef: 0.7441 - iou: 0.5929 - recall: 0.4115 - precision: 0.9651\n",
            "Epoch 00039: val_loss improved from 0.31189 to 0.30947, saving model to /content/drive/MyDrive/project/UNet layers/3_Unet/new_data/files/model.h5\n",
            "45/45 [==============================] - 62s 1s/step - loss: 0.2559 - dice_coef: 0.7441 - iou: 0.5929 - recall: 0.4115 - precision: 0.9651 - val_loss: 0.3095 - val_dice_coef: 0.6889 - val_iou: 0.5257 - val_recall: 0.4139 - val_precision: 0.9164 - lr: 1.0000e-05\n",
            "Epoch 40/100\n",
            "45/45 [==============================] - ETA: 0s - loss: 0.2568 - dice_coef: 0.7432 - iou: 0.5919 - recall: 0.4109 - precision: 0.9635\n",
            "Epoch 00040: val_loss improved from 0.30947 to 0.30873, saving model to /content/drive/MyDrive/project/UNet layers/3_Unet/new_data/files/model.h5\n",
            "45/45 [==============================] - 61s 1s/step - loss: 0.2568 - dice_coef: 0.7432 - iou: 0.5919 - recall: 0.4109 - precision: 0.9635 - val_loss: 0.3087 - val_dice_coef: 0.6897 - val_iou: 0.5266 - val_recall: 0.3842 - val_precision: 0.9325 - lr: 1.0000e-05\n",
            "Epoch 41/100\n",
            "45/45 [==============================] - ETA: 0s - loss: 0.2574 - dice_coef: 0.7426 - iou: 0.5911 - recall: 0.4109 - precision: 0.9622\n",
            "Epoch 00041: val_loss improved from 0.30873 to 0.30643, saving model to /content/drive/MyDrive/project/UNet layers/3_Unet/new_data/files/model.h5\n",
            "45/45 [==============================] - 60s 1s/step - loss: 0.2574 - dice_coef: 0.7426 - iou: 0.5911 - recall: 0.4109 - precision: 0.9622 - val_loss: 0.3064 - val_dice_coef: 0.6919 - val_iou: 0.5292 - val_recall: 0.4046 - val_precision: 0.9252 - lr: 1.0000e-05\n",
            "Epoch 42/100\n",
            "45/45 [==============================] - ETA: 0s - loss: 0.2544 - dice_coef: 0.7456 - iou: 0.5949 - recall: 0.4110 - precision: 0.9641\n",
            "Epoch 00042: val_loss did not improve from 0.30643\n",
            "45/45 [==============================] - 62s 1s/step - loss: 0.2544 - dice_coef: 0.7456 - iou: 0.5949 - recall: 0.4110 - precision: 0.9641 - val_loss: 0.3099 - val_dice_coef: 0.6885 - val_iou: 0.5252 - val_recall: 0.4161 - val_precision: 0.9143 - lr: 1.0000e-05\n",
            "Epoch 43/100\n",
            "45/45 [==============================] - ETA: 0s - loss: 0.2522 - dice_coef: 0.7478 - iou: 0.5977 - recall: 0.4113 - precision: 0.9655\n",
            "Epoch 00043: val_loss did not improve from 0.30643\n",
            "45/45 [==============================] - 60s 1s/step - loss: 0.2522 - dice_coef: 0.7478 - iou: 0.5977 - recall: 0.4113 - precision: 0.9655 - val_loss: 0.3100 - val_dice_coef: 0.6886 - val_iou: 0.5253 - val_recall: 0.4137 - val_precision: 0.9125 - lr: 1.0000e-05\n",
            "Epoch 44/100\n",
            "45/45 [==============================] - ETA: 0s - loss: 0.2516 - dice_coef: 0.7484 - iou: 0.5984 - recall: 0.4114 - precision: 0.9654\n",
            "Epoch 00044: val_loss did not improve from 0.30643\n",
            "45/45 [==============================] - 60s 1s/step - loss: 0.2516 - dice_coef: 0.7484 - iou: 0.5984 - recall: 0.4114 - precision: 0.9654 - val_loss: 0.3094 - val_dice_coef: 0.6890 - val_iou: 0.5258 - val_recall: 0.4174 - val_precision: 0.9106 - lr: 1.0000e-05\n",
            "Epoch 45/100\n",
            "45/45 [==============================] - ETA: 0s - loss: 0.2509 - dice_coef: 0.7491 - iou: 0.5993 - recall: 0.4105 - precision: 0.9657\n",
            "Epoch 00045: val_loss did not improve from 0.30643\n",
            "45/45 [==============================] - 62s 1s/step - loss: 0.2509 - dice_coef: 0.7491 - iou: 0.5993 - recall: 0.4105 - precision: 0.9657 - val_loss: 0.3096 - val_dice_coef: 0.6889 - val_iou: 0.5256 - val_recall: 0.4225 - val_precision: 0.9050 - lr: 1.0000e-05\n",
            "Epoch 46/100\n",
            "45/45 [==============================] - ETA: 0s - loss: 0.2492 - dice_coef: 0.7508 - iou: 0.6016 - recall: 0.4108 - precision: 0.9664\n",
            "Epoch 00046: val_loss did not improve from 0.30643\n",
            "\n",
            "Epoch 00046: ReduceLROnPlateau reducing learning rate to 1e-06.\n",
            "45/45 [==============================] - 62s 1s/step - loss: 0.2492 - dice_coef: 0.7508 - iou: 0.6016 - recall: 0.4108 - precision: 0.9664 - val_loss: 0.3107 - val_dice_coef: 0.6880 - val_iou: 0.5246 - val_recall: 0.4143 - val_precision: 0.9047 - lr: 1.0000e-05\n",
            "Epoch 47/100\n",
            "45/45 [==============================] - ETA: 0s - loss: 0.2479 - dice_coef: 0.7521 - iou: 0.6032 - recall: 0.4096 - precision: 0.9675\n",
            "Epoch 00047: val_loss improved from 0.30643 to 0.30047, saving model to /content/drive/MyDrive/project/UNet layers/3_Unet/new_data/files/model.h5\n",
            "45/45 [==============================] - 63s 1s/step - loss: 0.2479 - dice_coef: 0.7521 - iou: 0.6032 - recall: 0.4096 - precision: 0.9675 - val_loss: 0.3005 - val_dice_coef: 0.6980 - val_iou: 0.5364 - val_recall: 0.4081 - val_precision: 0.9242 - lr: 1.0000e-06\n",
            "Epoch 48/100\n",
            "45/45 [==============================] - ETA: 0s - loss: 0.2455 - dice_coef: 0.7545 - iou: 0.6063 - recall: 0.4104 - precision: 0.9690\n",
            "Epoch 00048: val_loss did not improve from 0.30047\n",
            "45/45 [==============================] - 60s 1s/step - loss: 0.2455 - dice_coef: 0.7545 - iou: 0.6063 - recall: 0.4104 - precision: 0.9690 - val_loss: 0.3008 - val_dice_coef: 0.6977 - val_iou: 0.5360 - val_recall: 0.4054 - val_precision: 0.9252 - lr: 1.0000e-06\n",
            "Epoch 49/100\n",
            "45/45 [==============================] - ETA: 0s - loss: 0.2451 - dice_coef: 0.7549 - iou: 0.6068 - recall: 0.4105 - precision: 0.9692\n",
            "Epoch 00049: val_loss did not improve from 0.30047\n",
            "45/45 [==============================] - 60s 1s/step - loss: 0.2451 - dice_coef: 0.7549 - iou: 0.6068 - recall: 0.4105 - precision: 0.9692 - val_loss: 0.3008 - val_dice_coef: 0.6977 - val_iou: 0.5360 - val_recall: 0.4046 - val_precision: 0.9255 - lr: 1.0000e-06\n",
            "Epoch 50/100\n",
            "45/45 [==============================] - ETA: 0s - loss: 0.2447 - dice_coef: 0.7553 - iou: 0.6073 - recall: 0.4106 - precision: 0.9695\n",
            "Epoch 00050: val_loss did not improve from 0.30047\n",
            "45/45 [==============================] - 62s 1s/step - loss: 0.2447 - dice_coef: 0.7553 - iou: 0.6073 - recall: 0.4106 - precision: 0.9695 - val_loss: 0.3008 - val_dice_coef: 0.6977 - val_iou: 0.5360 - val_recall: 0.4047 - val_precision: 0.9252 - lr: 1.0000e-06\n",
            "Epoch 51/100\n",
            "45/45 [==============================] - ETA: 0s - loss: 0.2444 - dice_coef: 0.7556 - iou: 0.6077 - recall: 0.4106 - precision: 0.9697\n",
            "Epoch 00051: val_loss did not improve from 0.30047\n",
            "45/45 [==============================] - 60s 1s/step - loss: 0.2444 - dice_coef: 0.7556 - iou: 0.6077 - recall: 0.4106 - precision: 0.9697 - val_loss: 0.3009 - val_dice_coef: 0.6977 - val_iou: 0.5359 - val_recall: 0.4047 - val_precision: 0.9250 - lr: 1.0000e-06\n",
            "Epoch 52/100\n",
            "45/45 [==============================] - ETA: 0s - loss: 0.2442 - dice_coef: 0.7558 - iou: 0.6080 - recall: 0.4106 - precision: 0.9698\n",
            "Epoch 00052: val_loss did not improve from 0.30047\n",
            "45/45 [==============================] - 60s 1s/step - loss: 0.2442 - dice_coef: 0.7558 - iou: 0.6080 - recall: 0.4106 - precision: 0.9698 - val_loss: 0.3009 - val_dice_coef: 0.6976 - val_iou: 0.5359 - val_recall: 0.4049 - val_precision: 0.9248 - lr: 1.0000e-06\n",
            "Epoch 53/100\n",
            "45/45 [==============================] - ETA: 0s - loss: 0.2439 - dice_coef: 0.7561 - iou: 0.6084 - recall: 0.4106 - precision: 0.9700\n",
            "Epoch 00053: val_loss did not improve from 0.30047\n",
            "45/45 [==============================] - 60s 1s/step - loss: 0.2439 - dice_coef: 0.7561 - iou: 0.6084 - recall: 0.4106 - precision: 0.9700 - val_loss: 0.3009 - val_dice_coef: 0.6976 - val_iou: 0.5359 - val_recall: 0.4050 - val_precision: 0.9246 - lr: 1.0000e-06\n",
            "Epoch 54/100\n",
            "45/45 [==============================] - ETA: 0s - loss: 0.2436 - dice_coef: 0.7564 - iou: 0.6087 - recall: 0.4106 - precision: 0.9702\n",
            "Epoch 00054: val_loss did not improve from 0.30047\n",
            "45/45 [==============================] - 60s 1s/step - loss: 0.2436 - dice_coef: 0.7564 - iou: 0.6087 - recall: 0.4106 - precision: 0.9702 - val_loss: 0.3010 - val_dice_coef: 0.6976 - val_iou: 0.5358 - val_recall: 0.4051 - val_precision: 0.9245 - lr: 1.0000e-06\n",
            "Epoch 55/100\n",
            "45/45 [==============================] - ETA: 0s - loss: 0.2434 - dice_coef: 0.7566 - iou: 0.6090 - recall: 0.4106 - precision: 0.9703\n",
            "Epoch 00055: val_loss did not improve from 0.30047\n",
            "45/45 [==============================] - 60s 1s/step - loss: 0.2434 - dice_coef: 0.7566 - iou: 0.6090 - recall: 0.4106 - precision: 0.9703 - val_loss: 0.3010 - val_dice_coef: 0.6975 - val_iou: 0.5358 - val_recall: 0.4051 - val_precision: 0.9244 - lr: 1.0000e-06\n",
            "Epoch 56/100\n",
            "45/45 [==============================] - ETA: 0s - loss: 0.2432 - dice_coef: 0.7568 - iou: 0.6093 - recall: 0.4106 - precision: 0.9704\n",
            "Epoch 00056: val_loss did not improve from 0.30047\n",
            "45/45 [==============================] - 60s 1s/step - loss: 0.2432 - dice_coef: 0.7568 - iou: 0.6093 - recall: 0.4106 - precision: 0.9704 - val_loss: 0.3010 - val_dice_coef: 0.6975 - val_iou: 0.5358 - val_recall: 0.4052 - val_precision: 0.9242 - lr: 1.0000e-06\n",
            "Epoch 57/100\n",
            "45/45 [==============================] - ETA: 0s - loss: 0.2430 - dice_coef: 0.7570 - iou: 0.6096 - recall: 0.4106 - precision: 0.9706\n",
            "Epoch 00057: val_loss did not improve from 0.30047\n",
            "45/45 [==============================] - 60s 1s/step - loss: 0.2430 - dice_coef: 0.7570 - iou: 0.6096 - recall: 0.4106 - precision: 0.9706 - val_loss: 0.3010 - val_dice_coef: 0.6975 - val_iou: 0.5358 - val_recall: 0.4051 - val_precision: 0.9242 - lr: 1.0000e-06\n"
          ]
        }
      ]
    },
    {
      "cell_type": "markdown",
      "metadata": {
        "id": "wowMhtDTwSqY"
      },
      "source": [
        "# Evaluate"
      ]
    },
    {
      "cell_type": "code",
      "metadata": {
        "id": "Gw-ZZk0uwJdC"
      },
      "source": [
        "import os\n",
        "os.environ[\"TF_CPP_MIN_LOG_LEVEL\"] = \"2\"\n",
        "import numpy as np\n",
        "import pandas as pd\n",
        "import cv2\n",
        "from glob import glob\n",
        "from tqdm import tqdm\n",
        "import tensorflow as tf\n",
        "from tensorflow.keras.utils import CustomObjectScope\n",
        "from sklearn.metrics import accuracy_score, f1_score, jaccard_score, precision_score, recall_score"
      ],
      "execution_count": 30,
      "outputs": []
    },
    {
      "cell_type": "code",
      "metadata": {
        "id": "ziOA3THMwiWD"
      },
      "source": [
        "H = 512\n",
        "W = 512"
      ],
      "execution_count": 31,
      "outputs": []
    },
    {
      "cell_type": "code",
      "metadata": {
        "id": "6oM6aVKgwk5y"
      },
      "source": [
        "def create_dir(path):\n",
        "    if not os.path.exists(path):\n",
        "        os.makedirs(path)"
      ],
      "execution_count": 32,
      "outputs": []
    },
    {
      "cell_type": "code",
      "metadata": {
        "id": "CoukMx4Kwo1U"
      },
      "source": [
        "def read_image(path):\n",
        "    x = cv2.imread(path, cv2.IMREAD_COLOR)\n",
        "    # x = cv2.resize(x, (W, H))\n",
        "    ori_x = x\n",
        "    x = x/255.0\n",
        "    x = x.astype(np.float32)\n",
        "    return ori_x, x"
      ],
      "execution_count": 33,
      "outputs": []
    },
    {
      "cell_type": "code",
      "metadata": {
        "id": "-Lu-EAO1wrKu"
      },
      "source": [
        "def read_mask(path):\n",
        "    x = cv2.imread(path, cv2.IMREAD_GRAYSCALE)  ## (512, 512)\n",
        "    # x = cv2.resize(x, (W, H))\n",
        "    ori_x = x\n",
        "    x = x/255.0\n",
        "    x = x.astype(np.int32)\n",
        "    return ori_x, x"
      ],
      "execution_count": 34,
      "outputs": []
    },
    {
      "cell_type": "code",
      "metadata": {
        "id": "C0dekbVzwtk4"
      },
      "source": [
        "def load_data(path):\n",
        "    x = sorted(glob(os.path.join(path, \"image\", \"*.jpg\")))\n",
        "    y = sorted(glob(os.path.join(path, \"mask\", \"*.jpg\")))\n",
        "    return x, y"
      ],
      "execution_count": 35,
      "outputs": []
    },
    {
      "cell_type": "code",
      "metadata": {
        "id": "G2QLHT6pwzTS"
      },
      "source": [
        "def save_results(ori_x, ori_y, y_pred, save_image_path):\n",
        "    line = np.ones((H, 10, 3)) * 255\n",
        "\n",
        "    ori_y = np.expand_dims(ori_y, axis=-1)\n",
        "    ori_y = np.concatenate([ori_y, ori_y, ori_y], axis=-1)\n",
        "\n",
        "    y_pred = np.expand_dims(y_pred, axis=-1)\n",
        "    y_pred = np.concatenate([y_pred, y_pred, y_pred], axis=-1) * 255\n",
        "\n",
        "    cat_images = np.concatenate([ori_x, line, ori_y, line, y_pred], axis=1)\n",
        "    cv2.imwrite(save_image_path, cat_images)"
      ],
      "execution_count": 36,
      "outputs": []
    },
    {
      "cell_type": "code",
      "metadata": {
        "id": "Ah1Cxczuw4AP",
        "colab": {
          "base_uri": "https://localhost:8080/"
        },
        "outputId": "a2a11d4b-4dd0-4943-c6f5-2c06c8be0675"
      },
      "source": [
        "if __name__ == \"__main__\":\n",
        "    \n",
        "\n",
        "    \"\"\" Load the model \"\"\"\n",
        "    with CustomObjectScope({'iou': iou, 'dice_coef': dice_coef, 'dice_loss': dice_loss}):\n",
        "        model = tf.keras.models.load_model(\"/content/drive/MyDrive/project/UNet layers/3_Unet/new_data/files/model.h5\")\n",
        "\n",
        "    \"\"\" Load the dataset \"\"\"\n",
        "    dataset_path = os.path.join(\"/content/drive/MyDrive/project/UNet layers/3_Unet/new_data\", \"test\")\n",
        "    test_x, test_y = load_data(dataset_path)\n",
        "\n",
        "    \"\"\" Make the prediction and calculate the metrics values \"\"\"\n",
        "    SCORE = []\n",
        "    for x, y in tqdm(zip(test_x, test_y), total=len(test_x)):\n",
        "        \"\"\" Extracting name \"\"\"\n",
        "        name = x.split(\"/\")[-1].split(\".\")[0]\n",
        "\n",
        "        \"\"\" Read the image and mask \"\"\"\n",
        "        ori_x, x = read_image(x)\n",
        "        ori_y, y = read_mask(y)\n",
        "\n",
        "        \"\"\" Prediction \"\"\"\n",
        "        y_pred = model.predict(np.expand_dims(x, axis=0))[0]\n",
        "        y_pred = y_pred > 0.5\n",
        "        y_pred = y_pred.astype(np.int32)\n",
        "        y_pred = np.squeeze(y_pred, axis=-1)\n",
        "\n",
        "        \"\"\" Saving the images \"\"\"\n",
        "        save_image_path = f\"/content/drive/MyDrive/project/UNet layers/3_Unet/new_data/results/{name}.png\"\n",
        "        save_results(ori_x, ori_y, y_pred, save_image_path)\n",
        "\n",
        "        \"\"\" Flatten the array \"\"\"\n",
        "        y = y.flatten()\n",
        "        y_pred = y_pred.flatten()\n",
        "\n",
        "        \"\"\" Calculate the metrics \"\"\"\n",
        "        acc_value = accuracy_score(y, y_pred)\n",
        "        f1_value = f1_score(y, y_pred, labels=[0, 1], average=\"binary\")\n",
        "        jac_value = jaccard_score(y, y_pred, labels=[0, 1], average=\"binary\")\n",
        "        recall_value = recall_score(y, y_pred, labels=[0, 1], average=\"binary\")\n",
        "        precision_value = precision_score(y, y_pred, labels=[0, 1], average=\"binary\")\n",
        "        SCORE.append([name, acc_value, f1_value, jac_value, recall_value, precision_value])\n",
        "\n",
        "    score = [s[1:] for s in SCORE]\n",
        "    score = np.mean(score, axis=0)\n",
        "    print(f\"Accuracy: {score[0]:0.5f}\")\n",
        "    print(f\"F1: {score[1]:0.5f}\")\n",
        "    print(f\"Jaccard: {score[2]:0.5f}\")\n",
        "    print(f\"Recall: {score[3]:0.5f}\")\n",
        "    print(f\"Precision: {score[4]:0.5f}\")\n",
        "\n",
        "    \"\"\" Saving \"\"\"\n",
        "    df = pd.DataFrame(SCORE, columns=[\"Image\", \"Acc\", \"F1\", \"Jaccard\", \"Recall\", \"Precision\"])\n",
        "    df.to_csv(\"/content/drive/MyDrive/project/UNet layers/3_Unet/new_data/files/score.csv\")"
      ],
      "execution_count": 37,
      "outputs": [
        {
          "output_type": "stream",
          "name": "stderr",
          "text": [
            "100%|██████████| 15/15 [00:09<00:00,  1.56it/s]"
          ]
        },
        {
          "output_type": "stream",
          "name": "stdout",
          "text": [
            "Accuracy: 0.93286\n",
            "F1: 0.47659\n",
            "Jaccard: 0.31307\n",
            "Recall: 0.88931\n",
            "Precision: 0.32595\n"
          ]
        },
        {
          "output_type": "stream",
          "name": "stderr",
          "text": [
            "\n"
          ]
        }
      ]
    }
  ]
}