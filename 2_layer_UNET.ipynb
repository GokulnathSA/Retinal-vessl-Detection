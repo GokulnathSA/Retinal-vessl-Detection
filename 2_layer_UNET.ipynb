{
  "nbformat": 4,
  "nbformat_minor": 0,
  "metadata": {
    "colab": {
      "name": "2_layer_UNET.ipynb",
      "provenance": [],
      "collapsed_sections": [
        "JKVngFts_muU",
        "Huk5OfFUWs2L",
        "u-nWSf7uaLXC",
        "lz3PuzabYuOR"
      ]
    },
    "kernelspec": {
      "name": "python3",
      "display_name": "Python 3"
    },
    "language_info": {
      "name": "python"
    },
    "accelerator": "GPU"
  },
  "cells": [
    {
      "cell_type": "markdown",
      "metadata": {
        "id": "JKVngFts_muU"
      },
      "source": [
        "\n",
        "\n",
        "```\n",
        "\n",
        "```\n",
        "\n",
        "# Pre processing\n"
      ]
    },
    {
      "cell_type": "code",
      "metadata": {
        "colab": {
          "base_uri": "https://localhost:8080/"
        },
        "id": "DrUmKr57_M9c",
        "outputId": "2e9b2cb4-d443-458e-8ec5-15b98fb19a7f"
      },
      "source": [
        "from google.colab import drive\n",
        "drive.mount('/content/drive')"
      ],
      "execution_count": 1,
      "outputs": [
        {
          "output_type": "stream",
          "name": "stdout",
          "text": [
            "Mounted at /content/drive\n"
          ]
        }
      ]
    },
    {
      "cell_type": "code",
      "metadata": {
        "id": "MbgTX9tJOuCX"
      },
      "source": [
        "import os\n",
        "import numpy as np\n",
        "import cv2\n",
        "from glob import glob\n",
        "from tqdm import tqdm\n",
        "import imageio\n",
        "from albumentations import HorizontalFlip, VerticalFlip, ElasticTransform, GridDistortion, OpticalDistortion"
      ],
      "execution_count": 2,
      "outputs": []
    },
    {
      "cell_type": "code",
      "metadata": {
        "id": "Dwr4fwZOQiHY"
      },
      "source": [
        "def create_dir(path):\n",
        "    if not os.path.exists(path):\n",
        "        os.makedirs(path)"
      ],
      "execution_count": 3,
      "outputs": []
    },
    {
      "cell_type": "code",
      "metadata": {
        "id": "9bvyOXDZQlCi"
      },
      "source": [
        "def load_data(path):\n",
        "    \"\"\" X = Images and Y = masks \"\"\"\n",
        "\n",
        "    train_x = sorted(glob(os.path.join(path, \"training\",\"training\", \"training\", \"images\", \"*.tif\")))\n",
        "    train_y = sorted(glob(os.path.join(path, \"training\",\"training\", \"training\", \"1st_manual\", \"*.gif\")))\n",
        "\n",
        "    test_x = sorted(glob(os.path.join(path, \"test\", \"test\", \"test\", \"images\", \"*.tif\")))\n",
        "    test_y = sorted(glob(os.path.join(path, \"test\", \"test\", \"test\", \"1st_manual\", \"*.gif\")))\n",
        "\n",
        "    return (train_x, train_y), (test_x, test_y)"
      ],
      "execution_count": 4,
      "outputs": []
    },
    {
      "cell_type": "code",
      "metadata": {
        "id": "vjJbbKD-QlKY"
      },
      "source": [
        "def augment_data(images, masks, save_path, augment=True):\n",
        "    H = 512\n",
        "    W = 512\n",
        "\n",
        "    for idx, (x, y) in tqdm(enumerate(zip(images, masks)), total=len(images)):\n",
        "        \"\"\" Extracting names \"\"\"\n",
        "        name = x.split(\"/\")[-1].split(\".\")[0]\n",
        "\n",
        "        \"\"\" Reading image and mask \"\"\"\n",
        "        x = cv2.imread(x, cv2.IMREAD_COLOR)\n",
        "        y = imageio.mimread(y)[0]\n",
        "\n",
        "        if augment == True:\n",
        "            aug = HorizontalFlip(p=1.0)\n",
        "            augmented = aug(image=x, mask=y)\n",
        "            x1 = augmented[\"image\"]\n",
        "            y1 = augmented[\"mask\"]\n",
        "\n",
        "            aug = VerticalFlip(p=1.0)\n",
        "            augmented = aug(image=x, mask=y)\n",
        "            x2 = augmented[\"image\"]\n",
        "            y2 = augmented[\"mask\"]\n",
        "\n",
        "            aug = ElasticTransform(p=1, alpha=120, sigma=120 * 0.05, alpha_affine=120 * 0.03)\n",
        "            augmented = aug(image=x, mask=y)\n",
        "            x3 = augmented['image']\n",
        "            y3 = augmented['mask']\n",
        "\n",
        "            aug = GridDistortion(p=1)\n",
        "            augmented = aug(image=x, mask=y)\n",
        "            x4 = augmented['image']\n",
        "            y4 = augmented['mask']\n",
        "\n",
        "            aug = OpticalDistortion(p=1, distort_limit=2, shift_limit=0.5)\n",
        "            augmented = aug(image=x, mask=y)\n",
        "            x5 = augmented['image']\n",
        "            y5 = augmented['mask']\n",
        "\n",
        "            X = [x, x1, x2, x3, x4, x5]\n",
        "            Y = [y, y1, y2, y3, y4, y5]\n",
        "\n",
        "        else:\n",
        "            X = [x]\n",
        "            Y = [y]\n",
        "\n",
        "        index = 0\n",
        "        for i, m in zip(X, Y):\n",
        "            i = cv2.resize(i, (W, H))\n",
        "            m = cv2.resize(m, (W, H))\n",
        "\n",
        "            if len(X) == 1:\n",
        "                tmp_image_name = f\"{name}.jpg\"\n",
        "                tmp_mask_name = f\"{name}.jpg\"\n",
        "            else:\n",
        "                tmp_image_name = f\"{name}_{index}.jpg\"\n",
        "                tmp_mask_name = f\"{name}_{index}.jpg\"\n",
        "\n",
        "            image_path = os.path.join(save_path, \"image\", tmp_image_name)\n",
        "            mask_path = os.path.join(save_path, \"mask\", tmp_mask_name)\n",
        "\n",
        "            cv2.imwrite(image_path, i)\n",
        "            cv2.imwrite(mask_path, m)\n",
        "\n",
        "            index += 1\n",
        "\n"
      ],
      "execution_count": 5,
      "outputs": []
    },
    {
      "cell_type": "code",
      "metadata": {
        "colab": {
          "base_uri": "https://localhost:8080/"
        },
        "id": "pTvyRAZCQz26",
        "outputId": "c6f8da95-fa1a-4d2f-9d8d-ee2b243e8fda"
      },
      "source": [
        "if __name__ == \"__main__\":\n",
        "    \"\"\" Seeding \"\"\"\n",
        "    np.random.seed(42)\n",
        "\n",
        "    \"\"\" Load the data \"\"\"\n",
        "    data_path = \"/content/drive/MyDrive/project/UNet layers/2_Unet\"\n",
        "    (train_x, train_y), (test_x, test_y) = load_data(data_path)\n",
        "\n",
        "    print(f\"Train: {len(train_x)} - {len(train_y)}\")\n",
        "    print(f\"Test: {len(test_x)} - {len(test_y)}\")\n",
        "\n",
        "    \"\"\" Creating directories \"\"\"\n",
        "    create_dir(\"/content/drive/MyDrive/project/UNet layers/2_Unet/new_data/train/image\")\n",
        "    create_dir(\"/content/drive/MyDrive/project/UNet layers/2_Unet/new_data/train/mask\")\n",
        "    create_dir(\"/content/drive/MyDrive/project/UNet layers/2_Unet/new_data/test/image\")\n",
        "    create_dir(\"/content/drive/MyDrive/project/UNet layers/2_Unet/new_data/test/mask\")\n",
        "    create_dir(\"/content/drive/MyDrive/project/UNet layers/2_Unet/new_data/results\")\n",
        "\n",
        "    augment_data(train_x, train_y, \"/content/drive/MyDrive/project/UNet layers/2_Unet/new_data/train/\", augment= True)\n",
        "    augment_data(test_x, test_y, \"/content/drive/MyDrive/project/UNet layers/2_Unet/new_data/test/\", augment= True)"
      ],
      "execution_count": 7,
      "outputs": [
        {
          "output_type": "stream",
          "name": "stdout",
          "text": [
            "Train: 15 - 15\n",
            "Test: 5 - 5\n"
          ]
        },
        {
          "output_type": "stream",
          "name": "stderr",
          "text": [
            "100%|██████████| 15/15 [00:04<00:00,  3.13it/s]\n",
            "100%|██████████| 5/5 [00:01<00:00,  2.98it/s]\n"
          ]
        }
      ]
    },
    {
      "cell_type": "markdown",
      "metadata": {
        "id": "Huk5OfFUWs2L"
      },
      "source": [
        "# U net\n"
      ]
    },
    {
      "cell_type": "code",
      "metadata": {
        "id": "6U65BdcbWsLo"
      },
      "source": [
        "from tensorflow.keras.layers import Conv2D, BatchNormalization, Activation, MaxPool2D, Conv2DTranspose, Concatenate, Input\n",
        "from tensorflow.keras.models import Model"
      ],
      "execution_count": 8,
      "outputs": []
    },
    {
      "cell_type": "code",
      "metadata": {
        "id": "4_j61AyKXQpH"
      },
      "source": [
        "def conv_block(inputs, num_filters):\n",
        "    x = Conv2D(num_filters, 3, padding=\"same\")(inputs)\n",
        "    x = BatchNormalization()(x)\n",
        "    x = Activation(\"relu\")(x)\n",
        "\n",
        "    x = Conv2D(num_filters, 3, padding=\"same\")(x)\n",
        "    x = BatchNormalization()(x)\n",
        "    x = Activation(\"relu\")(x)\n",
        "\n",
        "    return x"
      ],
      "execution_count": 9,
      "outputs": []
    },
    {
      "cell_type": "code",
      "metadata": {
        "id": "GHQ0lMVvXUpT"
      },
      "source": [
        "def encoder_block(inputs, num_filters):\n",
        "    x = conv_block(inputs, num_filters)\n",
        "    p = MaxPool2D((2, 2))(x)\n",
        "    return x, p\n"
      ],
      "execution_count": 10,
      "outputs": []
    },
    {
      "cell_type": "code",
      "metadata": {
        "id": "aOxKXftyXWv-"
      },
      "source": [
        "def decoder_block(inputs, skip_features, num_filters):\n",
        "    x = Conv2DTranspose(num_filters, (2, 2), strides=2, padding=\"same\")(inputs)\n",
        "    x = Concatenate()([x, skip_features])\n",
        "    x = conv_block(x, num_filters)\n",
        "    return x"
      ],
      "execution_count": 11,
      "outputs": []
    },
    {
      "cell_type": "code",
      "metadata": {
        "id": "CEx_31yRXY4U"
      },
      "source": [
        "def build_unet(input_shape):\n",
        "    inputs = Input(input_shape)\n",
        "\n",
        "    s1, p1 = encoder_block(inputs, 64)\n",
        "    s2, p2 = encoder_block(p1, 128)\n",
        "    \n",
        "    b1 = conv_block(p2, 256)\n",
        "\n",
        "    \n",
        "    d1 = decoder_block(b1, s2, 128)\n",
        "    d2 = decoder_block(d1, s1, 64)\n",
        "\n",
        "    outputs = Conv2D(1, 1, padding=\"same\", activation=\"sigmoid\")(d2)\n",
        "\n",
        "    model = Model(inputs, outputs, name=\"UNET\")\n",
        "    return model"
      ],
      "execution_count": 12,
      "outputs": []
    },
    {
      "cell_type": "code",
      "metadata": {
        "colab": {
          "base_uri": "https://localhost:8080/"
        },
        "id": "JttJmADxXbVt",
        "outputId": "e5f12497-4a9a-4804-85e3-47cb9dda04bc"
      },
      "source": [
        "if __name__ == \"__main__\":\n",
        "    input_shape = (512, 512, 3)\n",
        "    model = build_unet(input_shape)\n",
        "    model.summary()"
      ],
      "execution_count": 13,
      "outputs": [
        {
          "output_type": "stream",
          "name": "stdout",
          "text": [
            "Model: \"UNET\"\n",
            "__________________________________________________________________________________________________\n",
            " Layer (type)                   Output Shape         Param #     Connected to                     \n",
            "==================================================================================================\n",
            " input_1 (InputLayer)           [(None, 512, 512, 3  0           []                               \n",
            "                                )]                                                                \n",
            "                                                                                                  \n",
            " conv2d (Conv2D)                (None, 512, 512, 64  1792        ['input_1[0][0]']                \n",
            "                                )                                                                 \n",
            "                                                                                                  \n",
            " batch_normalization (BatchNorm  (None, 512, 512, 64  256        ['conv2d[0][0]']                 \n",
            " alization)                     )                                                                 \n",
            "                                                                                                  \n",
            " activation (Activation)        (None, 512, 512, 64  0           ['batch_normalization[0][0]']    \n",
            "                                )                                                                 \n",
            "                                                                                                  \n",
            " conv2d_1 (Conv2D)              (None, 512, 512, 64  36928       ['activation[0][0]']             \n",
            "                                )                                                                 \n",
            "                                                                                                  \n",
            " batch_normalization_1 (BatchNo  (None, 512, 512, 64  256        ['conv2d_1[0][0]']               \n",
            " rmalization)                   )                                                                 \n",
            "                                                                                                  \n",
            " activation_1 (Activation)      (None, 512, 512, 64  0           ['batch_normalization_1[0][0]']  \n",
            "                                )                                                                 \n",
            "                                                                                                  \n",
            " max_pooling2d (MaxPooling2D)   (None, 256, 256, 64  0           ['activation_1[0][0]']           \n",
            "                                )                                                                 \n",
            "                                                                                                  \n",
            " conv2d_2 (Conv2D)              (None, 256, 256, 12  73856       ['max_pooling2d[0][0]']          \n",
            "                                8)                                                                \n",
            "                                                                                                  \n",
            " batch_normalization_2 (BatchNo  (None, 256, 256, 12  512        ['conv2d_2[0][0]']               \n",
            " rmalization)                   8)                                                                \n",
            "                                                                                                  \n",
            " activation_2 (Activation)      (None, 256, 256, 12  0           ['batch_normalization_2[0][0]']  \n",
            "                                8)                                                                \n",
            "                                                                                                  \n",
            " conv2d_3 (Conv2D)              (None, 256, 256, 12  147584      ['activation_2[0][0]']           \n",
            "                                8)                                                                \n",
            "                                                                                                  \n",
            " batch_normalization_3 (BatchNo  (None, 256, 256, 12  512        ['conv2d_3[0][0]']               \n",
            " rmalization)                   8)                                                                \n",
            "                                                                                                  \n",
            " activation_3 (Activation)      (None, 256, 256, 12  0           ['batch_normalization_3[0][0]']  \n",
            "                                8)                                                                \n",
            "                                                                                                  \n",
            " max_pooling2d_1 (MaxPooling2D)  (None, 128, 128, 12  0          ['activation_3[0][0]']           \n",
            "                                8)                                                                \n",
            "                                                                                                  \n",
            " conv2d_4 (Conv2D)              (None, 128, 128, 25  295168      ['max_pooling2d_1[0][0]']        \n",
            "                                6)                                                                \n",
            "                                                                                                  \n",
            " batch_normalization_4 (BatchNo  (None, 128, 128, 25  1024       ['conv2d_4[0][0]']               \n",
            " rmalization)                   6)                                                                \n",
            "                                                                                                  \n",
            " activation_4 (Activation)      (None, 128, 128, 25  0           ['batch_normalization_4[0][0]']  \n",
            "                                6)                                                                \n",
            "                                                                                                  \n",
            " conv2d_5 (Conv2D)              (None, 128, 128, 25  590080      ['activation_4[0][0]']           \n",
            "                                6)                                                                \n",
            "                                                                                                  \n",
            " batch_normalization_5 (BatchNo  (None, 128, 128, 25  1024       ['conv2d_5[0][0]']               \n",
            " rmalization)                   6)                                                                \n",
            "                                                                                                  \n",
            " activation_5 (Activation)      (None, 128, 128, 25  0           ['batch_normalization_5[0][0]']  \n",
            "                                6)                                                                \n",
            "                                                                                                  \n",
            " conv2d_transpose (Conv2DTransp  (None, 256, 256, 12  131200     ['activation_5[0][0]']           \n",
            " ose)                           8)                                                                \n",
            "                                                                                                  \n",
            " concatenate (Concatenate)      (None, 256, 256, 25  0           ['conv2d_transpose[0][0]',       \n",
            "                                6)                                'activation_3[0][0]']           \n",
            "                                                                                                  \n",
            " conv2d_6 (Conv2D)              (None, 256, 256, 12  295040      ['concatenate[0][0]']            \n",
            "                                8)                                                                \n",
            "                                                                                                  \n",
            " batch_normalization_6 (BatchNo  (None, 256, 256, 12  512        ['conv2d_6[0][0]']               \n",
            " rmalization)                   8)                                                                \n",
            "                                                                                                  \n",
            " activation_6 (Activation)      (None, 256, 256, 12  0           ['batch_normalization_6[0][0]']  \n",
            "                                8)                                                                \n",
            "                                                                                                  \n",
            " conv2d_7 (Conv2D)              (None, 256, 256, 12  147584      ['activation_6[0][0]']           \n",
            "                                8)                                                                \n",
            "                                                                                                  \n",
            " batch_normalization_7 (BatchNo  (None, 256, 256, 12  512        ['conv2d_7[0][0]']               \n",
            " rmalization)                   8)                                                                \n",
            "                                                                                                  \n",
            " activation_7 (Activation)      (None, 256, 256, 12  0           ['batch_normalization_7[0][0]']  \n",
            "                                8)                                                                \n",
            "                                                                                                  \n",
            " conv2d_transpose_1 (Conv2DTran  (None, 512, 512, 64  32832      ['activation_7[0][0]']           \n",
            " spose)                         )                                                                 \n",
            "                                                                                                  \n",
            " concatenate_1 (Concatenate)    (None, 512, 512, 12  0           ['conv2d_transpose_1[0][0]',     \n",
            "                                8)                                'activation_1[0][0]']           \n",
            "                                                                                                  \n",
            " conv2d_8 (Conv2D)              (None, 512, 512, 64  73792       ['concatenate_1[0][0]']          \n",
            "                                )                                                                 \n",
            "                                                                                                  \n",
            " batch_normalization_8 (BatchNo  (None, 512, 512, 64  256        ['conv2d_8[0][0]']               \n",
            " rmalization)                   )                                                                 \n",
            "                                                                                                  \n",
            " activation_8 (Activation)      (None, 512, 512, 64  0           ['batch_normalization_8[0][0]']  \n",
            "                                )                                                                 \n",
            "                                                                                                  \n",
            " conv2d_9 (Conv2D)              (None, 512, 512, 64  36928       ['activation_8[0][0]']           \n",
            "                                )                                                                 \n",
            "                                                                                                  \n",
            " batch_normalization_9 (BatchNo  (None, 512, 512, 64  256        ['conv2d_9[0][0]']               \n",
            " rmalization)                   )                                                                 \n",
            "                                                                                                  \n",
            " activation_9 (Activation)      (None, 512, 512, 64  0           ['batch_normalization_9[0][0]']  \n",
            "                                )                                                                 \n",
            "                                                                                                  \n",
            " conv2d_10 (Conv2D)             (None, 512, 512, 1)  65          ['activation_9[0][0]']           \n",
            "                                                                                                  \n",
            "==================================================================================================\n",
            "Total params: 1,867,969\n",
            "Trainable params: 1,865,409\n",
            "Non-trainable params: 2,560\n",
            "__________________________________________________________________________________________________\n"
          ]
        }
      ]
    },
    {
      "cell_type": "code",
      "metadata": {
        "id": "nt8Sm-MXCYvp"
      },
      "source": [
        ""
      ],
      "execution_count": 13,
      "outputs": []
    },
    {
      "cell_type": "markdown",
      "metadata": {
        "id": "u-nWSf7uaLXC"
      },
      "source": [
        "# Metric"
      ]
    },
    {
      "cell_type": "code",
      "metadata": {
        "id": "ux5bPMyqaIr2"
      },
      "source": [
        "import numpy as np\n",
        "import tensorflow as tf\n",
        "from tensorflow.keras import backend as K"
      ],
      "execution_count": 14,
      "outputs": []
    },
    {
      "cell_type": "code",
      "metadata": {
        "id": "-0GwKT5gaXBB"
      },
      "source": [
        "def iou(y_true, y_pred):\n",
        "    def f(y_true, y_pred):\n",
        "        intersection = (y_true * y_pred).sum()\n",
        "        union = y_true.sum() + y_pred.sum() - intersection\n",
        "        x = (intersection + 1e-15) / (union + 1e-15)\n",
        "        x = x.astype(np.float32)\n",
        "        return x\n",
        "    return tf.numpy_function(f, [y_true, y_pred], tf.float32)"
      ],
      "execution_count": 15,
      "outputs": []
    },
    {
      "cell_type": "code",
      "metadata": {
        "id": "JoBHU_1Sacef"
      },
      "source": [
        "smooth = 1e-15\n",
        "def dice_coef(y_true, y_pred):\n",
        "    y_true = tf.keras.layers.Flatten()(y_true)\n",
        "    y_pred = tf.keras.layers.Flatten()(y_pred)\n",
        "    intersection = tf.reduce_sum(y_true * y_pred)\n",
        "    return (2. * intersection + smooth) / (tf.reduce_sum(y_true) + tf.reduce_sum(y_pred) + smooth)"
      ],
      "execution_count": 16,
      "outputs": []
    },
    {
      "cell_type": "code",
      "metadata": {
        "id": "hN8lqWsKaelp"
      },
      "source": [
        "def dice_loss(y_true, y_pred):\n",
        "    return 1.0 - dice_coef(y_true, y_pred)"
      ],
      "execution_count": 17,
      "outputs": []
    },
    {
      "cell_type": "markdown",
      "metadata": {
        "id": "lz3PuzabYuOR"
      },
      "source": [
        "# Training\n"
      ]
    },
    {
      "cell_type": "code",
      "metadata": {
        "id": "O6xU6icHYtUn"
      },
      "source": [
        "import os\n",
        "os.environ[\"TF_CPP_MIN_LOG_LEVEL\"] = \"2\"\n",
        "import numpy as np\n",
        "import cv2\n",
        "from glob import glob\n",
        "from sklearn.utils import shuffle\n",
        "import tensorflow as tf\n",
        "from tensorflow.keras.callbacks import ModelCheckpoint, CSVLogger, ReduceLROnPlateau, EarlyStopping, TensorBoard\n",
        "from tensorflow.keras.optimizers import Adam\n",
        "from tensorflow.keras.metrics import Recall, Precision\n"
      ],
      "execution_count": 18,
      "outputs": []
    },
    {
      "cell_type": "code",
      "metadata": {
        "id": "odXO1Sq-apHv"
      },
      "source": [
        "H = 512\n",
        "W = 512"
      ],
      "execution_count": 19,
      "outputs": []
    },
    {
      "cell_type": "code",
      "metadata": {
        "id": "ad2a3IgQarod"
      },
      "source": [
        "def create_dir(path):\n",
        "    if not os.path.exists(path):\n",
        "        os.makedirs(path)"
      ],
      "execution_count": 20,
      "outputs": []
    },
    {
      "cell_type": "code",
      "metadata": {
        "id": "KIRpl_FWasuA"
      },
      "source": [
        "def load_data(path):\n",
        "    x = sorted(glob(os.path.join(path, \"image\", \"*.jpg\")))\n",
        "    y = sorted(glob(os.path.join(path, \"mask\", \"*.jpg\")))\n",
        "    return x, y"
      ],
      "execution_count": 21,
      "outputs": []
    },
    {
      "cell_type": "code",
      "metadata": {
        "id": "3tnI_ZPaax7H"
      },
      "source": [
        "def shuffling(x, y):\n",
        "    x, y = shuffle(x, y, random_state=42)\n",
        "    return x, y"
      ],
      "execution_count": 22,
      "outputs": []
    },
    {
      "cell_type": "code",
      "metadata": {
        "id": "bF4mZL0Aa0gR"
      },
      "source": [
        "def read_image(path):\n",
        "    path = path.decode()\n",
        "    x = cv2.imread(path, cv2.IMREAD_COLOR)\n",
        "    # x = cv2.resize(x, (W, H))\n",
        "    x = x/255.0\n",
        "    x = x.astype(np.float32)\n",
        "    return x"
      ],
      "execution_count": 23,
      "outputs": []
    },
    {
      "cell_type": "code",
      "metadata": {
        "id": "aOyJgzyga3iZ"
      },
      "source": [
        "def read_mask(path):\n",
        "    path = path.decode()\n",
        "    x = cv2.imread(path, cv2.IMREAD_GRAYSCALE)  ## (512, 512)\n",
        "    # x = cv2.resize(x, (W, H))\n",
        "    x = x/255.0\n",
        "    x = x.astype(np.float32)\n",
        "    x = np.expand_dims(x, axis=-1)              ## (512, 512, 1)\n",
        "    return x"
      ],
      "execution_count": 24,
      "outputs": []
    },
    {
      "cell_type": "code",
      "metadata": {
        "id": "XrSakcs8a51T"
      },
      "source": [
        "def tf_parse(x, y):\n",
        "    def _parse(x, y):\n",
        "        x = read_image(x)\n",
        "        y = read_mask(y)\n",
        "        return x, y\n",
        "\n",
        "    x, y = tf.numpy_function(_parse, [x, y], [tf.float32, tf.float32])\n",
        "    x.set_shape([H, W, 3])\n",
        "    y.set_shape([H, W, 1])\n",
        "    return x, y"
      ],
      "execution_count": 25,
      "outputs": []
    },
    {
      "cell_type": "code",
      "metadata": {
        "id": "S4WFOls-a8RP"
      },
      "source": [
        "def tf_dataset(X, Y, batch_size=2):\n",
        "    dataset = tf.data.Dataset.from_tensor_slices((X, Y))\n",
        "    dataset = dataset.map(tf_parse)\n",
        "    dataset = dataset.batch(batch_size)\n",
        "    dataset = dataset.prefetch(4)\n",
        "    return dataset"
      ],
      "execution_count": 26,
      "outputs": []
    },
    {
      "cell_type": "code",
      "metadata": {
        "colab": {
          "base_uri": "https://localhost:8080/"
        },
        "id": "_XOlxR3VbAjL",
        "outputId": "c3c1a223-abda-4381-a5e2-b0216b021efe"
      },
      "source": [
        "if __name__ == \"__main__\":\n",
        "    \"\"\" Seeding \"\"\"\n",
        "    np.random.seed(42)\n",
        "    tf.random.set_seed(42)\n",
        "\n",
        "    \"\"\" Directory to save files \"\"\"\n",
        "    create_dir(\"/content/drive/MyDrive/project/UNet layers/2_Unet/new_data/files\")\n",
        "\n",
        "    \"\"\" Hyperparameters \"\"\"\n",
        "    batch_size = 2\n",
        "    lr = 1e-4\n",
        "    num_epochs = 100\n",
        "    model_path = os.path.join(\"/content/drive/MyDrive/project/UNet layers/2_Unet/new_data/files\", \"model.h5\")\n",
        "    csv_path = os.path.join(\"/content/drive/MyDrive/project/UNet layers/2_Unet/new_data/files\", \"data.csv\")\n",
        "\n",
        "    \"\"\" Dataset \"\"\"\n",
        "    dataset_path = \"/content/drive/MyDrive/project/UNet layers/2_Unet/new_data\"\n",
        "    train_path = os.path.join(dataset_path, \"train\")\n",
        "    valid_path = os.path.join(dataset_path, \"test\")\n",
        "\n",
        "    train_x, train_y = load_data(train_path)\n",
        "    train_x, train_y = shuffling(train_x, train_y)\n",
        "    valid_x, valid_y = load_data(valid_path)\n",
        "\n",
        "    print(f\"Train: {len(train_x)} - {len(train_y)}\")\n",
        "    print(f\"Valid: {len(valid_x)} - {len(valid_y)}\")\n",
        "\n",
        "    train_dataset = tf_dataset(train_x, train_y, batch_size=batch_size)\n",
        "    valid_dataset = tf_dataset(valid_x, valid_y, batch_size=batch_size)\n",
        "\n",
        "    train_steps = len(train_x)//batch_size\n",
        "    valid_setps = len(valid_x)//batch_size\n",
        "\n",
        "    if len(train_x) % batch_size != 0:\n",
        "        train_steps += 1\n",
        "    if len(valid_x) % batch_size != 0:\n",
        "        valid_setps += 1\n",
        "\n",
        "    \"\"\" Model \"\"\"\n",
        "    model = build_unet((H, W, 3))\n",
        "    model.compile(loss=dice_loss, optimizer=Adam(lr), metrics=[dice_coef, iou, Recall(), Precision()])\n",
        "    # model.summary()\n",
        "\n",
        "    callbacks = [\n",
        "        ModelCheckpoint(model_path, verbose=1, save_best_only=True),\n",
        "        ReduceLROnPlateau(monitor=\"val_loss\", factor=0.1, patience=5, min_lr=1e-6, verbose=1),\n",
        "        CSVLogger(csv_path),\n",
        "        TensorBoard(),\n",
        "        EarlyStopping(monitor=\"val_loss\", patience=10, restore_best_weights=False)\n",
        "    ]\n",
        "\n",
        "    model.fit(\n",
        "        train_dataset,\n",
        "        epochs=num_epochs,\n",
        "        validation_data=valid_dataset,\n",
        "        steps_per_epoch=train_steps,\n",
        "        validation_steps=valid_setps,\n",
        "        callbacks=callbacks\n",
        "    )"
      ],
      "execution_count": 27,
      "outputs": [
        {
          "output_type": "stream",
          "name": "stdout",
          "text": [
            "Train: 90 - 90\n",
            "Valid: 15 - 15\n",
            "Epoch 1/100\n",
            "45/45 [==============================] - ETA: 0s - loss: 0.7011 - dice_coef: 0.2989 - iou: 0.1783 - recall: 0.6087 - precision: 0.3986\n",
            "Epoch 00001: val_loss improved from inf to 0.85265, saving model to /content/drive/MyDrive/project/UNet layers/2_Unet/new_data/files/model.h5\n",
            "45/45 [==============================] - 71s 1s/step - loss: 0.7011 - dice_coef: 0.2989 - iou: 0.1783 - recall: 0.6087 - precision: 0.3986 - val_loss: 0.8527 - val_dice_coef: 0.1462 - val_iou: 0.0789 - val_recall: 0.0000e+00 - val_precision: 0.0000e+00 - lr: 1.0000e-04\n",
            "Epoch 2/100\n",
            "45/45 [==============================] - ETA: 0s - loss: 0.5153 - dice_coef: 0.4847 - iou: 0.3212 - recall: 0.4396 - precision: 0.7555\n",
            "Epoch 00002: val_loss did not improve from 0.85265\n",
            "45/45 [==============================] - 50s 1s/step - loss: 0.5153 - dice_coef: 0.4847 - iou: 0.3212 - recall: 0.4396 - precision: 0.7555 - val_loss: 0.8709 - val_dice_coef: 0.1282 - val_iou: 0.0685 - val_recall: 0.0000e+00 - val_precision: 0.0000e+00 - lr: 1.0000e-04\n",
            "Epoch 3/100\n",
            "45/45 [==============================] - ETA: 0s - loss: 0.4527 - dice_coef: 0.5473 - iou: 0.3777 - recall: 0.4141 - precision: 0.8255\n",
            "Epoch 00003: val_loss did not improve from 0.85265\n",
            "45/45 [==============================] - 48s 1s/step - loss: 0.4527 - dice_coef: 0.5473 - iou: 0.3777 - recall: 0.4141 - precision: 0.8255 - val_loss: 0.8952 - val_dice_coef: 0.1042 - val_iou: 0.0550 - val_recall: 0.0000e+00 - val_precision: 0.0000e+00 - lr: 1.0000e-04\n",
            "Epoch 4/100\n",
            "45/45 [==============================] - ETA: 0s - loss: 0.4209 - dice_coef: 0.5791 - iou: 0.4086 - recall: 0.4090 - precision: 0.8491\n",
            "Epoch 00004: val_loss did not improve from 0.85265\n",
            "45/45 [==============================] - 48s 1s/step - loss: 0.4209 - dice_coef: 0.5791 - iou: 0.4086 - recall: 0.4090 - precision: 0.8491 - val_loss: 0.9139 - val_dice_coef: 0.0856 - val_iou: 0.0447 - val_recall: 0.0000e+00 - val_precision: 0.0000e+00 - lr: 1.0000e-04\n",
            "Epoch 5/100\n",
            "45/45 [==============================] - ETA: 0s - loss: 0.3977 - dice_coef: 0.6023 - iou: 0.4319 - recall: 0.4034 - precision: 0.8663\n",
            "Epoch 00005: val_loss did not improve from 0.85265\n",
            "45/45 [==============================] - 48s 1s/step - loss: 0.3977 - dice_coef: 0.6023 - iou: 0.4319 - recall: 0.4034 - precision: 0.8663 - val_loss: 0.9334 - val_dice_coef: 0.0663 - val_iou: 0.0343 - val_recall: 8.4770e-05 - val_precision: 0.5379 - lr: 1.0000e-04\n",
            "Epoch 6/100\n",
            "45/45 [==============================] - ETA: 0s - loss: 0.3781 - dice_coef: 0.6219 - iou: 0.4523 - recall: 0.4013 - precision: 0.8793\n",
            "Epoch 00006: val_loss did not improve from 0.85265\n",
            "\n",
            "Epoch 00006: ReduceLROnPlateau reducing learning rate to 9.999999747378752e-06.\n",
            "45/45 [==============================] - 50s 1s/step - loss: 0.3781 - dice_coef: 0.6219 - iou: 0.4523 - recall: 0.4013 - precision: 0.8793 - val_loss: 0.9358 - val_dice_coef: 0.0636 - val_iou: 0.0329 - val_recall: 0.0040 - val_precision: 0.1497 - lr: 1.0000e-04\n",
            "Epoch 7/100\n",
            "45/45 [==============================] - ETA: 0s - loss: 0.3655 - dice_coef: 0.6345 - iou: 0.4656 - recall: 0.4026 - precision: 0.8890\n",
            "Epoch 00007: val_loss did not improve from 0.85265\n",
            "45/45 [==============================] - 50s 1s/step - loss: 0.3655 - dice_coef: 0.6345 - iou: 0.4656 - recall: 0.4026 - precision: 0.8890 - val_loss: 0.9177 - val_dice_coef: 0.0806 - val_iou: 0.0424 - val_recall: 0.0159 - val_precision: 0.2008 - lr: 1.0000e-05\n",
            "Epoch 8/100\n",
            "45/45 [==============================] - ETA: 0s - loss: 0.3615 - dice_coef: 0.6385 - iou: 0.4700 - recall: 0.4001 - precision: 0.8956\n",
            "Epoch 00008: val_loss did not improve from 0.85265\n",
            "45/45 [==============================] - 48s 1s/step - loss: 0.3615 - dice_coef: 0.6385 - iou: 0.4700 - recall: 0.4001 - precision: 0.8956 - val_loss: 0.8667 - val_dice_coef: 0.1296 - val_iou: 0.0707 - val_recall: 0.0399 - val_precision: 0.3097 - lr: 1.0000e-05\n",
            "Epoch 9/100\n",
            "45/45 [==============================] - ETA: 0s - loss: 0.3591 - dice_coef: 0.6409 - iou: 0.4725 - recall: 0.4007 - precision: 0.8973\n",
            "Epoch 00009: val_loss improved from 0.85265 to 0.76030, saving model to /content/drive/MyDrive/project/UNet layers/2_Unet/new_data/files/model.h5\n",
            "45/45 [==============================] - 51s 1s/step - loss: 0.3591 - dice_coef: 0.6409 - iou: 0.4725 - recall: 0.4007 - precision: 0.8973 - val_loss: 0.7603 - val_dice_coef: 0.2364 - val_iou: 0.1364 - val_recall: 0.0872 - val_precision: 0.4763 - lr: 1.0000e-05\n",
            "Epoch 10/100\n",
            "45/45 [==============================] - ETA: 0s - loss: 0.3571 - dice_coef: 0.6429 - iou: 0.4747 - recall: 0.4008 - precision: 0.8989\n",
            "Epoch 00010: val_loss improved from 0.76030 to 0.63983, saving model to /content/drive/MyDrive/project/UNet layers/2_Unet/new_data/files/model.h5\n",
            "45/45 [==============================] - 51s 1s/step - loss: 0.3571 - dice_coef: 0.6429 - iou: 0.4747 - recall: 0.4008 - precision: 0.8989 - val_loss: 0.6398 - val_dice_coef: 0.3567 - val_iou: 0.2193 - val_recall: 0.1466 - val_precision: 0.6378 - lr: 1.0000e-05\n",
            "Epoch 11/100\n",
            "45/45 [==============================] - ETA: 0s - loss: 0.3551 - dice_coef: 0.6449 - iou: 0.4768 - recall: 0.4009 - precision: 0.9004\n",
            "Epoch 00011: val_loss improved from 0.63983 to 0.52635, saving model to /content/drive/MyDrive/project/UNet layers/2_Unet/new_data/files/model.h5\n",
            "45/45 [==============================] - 51s 1s/step - loss: 0.3551 - dice_coef: 0.6449 - iou: 0.4768 - recall: 0.4009 - precision: 0.9004 - val_loss: 0.5264 - val_dice_coef: 0.4706 - val_iou: 0.3092 - val_recall: 0.2092 - val_precision: 0.7998 - lr: 1.0000e-05\n",
            "Epoch 12/100\n",
            "45/45 [==============================] - ETA: 0s - loss: 0.3533 - dice_coef: 0.6467 - iou: 0.4788 - recall: 0.4009 - precision: 0.9017\n",
            "Epoch 00012: val_loss improved from 0.52635 to 0.44272, saving model to /content/drive/MyDrive/project/UNet layers/2_Unet/new_data/files/model.h5\n",
            "45/45 [==============================] - 49s 1s/step - loss: 0.3533 - dice_coef: 0.6467 - iou: 0.4788 - recall: 0.4009 - precision: 0.9017 - val_loss: 0.4427 - val_dice_coef: 0.5544 - val_iou: 0.3845 - val_recall: 0.2675 - val_precision: 0.8919 - lr: 1.0000e-05\n",
            "Epoch 13/100\n",
            "45/45 [==============================] - ETA: 0s - loss: 0.3514 - dice_coef: 0.6486 - iou: 0.4808 - recall: 0.4009 - precision: 0.9030\n",
            "Epoch 00013: val_loss improved from 0.44272 to 0.39046, saving model to /content/drive/MyDrive/project/UNet layers/2_Unet/new_data/files/model.h5\n",
            "45/45 [==============================] - 49s 1s/step - loss: 0.3514 - dice_coef: 0.6486 - iou: 0.4808 - recall: 0.4009 - precision: 0.9030 - val_loss: 0.3905 - val_dice_coef: 0.6066 - val_iou: 0.4361 - val_recall: 0.3174 - val_precision: 0.9277 - lr: 1.0000e-05\n",
            "Epoch 14/100\n",
            "45/45 [==============================] - ETA: 0s - loss: 0.3496 - dice_coef: 0.6504 - iou: 0.4828 - recall: 0.4008 - precision: 0.9043\n",
            "Epoch 00014: val_loss improved from 0.39046 to 0.36103, saving model to /content/drive/MyDrive/project/UNet layers/2_Unet/new_data/files/model.h5\n",
            "45/45 [==============================] - 51s 1s/step - loss: 0.3496 - dice_coef: 0.6504 - iou: 0.4828 - recall: 0.4008 - precision: 0.9043 - val_loss: 0.3610 - val_dice_coef: 0.6361 - val_iou: 0.4670 - val_recall: 0.3570 - val_precision: 0.9363 - lr: 1.0000e-05\n",
            "Epoch 15/100\n",
            "45/45 [==============================] - ETA: 0s - loss: 0.3478 - dice_coef: 0.6522 - iou: 0.4847 - recall: 0.4008 - precision: 0.9056\n",
            "Epoch 00015: val_loss improved from 0.36103 to 0.34605, saving model to /content/drive/MyDrive/project/UNet layers/2_Unet/new_data/files/model.h5\n",
            "45/45 [==============================] - 51s 1s/step - loss: 0.3478 - dice_coef: 0.6522 - iou: 0.4847 - recall: 0.4008 - precision: 0.9056 - val_loss: 0.3461 - val_dice_coef: 0.6513 - val_iou: 0.4834 - val_recall: 0.3864 - val_precision: 0.9290 - lr: 1.0000e-05\n",
            "Epoch 16/100\n",
            "45/45 [==============================] - ETA: 0s - loss: 0.3461 - dice_coef: 0.6539 - iou: 0.4866 - recall: 0.4008 - precision: 0.9068\n",
            "Epoch 00016: val_loss improved from 0.34605 to 0.33924, saving model to /content/drive/MyDrive/project/UNet layers/2_Unet/new_data/files/model.h5\n",
            "45/45 [==============================] - 49s 1s/step - loss: 0.3461 - dice_coef: 0.6539 - iou: 0.4866 - recall: 0.4008 - precision: 0.9068 - val_loss: 0.3392 - val_dice_coef: 0.6583 - val_iou: 0.4911 - val_recall: 0.4086 - val_precision: 0.9182 - lr: 1.0000e-05\n",
            "Epoch 17/100\n",
            "45/45 [==============================] - ETA: 0s - loss: 0.3444 - dice_coef: 0.6556 - iou: 0.4885 - recall: 0.4008 - precision: 0.9080\n",
            "Epoch 00017: val_loss improved from 0.33924 to 0.33633, saving model to /content/drive/MyDrive/project/UNet layers/2_Unet/new_data/files/model.h5\n",
            "45/45 [==============================] - 51s 1s/step - loss: 0.3444 - dice_coef: 0.6556 - iou: 0.4885 - recall: 0.4008 - precision: 0.9080 - val_loss: 0.3363 - val_dice_coef: 0.6614 - val_iou: 0.4945 - val_recall: 0.4240 - val_precision: 0.9092 - lr: 1.0000e-05\n",
            "Epoch 18/100\n",
            "45/45 [==============================] - ETA: 0s - loss: 0.3427 - dice_coef: 0.6573 - iou: 0.4904 - recall: 0.4007 - precision: 0.9091\n",
            "Epoch 00018: val_loss improved from 0.33633 to 0.33489, saving model to /content/drive/MyDrive/project/UNet layers/2_Unet/new_data/files/model.h5\n",
            "45/45 [==============================] - 51s 1s/step - loss: 0.3427 - dice_coef: 0.6573 - iou: 0.4904 - recall: 0.4007 - precision: 0.9091 - val_loss: 0.3349 - val_dice_coef: 0.6630 - val_iou: 0.4963 - val_recall: 0.4339 - val_precision: 0.9025 - lr: 1.0000e-05\n",
            "Epoch 19/100\n",
            "45/45 [==============================] - ETA: 0s - loss: 0.3411 - dice_coef: 0.6589 - iou: 0.4922 - recall: 0.4007 - precision: 0.9102\n",
            "Epoch 00019: val_loss improved from 0.33489 to 0.33397, saving model to /content/drive/MyDrive/project/UNet layers/2_Unet/new_data/files/model.h5\n",
            "45/45 [==============================] - 49s 1s/step - loss: 0.3411 - dice_coef: 0.6589 - iou: 0.4922 - recall: 0.4007 - precision: 0.9102 - val_loss: 0.3340 - val_dice_coef: 0.6640 - val_iou: 0.4974 - val_recall: 0.4405 - val_precision: 0.8977 - lr: 1.0000e-05\n",
            "Epoch 20/100\n",
            "45/45 [==============================] - ETA: 0s - loss: 0.3395 - dice_coef: 0.6605 - iou: 0.4940 - recall: 0.4007 - precision: 0.9113\n",
            "Epoch 00020: val_loss improved from 0.33397 to 0.33312, saving model to /content/drive/MyDrive/project/UNet layers/2_Unet/new_data/files/model.h5\n",
            "45/45 [==============================] - 51s 1s/step - loss: 0.3395 - dice_coef: 0.6605 - iou: 0.4940 - recall: 0.4007 - precision: 0.9113 - val_loss: 0.3331 - val_dice_coef: 0.6650 - val_iou: 0.4985 - val_recall: 0.4446 - val_precision: 0.8949 - lr: 1.0000e-05\n",
            "Epoch 21/100\n",
            "45/45 [==============================] - ETA: 0s - loss: 0.3379 - dice_coef: 0.6621 - iou: 0.4958 - recall: 0.4006 - precision: 0.9123\n",
            "Epoch 00021: val_loss improved from 0.33312 to 0.33219, saving model to /content/drive/MyDrive/project/UNet layers/2_Unet/new_data/files/model.h5\n",
            "45/45 [==============================] - 51s 1s/step - loss: 0.3379 - dice_coef: 0.6621 - iou: 0.4958 - recall: 0.4006 - precision: 0.9123 - val_loss: 0.3322 - val_dice_coef: 0.6660 - val_iou: 0.4996 - val_recall: 0.4469 - val_precision: 0.8930 - lr: 1.0000e-05\n",
            "Epoch 22/100\n",
            "45/45 [==============================] - ETA: 0s - loss: 0.3363 - dice_coef: 0.6637 - iou: 0.4975 - recall: 0.4006 - precision: 0.9133\n",
            "Epoch 00022: val_loss improved from 0.33219 to 0.33124, saving model to /content/drive/MyDrive/project/UNet layers/2_Unet/new_data/files/model.h5\n",
            "45/45 [==============================] - 49s 1s/step - loss: 0.3363 - dice_coef: 0.6637 - iou: 0.4975 - recall: 0.4006 - precision: 0.9133 - val_loss: 0.3312 - val_dice_coef: 0.6670 - val_iou: 0.5008 - val_recall: 0.4491 - val_precision: 0.8914 - lr: 1.0000e-05\n",
            "Epoch 23/100\n",
            "45/45 [==============================] - ETA: 0s - loss: 0.3348 - dice_coef: 0.6652 - iou: 0.4992 - recall: 0.4005 - precision: 0.9144\n",
            "Epoch 00023: val_loss improved from 0.33124 to 0.33009, saving model to /content/drive/MyDrive/project/UNet layers/2_Unet/new_data/files/model.h5\n",
            "45/45 [==============================] - 51s 1s/step - loss: 0.3348 - dice_coef: 0.6652 - iou: 0.4992 - recall: 0.4005 - precision: 0.9144 - val_loss: 0.3301 - val_dice_coef: 0.6682 - val_iou: 0.5021 - val_recall: 0.4499 - val_precision: 0.8911 - lr: 1.0000e-05\n",
            "Epoch 24/100\n",
            "45/45 [==============================] - ETA: 0s - loss: 0.3332 - dice_coef: 0.6668 - iou: 0.5009 - recall: 0.4005 - precision: 0.9153\n",
            "Epoch 00024: val_loss improved from 0.33009 to 0.32898, saving model to /content/drive/MyDrive/project/UNet layers/2_Unet/new_data/files/model.h5\n",
            "45/45 [==============================] - 49s 1s/step - loss: 0.3332 - dice_coef: 0.6668 - iou: 0.5009 - recall: 0.4005 - precision: 0.9153 - val_loss: 0.3290 - val_dice_coef: 0.6693 - val_iou: 0.5034 - val_recall: 0.4500 - val_precision: 0.8913 - lr: 1.0000e-05\n",
            "Epoch 25/100\n",
            "45/45 [==============================] - ETA: 0s - loss: 0.3317 - dice_coef: 0.6683 - iou: 0.5026 - recall: 0.4005 - precision: 0.9162\n",
            "Epoch 00025: val_loss improved from 0.32898 to 0.32791, saving model to /content/drive/MyDrive/project/UNet layers/2_Unet/new_data/files/model.h5\n",
            "45/45 [==============================] - 49s 1s/step - loss: 0.3317 - dice_coef: 0.6683 - iou: 0.5026 - recall: 0.4005 - precision: 0.9162 - val_loss: 0.3279 - val_dice_coef: 0.6704 - val_iou: 0.5046 - val_recall: 0.4506 - val_precision: 0.8910 - lr: 1.0000e-05\n",
            "Epoch 26/100\n",
            "45/45 [==============================] - ETA: 0s - loss: 0.3303 - dice_coef: 0.6697 - iou: 0.5043 - recall: 0.4004 - precision: 0.9171\n",
            "Epoch 00026: val_loss improved from 0.32791 to 0.32682, saving model to /content/drive/MyDrive/project/UNet layers/2_Unet/new_data/files/model.h5\n",
            "45/45 [==============================] - 49s 1s/step - loss: 0.3303 - dice_coef: 0.6697 - iou: 0.5043 - recall: 0.4004 - precision: 0.9171 - val_loss: 0.3268 - val_dice_coef: 0.6715 - val_iou: 0.5059 - val_recall: 0.4509 - val_precision: 0.8911 - lr: 1.0000e-05\n",
            "Epoch 27/100\n",
            "45/45 [==============================] - ETA: 0s - loss: 0.3288 - dice_coef: 0.6712 - iou: 0.5059 - recall: 0.4004 - precision: 0.9180\n",
            "Epoch 00027: val_loss improved from 0.32682 to 0.32584, saving model to /content/drive/MyDrive/project/UNet layers/2_Unet/new_data/files/model.h5\n",
            "45/45 [==============================] - 49s 1s/step - loss: 0.3288 - dice_coef: 0.6712 - iou: 0.5059 - recall: 0.4004 - precision: 0.9180 - val_loss: 0.3258 - val_dice_coef: 0.6725 - val_iou: 0.5070 - val_recall: 0.4508 - val_precision: 0.8914 - lr: 1.0000e-05\n",
            "Epoch 28/100\n",
            "45/45 [==============================] - ETA: 0s - loss: 0.3274 - dice_coef: 0.6726 - iou: 0.5076 - recall: 0.4004 - precision: 0.9189\n",
            "Epoch 00028: val_loss improved from 0.32584 to 0.32483, saving model to /content/drive/MyDrive/project/UNet layers/2_Unet/new_data/files/model.h5\n",
            "45/45 [==============================] - 51s 1s/step - loss: 0.3274 - dice_coef: 0.6726 - iou: 0.5076 - recall: 0.4004 - precision: 0.9189 - val_loss: 0.3248 - val_dice_coef: 0.6735 - val_iou: 0.5082 - val_recall: 0.4508 - val_precision: 0.8917 - lr: 1.0000e-05\n",
            "Epoch 29/100\n",
            "45/45 [==============================] - ETA: 0s - loss: 0.3260 - dice_coef: 0.6740 - iou: 0.5092 - recall: 0.4003 - precision: 0.9197\n",
            "Epoch 00029: val_loss improved from 0.32483 to 0.32397, saving model to /content/drive/MyDrive/project/UNet layers/2_Unet/new_data/files/model.h5\n",
            "45/45 [==============================] - 49s 1s/step - loss: 0.3260 - dice_coef: 0.6740 - iou: 0.5092 - recall: 0.4003 - precision: 0.9197 - val_loss: 0.3240 - val_dice_coef: 0.6744 - val_iou: 0.5092 - val_recall: 0.4512 - val_precision: 0.8916 - lr: 1.0000e-05\n",
            "Epoch 30/100\n",
            "45/45 [==============================] - ETA: 0s - loss: 0.3246 - dice_coef: 0.6754 - iou: 0.5107 - recall: 0.4002 - precision: 0.9205\n",
            "Epoch 00030: val_loss improved from 0.32397 to 0.32305, saving model to /content/drive/MyDrive/project/UNet layers/2_Unet/new_data/files/model.h5\n",
            "45/45 [==============================] - 49s 1s/step - loss: 0.3246 - dice_coef: 0.6754 - iou: 0.5107 - recall: 0.4002 - precision: 0.9205 - val_loss: 0.3231 - val_dice_coef: 0.6754 - val_iou: 0.5102 - val_recall: 0.4511 - val_precision: 0.8918 - lr: 1.0000e-05\n",
            "Epoch 31/100\n",
            "45/45 [==============================] - ETA: 0s - loss: 0.3232 - dice_coef: 0.6768 - iou: 0.5123 - recall: 0.4001 - precision: 0.9213\n",
            "Epoch 00031: val_loss improved from 0.32305 to 0.32207, saving model to /content/drive/MyDrive/project/UNet layers/2_Unet/new_data/files/model.h5\n",
            "45/45 [==============================] - 51s 1s/step - loss: 0.3232 - dice_coef: 0.6768 - iou: 0.5123 - recall: 0.4001 - precision: 0.9213 - val_loss: 0.3221 - val_dice_coef: 0.6764 - val_iou: 0.5114 - val_recall: 0.4511 - val_precision: 0.8920 - lr: 1.0000e-05\n",
            "Epoch 32/100\n",
            "45/45 [==============================] - ETA: 0s - loss: 0.3219 - dice_coef: 0.6781 - iou: 0.5138 - recall: 0.4001 - precision: 0.9220\n",
            "Epoch 00032: val_loss improved from 0.32207 to 0.32109, saving model to /content/drive/MyDrive/project/UNet layers/2_Unet/new_data/files/model.h5\n",
            "45/45 [==============================] - 51s 1s/step - loss: 0.3219 - dice_coef: 0.6781 - iou: 0.5138 - recall: 0.4001 - precision: 0.9220 - val_loss: 0.3211 - val_dice_coef: 0.6774 - val_iou: 0.5125 - val_recall: 0.4512 - val_precision: 0.8922 - lr: 1.0000e-05\n",
            "Epoch 33/100\n",
            "45/45 [==============================] - ETA: 0s - loss: 0.3205 - dice_coef: 0.6795 - iou: 0.5153 - recall: 0.4000 - precision: 0.9228\n",
            "Epoch 00033: val_loss improved from 0.32109 to 0.32014, saving model to /content/drive/MyDrive/project/UNet layers/2_Unet/new_data/files/model.h5\n",
            "45/45 [==============================] - 51s 1s/step - loss: 0.3205 - dice_coef: 0.6795 - iou: 0.5153 - recall: 0.4000 - precision: 0.9228 - val_loss: 0.3201 - val_dice_coef: 0.6783 - val_iou: 0.5136 - val_recall: 0.4514 - val_precision: 0.8922 - lr: 1.0000e-05\n",
            "Epoch 34/100\n",
            "45/45 [==============================] - ETA: 0s - loss: 0.3192 - dice_coef: 0.6808 - iou: 0.5168 - recall: 0.4000 - precision: 0.9235\n",
            "Epoch 00034: val_loss improved from 0.32014 to 0.31937, saving model to /content/drive/MyDrive/project/UNet layers/2_Unet/new_data/files/model.h5\n",
            "45/45 [==============================] - 51s 1s/step - loss: 0.3192 - dice_coef: 0.6808 - iou: 0.5168 - recall: 0.4000 - precision: 0.9235 - val_loss: 0.3194 - val_dice_coef: 0.6791 - val_iou: 0.5145 - val_recall: 0.4518 - val_precision: 0.8917 - lr: 1.0000e-05\n",
            "Epoch 35/100\n",
            "45/45 [==============================] - ETA: 0s - loss: 0.3179 - dice_coef: 0.6821 - iou: 0.5183 - recall: 0.3999 - precision: 0.9242\n",
            "Epoch 00035: val_loss improved from 0.31937 to 0.31836, saving model to /content/drive/MyDrive/project/UNet layers/2_Unet/new_data/files/model.h5\n",
            "45/45 [==============================] - 49s 1s/step - loss: 0.3179 - dice_coef: 0.6821 - iou: 0.5183 - recall: 0.3999 - precision: 0.9242 - val_loss: 0.3184 - val_dice_coef: 0.6802 - val_iou: 0.5157 - val_recall: 0.4514 - val_precision: 0.8923 - lr: 1.0000e-05\n",
            "Epoch 36/100\n",
            "45/45 [==============================] - ETA: 0s - loss: 0.3167 - dice_coef: 0.6833 - iou: 0.5198 - recall: 0.3998 - precision: 0.9248\n",
            "Epoch 00036: val_loss improved from 0.31836 to 0.31755, saving model to /content/drive/MyDrive/project/UNet layers/2_Unet/new_data/files/model.h5\n",
            "45/45 [==============================] - 51s 1s/step - loss: 0.3167 - dice_coef: 0.6833 - iou: 0.5198 - recall: 0.3998 - precision: 0.9248 - val_loss: 0.3176 - val_dice_coef: 0.6810 - val_iou: 0.5167 - val_recall: 0.4515 - val_precision: 0.8924 - lr: 1.0000e-05\n",
            "Epoch 37/100\n",
            "45/45 [==============================] - ETA: 0s - loss: 0.3154 - dice_coef: 0.6846 - iou: 0.5212 - recall: 0.3997 - precision: 0.9255\n",
            "Epoch 00037: val_loss improved from 0.31755 to 0.31663, saving model to /content/drive/MyDrive/project/UNet layers/2_Unet/new_data/files/model.h5\n",
            "45/45 [==============================] - 49s 1s/step - loss: 0.3154 - dice_coef: 0.6846 - iou: 0.5212 - recall: 0.3997 - precision: 0.9255 - val_loss: 0.3166 - val_dice_coef: 0.6819 - val_iou: 0.5177 - val_recall: 0.4514 - val_precision: 0.8926 - lr: 1.0000e-05\n",
            "Epoch 38/100\n",
            "45/45 [==============================] - ETA: 0s - loss: 0.3142 - dice_coef: 0.6858 - iou: 0.5226 - recall: 0.3997 - precision: 0.9262\n",
            "Epoch 00038: val_loss improved from 0.31663 to 0.31577, saving model to /content/drive/MyDrive/project/UNet layers/2_Unet/new_data/files/model.h5\n",
            "45/45 [==============================] - 51s 1s/step - loss: 0.3142 - dice_coef: 0.6858 - iou: 0.5226 - recall: 0.3997 - precision: 0.9262 - val_loss: 0.3158 - val_dice_coef: 0.6828 - val_iou: 0.5188 - val_recall: 0.4514 - val_precision: 0.8927 - lr: 1.0000e-05\n",
            "Epoch 39/100\n",
            "45/45 [==============================] - ETA: 0s - loss: 0.3129 - dice_coef: 0.6871 - iou: 0.5240 - recall: 0.3996 - precision: 0.9268\n",
            "Epoch 00039: val_loss improved from 0.31577 to 0.31485, saving model to /content/drive/MyDrive/project/UNet layers/2_Unet/new_data/files/model.h5\n",
            "45/45 [==============================] - 49s 1s/step - loss: 0.3129 - dice_coef: 0.6871 - iou: 0.5240 - recall: 0.3996 - precision: 0.9268 - val_loss: 0.3149 - val_dice_coef: 0.6837 - val_iou: 0.5198 - val_recall: 0.4513 - val_precision: 0.8929 - lr: 1.0000e-05\n",
            "Epoch 40/100\n",
            "45/45 [==============================] - ETA: 0s - loss: 0.3117 - dice_coef: 0.6883 - iou: 0.5254 - recall: 0.3996 - precision: 0.9274\n",
            "Epoch 00040: val_loss improved from 0.31485 to 0.31405, saving model to /content/drive/MyDrive/project/UNet layers/2_Unet/new_data/files/model.h5\n",
            "45/45 [==============================] - 51s 1s/step - loss: 0.3117 - dice_coef: 0.6883 - iou: 0.5254 - recall: 0.3996 - precision: 0.9274 - val_loss: 0.3141 - val_dice_coef: 0.6845 - val_iou: 0.5208 - val_recall: 0.4511 - val_precision: 0.8930 - lr: 1.0000e-05\n",
            "Epoch 41/100\n",
            "45/45 [==============================] - ETA: 0s - loss: 0.3106 - dice_coef: 0.6894 - iou: 0.5268 - recall: 0.3995 - precision: 0.9280\n",
            "Epoch 00041: val_loss improved from 0.31405 to 0.31320, saving model to /content/drive/MyDrive/project/UNet layers/2_Unet/new_data/files/model.h5\n",
            "45/45 [==============================] - 51s 1s/step - loss: 0.3106 - dice_coef: 0.6894 - iou: 0.5268 - recall: 0.3995 - precision: 0.9280 - val_loss: 0.3132 - val_dice_coef: 0.6854 - val_iou: 0.5218 - val_recall: 0.4510 - val_precision: 0.8932 - lr: 1.0000e-05\n",
            "Epoch 42/100\n",
            "45/45 [==============================] - ETA: 0s - loss: 0.3094 - dice_coef: 0.6906 - iou: 0.5282 - recall: 0.3995 - precision: 0.9287\n",
            "Epoch 00042: val_loss improved from 0.31320 to 0.31228, saving model to /content/drive/MyDrive/project/UNet layers/2_Unet/new_data/files/model.h5\n",
            "45/45 [==============================] - 49s 1s/step - loss: 0.3094 - dice_coef: 0.6906 - iou: 0.5282 - recall: 0.3995 - precision: 0.9287 - val_loss: 0.3123 - val_dice_coef: 0.6863 - val_iou: 0.5228 - val_recall: 0.4509 - val_precision: 0.8935 - lr: 1.0000e-05\n",
            "Epoch 43/100\n",
            "45/45 [==============================] - ETA: 0s - loss: 0.3082 - dice_coef: 0.6918 - iou: 0.5295 - recall: 0.3994 - precision: 0.9293\n",
            "Epoch 00043: val_loss improved from 0.31228 to 0.31142, saving model to /content/drive/MyDrive/project/UNet layers/2_Unet/new_data/files/model.h5\n",
            "45/45 [==============================] - 51s 1s/step - loss: 0.3082 - dice_coef: 0.6918 - iou: 0.5295 - recall: 0.3994 - precision: 0.9293 - val_loss: 0.3114 - val_dice_coef: 0.6872 - val_iou: 0.5239 - val_recall: 0.4504 - val_precision: 0.8939 - lr: 1.0000e-05\n",
            "Epoch 44/100\n",
            "45/45 [==============================] - ETA: 0s - loss: 0.3071 - dice_coef: 0.6929 - iou: 0.5309 - recall: 0.3993 - precision: 0.9299\n",
            "Epoch 00044: val_loss improved from 0.31142 to 0.31056, saving model to /content/drive/MyDrive/project/UNet layers/2_Unet/new_data/files/model.h5\n",
            "45/45 [==============================] - 51s 1s/step - loss: 0.3071 - dice_coef: 0.6929 - iou: 0.5309 - recall: 0.3993 - precision: 0.9299 - val_loss: 0.3106 - val_dice_coef: 0.6881 - val_iou: 0.5248 - val_recall: 0.4500 - val_precision: 0.8945 - lr: 1.0000e-05\n",
            "Epoch 45/100\n",
            "45/45 [==============================] - ETA: 0s - loss: 0.3059 - dice_coef: 0.6941 - iou: 0.5322 - recall: 0.3993 - precision: 0.9304\n",
            "Epoch 00045: val_loss improved from 0.31056 to 0.30981, saving model to /content/drive/MyDrive/project/UNet layers/2_Unet/new_data/files/model.h5\n",
            "45/45 [==============================] - 49s 1s/step - loss: 0.3059 - dice_coef: 0.6941 - iou: 0.5322 - recall: 0.3993 - precision: 0.9304 - val_loss: 0.3098 - val_dice_coef: 0.6888 - val_iou: 0.5257 - val_recall: 0.4503 - val_precision: 0.8946 - lr: 1.0000e-05\n",
            "Epoch 46/100\n",
            "45/45 [==============================] - ETA: 0s - loss: 0.3048 - dice_coef: 0.6952 - iou: 0.5335 - recall: 0.3992 - precision: 0.9310\n",
            "Epoch 00046: val_loss improved from 0.30981 to 0.30896, saving model to /content/drive/MyDrive/project/UNet layers/2_Unet/new_data/files/model.h5\n",
            "45/45 [==============================] - 51s 1s/step - loss: 0.3048 - dice_coef: 0.6952 - iou: 0.5335 - recall: 0.3992 - precision: 0.9310 - val_loss: 0.3090 - val_dice_coef: 0.6897 - val_iou: 0.5267 - val_recall: 0.4502 - val_precision: 0.8947 - lr: 1.0000e-05\n",
            "Epoch 47/100\n",
            "45/45 [==============================] - ETA: 0s - loss: 0.3037 - dice_coef: 0.6963 - iou: 0.5348 - recall: 0.3991 - precision: 0.9316\n",
            "Epoch 00047: val_loss improved from 0.30896 to 0.30845, saving model to /content/drive/MyDrive/project/UNet layers/2_Unet/new_data/files/model.h5\n",
            "45/45 [==============================] - 49s 1s/step - loss: 0.3037 - dice_coef: 0.6963 - iou: 0.5348 - recall: 0.3991 - precision: 0.9316 - val_loss: 0.3085 - val_dice_coef: 0.6902 - val_iou: 0.5273 - val_recall: 0.4507 - val_precision: 0.8943 - lr: 1.0000e-05\n",
            "Epoch 48/100\n",
            "45/45 [==============================] - ETA: 0s - loss: 0.3026 - dice_coef: 0.6974 - iou: 0.5361 - recall: 0.3991 - precision: 0.9321\n",
            "Epoch 00048: val_loss improved from 0.30845 to 0.30761, saving model to /content/drive/MyDrive/project/UNet layers/2_Unet/new_data/files/model.h5\n",
            "45/45 [==============================] - 51s 1s/step - loss: 0.3026 - dice_coef: 0.6974 - iou: 0.5361 - recall: 0.3991 - precision: 0.9321 - val_loss: 0.3076 - val_dice_coef: 0.6910 - val_iou: 0.5283 - val_recall: 0.4502 - val_precision: 0.8948 - lr: 1.0000e-05\n",
            "Epoch 49/100\n",
            "45/45 [==============================] - ETA: 0s - loss: 0.3015 - dice_coef: 0.6985 - iou: 0.5374 - recall: 0.3990 - precision: 0.9326\n",
            "Epoch 00049: val_loss improved from 0.30761 to 0.30678, saving model to /content/drive/MyDrive/project/UNet layers/2_Unet/new_data/files/model.h5\n",
            "45/45 [==============================] - 51s 1s/step - loss: 0.3015 - dice_coef: 0.6985 - iou: 0.5374 - recall: 0.3990 - precision: 0.9326 - val_loss: 0.3068 - val_dice_coef: 0.6919 - val_iou: 0.5293 - val_recall: 0.4498 - val_precision: 0.8953 - lr: 1.0000e-05\n",
            "Epoch 50/100\n",
            "45/45 [==============================] - ETA: 0s - loss: 0.3004 - dice_coef: 0.6996 - iou: 0.5386 - recall: 0.3990 - precision: 0.9332\n",
            "Epoch 00050: val_loss improved from 0.30678 to 0.30595, saving model to /content/drive/MyDrive/project/UNet layers/2_Unet/new_data/files/model.h5\n",
            "45/45 [==============================] - 49s 1s/step - loss: 0.3004 - dice_coef: 0.6996 - iou: 0.5386 - recall: 0.3990 - precision: 0.9332 - val_loss: 0.3059 - val_dice_coef: 0.6927 - val_iou: 0.5303 - val_recall: 0.4495 - val_precision: 0.8955 - lr: 1.0000e-05\n",
            "Epoch 51/100\n",
            "45/45 [==============================] - ETA: 0s - loss: 0.2994 - dice_coef: 0.7006 - iou: 0.5399 - recall: 0.3989 - precision: 0.9337\n",
            "Epoch 00051: val_loss improved from 0.30595 to 0.30503, saving model to /content/drive/MyDrive/project/UNet layers/2_Unet/new_data/files/model.h5\n",
            "45/45 [==============================] - 49s 1s/step - loss: 0.2994 - dice_coef: 0.7006 - iou: 0.5399 - recall: 0.3989 - precision: 0.9337 - val_loss: 0.3050 - val_dice_coef: 0.6936 - val_iou: 0.5313 - val_recall: 0.4490 - val_precision: 0.8961 - lr: 1.0000e-05\n",
            "Epoch 52/100\n",
            "45/45 [==============================] - ETA: 0s - loss: 0.2983 - dice_coef: 0.7017 - iou: 0.5411 - recall: 0.3988 - precision: 0.9342\n",
            "Epoch 00052: val_loss improved from 0.30503 to 0.30454, saving model to /content/drive/MyDrive/project/UNet layers/2_Unet/new_data/files/model.h5\n",
            "45/45 [==============================] - 51s 1s/step - loss: 0.2983 - dice_coef: 0.7017 - iou: 0.5411 - recall: 0.3988 - precision: 0.9342 - val_loss: 0.3045 - val_dice_coef: 0.6941 - val_iou: 0.5319 - val_recall: 0.4493 - val_precision: 0.8959 - lr: 1.0000e-05\n",
            "Epoch 53/100\n",
            "45/45 [==============================] - ETA: 0s - loss: 0.2973 - dice_coef: 0.7027 - iou: 0.5424 - recall: 0.3988 - precision: 0.9347\n",
            "Epoch 00053: val_loss improved from 0.30454 to 0.30410, saving model to /content/drive/MyDrive/project/UNet layers/2_Unet/new_data/files/model.h5\n",
            "45/45 [==============================] - 51s 1s/step - loss: 0.2973 - dice_coef: 0.7027 - iou: 0.5424 - recall: 0.3988 - precision: 0.9347 - val_loss: 0.3041 - val_dice_coef: 0.6946 - val_iou: 0.5325 - val_recall: 0.4500 - val_precision: 0.8952 - lr: 1.0000e-05\n",
            "Epoch 54/100\n",
            "45/45 [==============================] - ETA: 0s - loss: 0.2963 - dice_coef: 0.7037 - iou: 0.5436 - recall: 0.3987 - precision: 0.9352\n",
            "Epoch 00054: val_loss improved from 0.30410 to 0.30306, saving model to /content/drive/MyDrive/project/UNet layers/2_Unet/new_data/files/model.h5\n",
            "45/45 [==============================] - 49s 1s/step - loss: 0.2963 - dice_coef: 0.7037 - iou: 0.5436 - recall: 0.3987 - precision: 0.9352 - val_loss: 0.3031 - val_dice_coef: 0.6956 - val_iou: 0.5337 - val_recall: 0.4492 - val_precision: 0.8963 - lr: 1.0000e-05\n",
            "Epoch 55/100\n",
            "45/45 [==============================] - ETA: 0s - loss: 0.2952 - dice_coef: 0.7048 - iou: 0.5448 - recall: 0.3987 - precision: 0.9357\n",
            "Epoch 00055: val_loss improved from 0.30306 to 0.30288, saving model to /content/drive/MyDrive/project/UNet layers/2_Unet/new_data/files/model.h5\n",
            "45/45 [==============================] - 49s 1s/step - loss: 0.2952 - dice_coef: 0.7048 - iou: 0.5448 - recall: 0.3987 - precision: 0.9357 - val_loss: 0.3029 - val_dice_coef: 0.6958 - val_iou: 0.5339 - val_recall: 0.4504 - val_precision: 0.8952 - lr: 1.0000e-05\n",
            "Epoch 56/100\n",
            "45/45 [==============================] - ETA: 0s - loss: 0.2942 - dice_coef: 0.7058 - iou: 0.5460 - recall: 0.3986 - precision: 0.9361\n",
            "Epoch 00056: val_loss improved from 0.30288 to 0.30208, saving model to /content/drive/MyDrive/project/UNet layers/2_Unet/new_data/files/model.h5\n",
            "45/45 [==============================] - 51s 1s/step - loss: 0.2942 - dice_coef: 0.7058 - iou: 0.5460 - recall: 0.3986 - precision: 0.9361 - val_loss: 0.3021 - val_dice_coef: 0.6967 - val_iou: 0.5349 - val_recall: 0.4505 - val_precision: 0.8951 - lr: 1.0000e-05\n",
            "Epoch 57/100\n",
            "45/45 [==============================] - ETA: 0s - loss: 0.2932 - dice_coef: 0.7068 - iou: 0.5472 - recall: 0.3984 - precision: 0.9367\n",
            "Epoch 00057: val_loss improved from 0.30208 to 0.30045, saving model to /content/drive/MyDrive/project/UNet layers/2_Unet/new_data/files/model.h5\n",
            "45/45 [==============================] - 51s 1s/step - loss: 0.2932 - dice_coef: 0.7068 - iou: 0.5472 - recall: 0.3984 - precision: 0.9367 - val_loss: 0.3004 - val_dice_coef: 0.6983 - val_iou: 0.5368 - val_recall: 0.4477 - val_precision: 0.8980 - lr: 1.0000e-05\n",
            "Epoch 58/100\n",
            "45/45 [==============================] - ETA: 0s - loss: 0.2922 - dice_coef: 0.7078 - iou: 0.5484 - recall: 0.3985 - precision: 0.9371\n",
            "Epoch 00058: val_loss did not improve from 0.30045\n",
            "45/45 [==============================] - 48s 1s/step - loss: 0.2922 - dice_coef: 0.7078 - iou: 0.5484 - recall: 0.3985 - precision: 0.9371 - val_loss: 0.3020 - val_dice_coef: 0.6967 - val_iou: 0.5350 - val_recall: 0.4523 - val_precision: 0.8931 - lr: 1.0000e-05\n",
            "Epoch 59/100\n",
            "45/45 [==============================] - ETA: 0s - loss: 0.2913 - dice_coef: 0.7087 - iou: 0.5494 - recall: 0.3983 - precision: 0.9376\n",
            "Epoch 00059: val_loss improved from 0.30045 to 0.29821, saving model to /content/drive/MyDrive/project/UNet layers/2_Unet/new_data/files/model.h5\n",
            "45/45 [==============================] - 51s 1s/step - loss: 0.2913 - dice_coef: 0.7087 - iou: 0.5494 - recall: 0.3983 - precision: 0.9376 - val_loss: 0.2982 - val_dice_coef: 0.7005 - val_iou: 0.5395 - val_recall: 0.4465 - val_precision: 0.8992 - lr: 1.0000e-05\n",
            "Epoch 60/100\n",
            "45/45 [==============================] - ETA: 0s - loss: 0.2903 - dice_coef: 0.7097 - iou: 0.5506 - recall: 0.3980 - precision: 0.9382\n",
            "Epoch 00060: val_loss did not improve from 0.29821\n",
            "45/45 [==============================] - 50s 1s/step - loss: 0.2903 - dice_coef: 0.7097 - iou: 0.5506 - recall: 0.3980 - precision: 0.9382 - val_loss: 0.3005 - val_dice_coef: 0.6983 - val_iou: 0.5368 - val_recall: 0.4511 - val_precision: 0.8949 - lr: 1.0000e-05\n",
            "Epoch 61/100\n",
            "45/45 [==============================] - ETA: 0s - loss: 0.2894 - dice_coef: 0.7106 - iou: 0.5517 - recall: 0.3988 - precision: 0.9382\n",
            "Epoch 00061: val_loss did not improve from 0.29821\n",
            "45/45 [==============================] - 48s 1s/step - loss: 0.2894 - dice_coef: 0.7106 - iou: 0.5517 - recall: 0.3988 - precision: 0.9382 - val_loss: 0.3028 - val_dice_coef: 0.6961 - val_iou: 0.5343 - val_recall: 0.4601 - val_precision: 0.8854 - lr: 1.0000e-05\n",
            "Epoch 62/100\n",
            "45/45 [==============================] - ETA: 0s - loss: 0.2888 - dice_coef: 0.7112 - iou: 0.5524 - recall: 0.3973 - precision: 0.9389\n",
            "Epoch 00062: val_loss improved from 0.29821 to 0.29512, saving model to /content/drive/MyDrive/project/UNet layers/2_Unet/new_data/files/model.h5\n",
            "45/45 [==============================] - 51s 1s/step - loss: 0.2888 - dice_coef: 0.7112 - iou: 0.5524 - recall: 0.3973 - precision: 0.9389 - val_loss: 0.2951 - val_dice_coef: 0.7036 - val_iou: 0.5431 - val_recall: 0.4410 - val_precision: 0.9050 - lr: 1.0000e-05\n",
            "Epoch 63/100\n",
            "45/45 [==============================] - ETA: 0s - loss: 0.2877 - dice_coef: 0.7123 - iou: 0.5538 - recall: 0.3982 - precision: 0.9391\n",
            "Epoch 00063: val_loss did not improve from 0.29512\n",
            "45/45 [==============================] - 48s 1s/step - loss: 0.2877 - dice_coef: 0.7123 - iou: 0.5538 - recall: 0.3982 - precision: 0.9391 - val_loss: 0.2988 - val_dice_coef: 0.7000 - val_iou: 0.5388 - val_recall: 0.4523 - val_precision: 0.8939 - lr: 1.0000e-05\n",
            "Epoch 64/100\n",
            "45/45 [==============================] - ETA: 0s - loss: 0.2866 - dice_coef: 0.7134 - iou: 0.5551 - recall: 0.3982 - precision: 0.9398\n",
            "Epoch 00064: val_loss did not improve from 0.29512\n",
            "45/45 [==============================] - 48s 1s/step - loss: 0.2866 - dice_coef: 0.7134 - iou: 0.5551 - recall: 0.3982 - precision: 0.9398 - val_loss: 0.2956 - val_dice_coef: 0.7030 - val_iou: 0.5424 - val_recall: 0.4460 - val_precision: 0.9002 - lr: 1.0000e-05\n",
            "Epoch 65/100\n",
            "45/45 [==============================] - ETA: 0s - loss: 0.2857 - dice_coef: 0.7143 - iou: 0.5562 - recall: 0.3977 - precision: 0.9403\n",
            "Epoch 00065: val_loss did not improve from 0.29512\n",
            "45/45 [==============================] - 48s 1s/step - loss: 0.2857 - dice_coef: 0.7143 - iou: 0.5562 - recall: 0.3977 - precision: 0.9403 - val_loss: 0.2956 - val_dice_coef: 0.7031 - val_iou: 0.5425 - val_recall: 0.4449 - val_precision: 0.9016 - lr: 1.0000e-05\n",
            "Epoch 66/100\n",
            "45/45 [==============================] - ETA: 0s - loss: 0.2849 - dice_coef: 0.7151 - iou: 0.5572 - recall: 0.3982 - precision: 0.9403\n",
            "Epoch 00066: val_loss improved from 0.29512 to 0.29179, saving model to /content/drive/MyDrive/project/UNet layers/2_Unet/new_data/files/model.h5\n",
            "45/45 [==============================] - 49s 1s/step - loss: 0.2849 - dice_coef: 0.7151 - iou: 0.5572 - recall: 0.3982 - precision: 0.9403 - val_loss: 0.2918 - val_dice_coef: 0.7069 - val_iou: 0.5470 - val_recall: 0.4375 - val_precision: 0.9072 - lr: 1.0000e-05\n",
            "Epoch 67/100\n",
            "45/45 [==============================] - ETA: 0s - loss: 0.2840 - dice_coef: 0.7160 - iou: 0.5582 - recall: 0.3974 - precision: 0.9411\n",
            "Epoch 00067: val_loss did not improve from 0.29179\n",
            "45/45 [==============================] - 48s 1s/step - loss: 0.2840 - dice_coef: 0.7160 - iou: 0.5582 - recall: 0.3974 - precision: 0.9411 - val_loss: 0.3020 - val_dice_coef: 0.6970 - val_iou: 0.5354 - val_recall: 0.4641 - val_precision: 0.8821 - lr: 1.0000e-05\n",
            "Epoch 68/100\n",
            "45/45 [==============================] - ETA: 0s - loss: 0.2831 - dice_coef: 0.7169 - iou: 0.5593 - recall: 0.3984 - precision: 0.9410\n",
            "Epoch 00068: val_loss did not improve from 0.29179\n",
            "45/45 [==============================] - 50s 1s/step - loss: 0.2831 - dice_coef: 0.7169 - iou: 0.5593 - recall: 0.3984 - precision: 0.9410 - val_loss: 0.2937 - val_dice_coef: 0.7051 - val_iou: 0.5449 - val_recall: 0.4494 - val_precision: 0.8967 - lr: 1.0000e-05\n",
            "Epoch 69/100\n",
            "45/45 [==============================] - ETA: 0s - loss: 0.2823 - dice_coef: 0.7177 - iou: 0.5603 - recall: 0.3972 - precision: 0.9420\n",
            "Epoch 00069: val_loss improved from 0.29179 to 0.29122, saving model to /content/drive/MyDrive/project/UNet layers/2_Unet/new_data/files/model.h5\n",
            "45/45 [==============================] - 51s 1s/step - loss: 0.2823 - dice_coef: 0.7177 - iou: 0.5603 - recall: 0.3972 - precision: 0.9420 - val_loss: 0.2912 - val_dice_coef: 0.7073 - val_iou: 0.5475 - val_recall: 0.4356 - val_precision: 0.9098 - lr: 1.0000e-05\n",
            "Epoch 70/100\n",
            "45/45 [==============================] - ETA: 0s - loss: 0.2815 - dice_coef: 0.7185 - iou: 0.5613 - recall: 0.3977 - precision: 0.9419\n",
            "Epoch 00070: val_loss did not improve from 0.29122\n",
            "45/45 [==============================] - 50s 1s/step - loss: 0.2815 - dice_coef: 0.7185 - iou: 0.5613 - recall: 0.3977 - precision: 0.9419 - val_loss: 0.2937 - val_dice_coef: 0.7050 - val_iou: 0.5448 - val_recall: 0.4464 - val_precision: 0.8992 - lr: 1.0000e-05\n",
            "Epoch 71/100\n",
            "45/45 [==============================] - ETA: 0s - loss: 0.2807 - dice_coef: 0.7193 - iou: 0.5622 - recall: 0.3973 - precision: 0.9424\n",
            "Epoch 00071: val_loss improved from 0.29122 to 0.29083, saving model to /content/drive/MyDrive/project/UNet layers/2_Unet/new_data/files/model.h5\n",
            "45/45 [==============================] - 51s 1s/step - loss: 0.2807 - dice_coef: 0.7193 - iou: 0.5622 - recall: 0.3973 - precision: 0.9424 - val_loss: 0.2908 - val_dice_coef: 0.7080 - val_iou: 0.5484 - val_recall: 0.4439 - val_precision: 0.9018 - lr: 1.0000e-05\n",
            "Epoch 72/100\n",
            "45/45 [==============================] - ETA: 0s - loss: 0.2798 - dice_coef: 0.7202 - iou: 0.5633 - recall: 0.3973 - precision: 0.9428\n",
            "Epoch 00072: val_loss did not improve from 0.29083\n",
            "45/45 [==============================] - 48s 1s/step - loss: 0.2798 - dice_coef: 0.7202 - iou: 0.5633 - recall: 0.3973 - precision: 0.9428 - val_loss: 0.3003 - val_dice_coef: 0.6989 - val_iou: 0.5376 - val_recall: 0.4681 - val_precision: 0.8781 - lr: 1.0000e-05\n",
            "Epoch 73/100\n",
            "45/45 [==============================] - ETA: 0s - loss: 0.2791 - dice_coef: 0.7209 - iou: 0.5642 - recall: 0.3976 - precision: 0.9429\n",
            "Epoch 00073: val_loss improved from 0.29083 to 0.28849, saving model to /content/drive/MyDrive/project/UNet layers/2_Unet/new_data/files/model.h5\n",
            "45/45 [==============================] - 51s 1s/step - loss: 0.2791 - dice_coef: 0.7209 - iou: 0.5642 - recall: 0.3976 - precision: 0.9429 - val_loss: 0.2885 - val_dice_coef: 0.7102 - val_iou: 0.5510 - val_recall: 0.4416 - val_precision: 0.9052 - lr: 1.0000e-05\n",
            "Epoch 74/100\n",
            "45/45 [==============================] - ETA: 0s - loss: 0.2783 - dice_coef: 0.7217 - iou: 0.5652 - recall: 0.3970 - precision: 0.9435\n",
            "Epoch 00074: val_loss improved from 0.28849 to 0.28702, saving model to /content/drive/MyDrive/project/UNet layers/2_Unet/new_data/files/model.h5\n",
            "45/45 [==============================] - 51s 1s/step - loss: 0.2783 - dice_coef: 0.7217 - iou: 0.5652 - recall: 0.3970 - precision: 0.9435 - val_loss: 0.2870 - val_dice_coef: 0.7115 - val_iou: 0.5525 - val_recall: 0.4294 - val_precision: 0.9151 - lr: 1.0000e-05\n",
            "Epoch 75/100\n",
            "45/45 [==============================] - ETA: 0s - loss: 0.2777 - dice_coef: 0.7223 - iou: 0.5659 - recall: 0.3973 - precision: 0.9434\n",
            "Epoch 00075: val_loss did not improve from 0.28702\n",
            "45/45 [==============================] - 51s 1s/step - loss: 0.2777 - dice_coef: 0.7223 - iou: 0.5659 - recall: 0.3973 - precision: 0.9434 - val_loss: 0.2893 - val_dice_coef: 0.7095 - val_iou: 0.5502 - val_recall: 0.4433 - val_precision: 0.9022 - lr: 1.0000e-05\n",
            "Epoch 76/100\n",
            "45/45 [==============================] - ETA: 0s - loss: 0.2767 - dice_coef: 0.7233 - iou: 0.5672 - recall: 0.3972 - precision: 0.9439\n",
            "Epoch 00076: val_loss did not improve from 0.28702\n",
            "45/45 [==============================] - 48s 1s/step - loss: 0.2767 - dice_coef: 0.7233 - iou: 0.5672 - recall: 0.3972 - precision: 0.9439 - val_loss: 0.3011 - val_dice_coef: 0.6981 - val_iou: 0.5367 - val_recall: 0.4711 - val_precision: 0.8735 - lr: 1.0000e-05\n",
            "Epoch 77/100\n",
            "45/45 [==============================] - ETA: 0s - loss: 0.2761 - dice_coef: 0.7239 - iou: 0.5679 - recall: 0.3975 - precision: 0.9439\n",
            "Epoch 00077: val_loss did not improve from 0.28702\n",
            "45/45 [==============================] - 50s 1s/step - loss: 0.2761 - dice_coef: 0.7239 - iou: 0.5679 - recall: 0.3975 - precision: 0.9439 - val_loss: 0.2884 - val_dice_coef: 0.7103 - val_iou: 0.5512 - val_recall: 0.4454 - val_precision: 0.9015 - lr: 1.0000e-05\n",
            "Epoch 78/100\n",
            "45/45 [==============================] - ETA: 0s - loss: 0.2753 - dice_coef: 0.7247 - iou: 0.5688 - recall: 0.3962 - precision: 0.9448\n",
            "Epoch 00078: val_loss improved from 0.28702 to 0.28209, saving model to /content/drive/MyDrive/project/UNet layers/2_Unet/new_data/files/model.h5\n",
            "45/45 [==============================] - 51s 1s/step - loss: 0.2753 - dice_coef: 0.7247 - iou: 0.5688 - recall: 0.3962 - precision: 0.9448 - val_loss: 0.2821 - val_dice_coef: 0.7166 - val_iou: 0.5586 - val_recall: 0.4222 - val_precision: 0.9213 - lr: 1.0000e-05\n",
            "Epoch 79/100\n",
            "45/45 [==============================] - ETA: 0s - loss: 0.2748 - dice_coef: 0.7252 - iou: 0.5695 - recall: 0.3968 - precision: 0.9444\n",
            "Epoch 00079: val_loss did not improve from 0.28209\n",
            "45/45 [==============================] - 51s 1s/step - loss: 0.2748 - dice_coef: 0.7252 - iou: 0.5695 - recall: 0.3968 - precision: 0.9444 - val_loss: 0.2958 - val_dice_coef: 0.7034 - val_iou: 0.5430 - val_recall: 0.4652 - val_precision: 0.8814 - lr: 1.0000e-05\n",
            "Epoch 80/100\n",
            "45/45 [==============================] - ETA: 0s - loss: 0.2736 - dice_coef: 0.7264 - iou: 0.5709 - recall: 0.3975 - precision: 0.9449\n",
            "Epoch 00080: val_loss did not improve from 0.28209\n",
            "45/45 [==============================] - 48s 1s/step - loss: 0.2736 - dice_coef: 0.7264 - iou: 0.5709 - recall: 0.3975 - precision: 0.9449 - val_loss: 0.2868 - val_dice_coef: 0.7120 - val_iou: 0.5531 - val_recall: 0.4476 - val_precision: 0.9005 - lr: 1.0000e-05\n",
            "Epoch 81/100\n",
            "45/45 [==============================] - ETA: 0s - loss: 0.2730 - dice_coef: 0.7270 - iou: 0.5716 - recall: 0.3964 - precision: 0.9457\n",
            "Epoch 00081: val_loss did not improve from 0.28209\n",
            "45/45 [==============================] - 50s 1s/step - loss: 0.2730 - dice_coef: 0.7270 - iou: 0.5716 - recall: 0.3964 - precision: 0.9457 - val_loss: 0.2833 - val_dice_coef: 0.7152 - val_iou: 0.5570 - val_recall: 0.4265 - val_precision: 0.9175 - lr: 1.0000e-05\n",
            "Epoch 82/100\n",
            "45/45 [==============================] - ETA: 0s - loss: 0.2723 - dice_coef: 0.7277 - iou: 0.5726 - recall: 0.3968 - precision: 0.9456\n",
            "Epoch 00082: val_loss did not improve from 0.28209\n",
            "45/45 [==============================] - 48s 1s/step - loss: 0.2723 - dice_coef: 0.7277 - iou: 0.5726 - recall: 0.3968 - precision: 0.9456 - val_loss: 0.2882 - val_dice_coef: 0.7108 - val_iou: 0.5517 - val_recall: 0.4501 - val_precision: 0.8952 - lr: 1.0000e-05\n",
            "Epoch 83/100\n",
            "45/45 [==============================] - ETA: 0s - loss: 0.2712 - dice_coef: 0.7288 - iou: 0.5739 - recall: 0.3968 - precision: 0.9462\n",
            "Epoch 00083: val_loss did not improve from 0.28209\n",
            "\n",
            "Epoch 00083: ReduceLROnPlateau reducing learning rate to 1e-06.\n",
            "45/45 [==============================] - 48s 1s/step - loss: 0.2712 - dice_coef: 0.7288 - iou: 0.5739 - recall: 0.3968 - precision: 0.9462 - val_loss: 0.2914 - val_dice_coef: 0.7076 - val_iou: 0.5479 - val_recall: 0.4606 - val_precision: 0.8872 - lr: 1.0000e-05\n",
            "Epoch 84/100\n",
            "45/45 [==============================] - ETA: 0s - loss: 0.2704 - dice_coef: 0.7296 - iou: 0.5749 - recall: 0.3982 - precision: 0.9462\n",
            "Epoch 00084: val_loss did not improve from 0.28209\n",
            "45/45 [==============================] - 48s 1s/step - loss: 0.2704 - dice_coef: 0.7296 - iou: 0.5749 - recall: 0.3982 - precision: 0.9462 - val_loss: 0.2863 - val_dice_coef: 0.7125 - val_iou: 0.5538 - val_recall: 0.4488 - val_precision: 0.8999 - lr: 1.0000e-06\n",
            "Epoch 85/100\n",
            "45/45 [==============================] - ETA: 0s - loss: 0.2699 - dice_coef: 0.7301 - iou: 0.5755 - recall: 0.3967 - precision: 0.9475\n",
            "Epoch 00085: val_loss did not improve from 0.28209\n",
            "45/45 [==============================] - 50s 1s/step - loss: 0.2699 - dice_coef: 0.7301 - iou: 0.5755 - recall: 0.3967 - precision: 0.9475 - val_loss: 0.2854 - val_dice_coef: 0.7134 - val_iou: 0.5548 - val_recall: 0.4472 - val_precision: 0.9016 - lr: 1.0000e-06\n",
            "Epoch 86/100\n",
            "45/45 [==============================] - ETA: 0s - loss: 0.2698 - dice_coef: 0.7302 - iou: 0.5756 - recall: 0.3969 - precision: 0.9474\n",
            "Epoch 00086: val_loss did not improve from 0.28209\n",
            "45/45 [==============================] - 51s 1s/step - loss: 0.2698 - dice_coef: 0.7302 - iou: 0.5756 - recall: 0.3969 - precision: 0.9474 - val_loss: 0.2852 - val_dice_coef: 0.7136 - val_iou: 0.5550 - val_recall: 0.4469 - val_precision: 0.9018 - lr: 1.0000e-06\n",
            "Epoch 87/100\n",
            "45/45 [==============================] - ETA: 0s - loss: 0.2697 - dice_coef: 0.7303 - iou: 0.5758 - recall: 0.3970 - precision: 0.9474\n",
            "Epoch 00087: val_loss did not improve from 0.28209\n",
            "45/45 [==============================] - 51s 1s/step - loss: 0.2697 - dice_coef: 0.7303 - iou: 0.5758 - recall: 0.3970 - precision: 0.9474 - val_loss: 0.2851 - val_dice_coef: 0.7137 - val_iou: 0.5552 - val_recall: 0.4468 - val_precision: 0.9018 - lr: 1.0000e-06\n",
            "Epoch 88/100\n",
            "45/45 [==============================] - ETA: 0s - loss: 0.2696 - dice_coef: 0.7304 - iou: 0.5759 - recall: 0.3970 - precision: 0.9474\n",
            "Epoch 00088: val_loss did not improve from 0.28209\n",
            "45/45 [==============================] - 48s 1s/step - loss: 0.2696 - dice_coef: 0.7304 - iou: 0.5759 - recall: 0.3970 - precision: 0.9474 - val_loss: 0.2849 - val_dice_coef: 0.7139 - val_iou: 0.5554 - val_recall: 0.4467 - val_precision: 0.9019 - lr: 1.0000e-06\n"
          ]
        }
      ]
    },
    {
      "cell_type": "markdown",
      "metadata": {
        "id": "wowMhtDTwSqY"
      },
      "source": [
        "# Evaluate"
      ]
    },
    {
      "cell_type": "code",
      "metadata": {
        "id": "Gw-ZZk0uwJdC"
      },
      "source": [
        "import os\n",
        "os.environ[\"TF_CPP_MIN_LOG_LEVEL\"] = \"2\"\n",
        "import numpy as np\n",
        "import pandas as pd\n",
        "import cv2\n",
        "from glob import glob\n",
        "from tqdm import tqdm\n",
        "import tensorflow as tf\n",
        "from tensorflow.keras.utils import CustomObjectScope\n",
        "from sklearn.metrics import accuracy_score, f1_score, jaccard_score, precision_score, recall_score"
      ],
      "execution_count": 28,
      "outputs": []
    },
    {
      "cell_type": "code",
      "metadata": {
        "id": "ziOA3THMwiWD"
      },
      "source": [
        "H = 512\n",
        "W = 512"
      ],
      "execution_count": 29,
      "outputs": []
    },
    {
      "cell_type": "code",
      "metadata": {
        "id": "6oM6aVKgwk5y"
      },
      "source": [
        "def create_dir(path):\n",
        "    if not os.path.exists(path):\n",
        "        os.makedirs(path)"
      ],
      "execution_count": 30,
      "outputs": []
    },
    {
      "cell_type": "code",
      "metadata": {
        "id": "CoukMx4Kwo1U"
      },
      "source": [
        "def read_image(path):\n",
        "    x = cv2.imread(path, cv2.IMREAD_COLOR)\n",
        "    # x = cv2.resize(x, (W, H))\n",
        "    ori_x = x\n",
        "    x = x/255.0\n",
        "    x = x.astype(np.float32)\n",
        "    return ori_x, x"
      ],
      "execution_count": 31,
      "outputs": []
    },
    {
      "cell_type": "code",
      "metadata": {
        "id": "-Lu-EAO1wrKu"
      },
      "source": [
        "def read_mask(path):\n",
        "    x = cv2.imread(path, cv2.IMREAD_GRAYSCALE)  ## (512, 512)\n",
        "    # x = cv2.resize(x, (W, H))\n",
        "    ori_x = x\n",
        "    x = x/255.0\n",
        "    x = x.astype(np.int32)\n",
        "    return ori_x, x"
      ],
      "execution_count": 32,
      "outputs": []
    },
    {
      "cell_type": "code",
      "metadata": {
        "id": "C0dekbVzwtk4"
      },
      "source": [
        "def load_data(path):\n",
        "    x = sorted(glob(os.path.join(path, \"image\", \"*.jpg\")))\n",
        "    y = sorted(glob(os.path.join(path, \"mask\", \"*.jpg\")))\n",
        "    return x, y"
      ],
      "execution_count": 33,
      "outputs": []
    },
    {
      "cell_type": "code",
      "metadata": {
        "id": "G2QLHT6pwzTS"
      },
      "source": [
        "def save_results(ori_x, ori_y, y_pred, save_image_path):\n",
        "    line = np.ones((H, 10, 3)) * 255\n",
        "\n",
        "    ori_y = np.expand_dims(ori_y, axis=-1)\n",
        "    ori_y = np.concatenate([ori_y, ori_y, ori_y], axis=-1)\n",
        "\n",
        "    y_pred = np.expand_dims(y_pred, axis=-1)\n",
        "    y_pred = np.concatenate([y_pred, y_pred, y_pred], axis=-1) * 255\n",
        "\n",
        "    cat_images = np.concatenate([ori_x, line, ori_y, line, y_pred], axis=1)\n",
        "    cv2.imwrite(save_image_path, cat_images)"
      ],
      "execution_count": 34,
      "outputs": []
    },
    {
      "cell_type": "code",
      "metadata": {
        "id": "Ah1Cxczuw4AP",
        "colab": {
          "base_uri": "https://localhost:8080/"
        },
        "outputId": "8171c506-2ff2-4f35-e1cb-db23b7e2b130"
      },
      "source": [
        "if __name__ == \"__main__\":\n",
        "    \n",
        "\n",
        "    \"\"\" Load the model \"\"\"\n",
        "    with CustomObjectScope({'iou': iou, 'dice_coef': dice_coef, 'dice_loss': dice_loss}):\n",
        "        model = tf.keras.models.load_model(\"/content/drive/MyDrive/project/UNet layers/2_Unet/new_data/files/model.h5\")\n",
        "\n",
        "    \"\"\" Load the dataset \"\"\"\n",
        "    dataset_path = os.path.join(\"/content/drive/MyDrive/project/UNet layers/2_Unet/new_data\", \"test\")\n",
        "    test_x, test_y = load_data(dataset_path)\n",
        "\n",
        "    \"\"\" Make the prediction and calculate the metrics values \"\"\"\n",
        "    SCORE = []\n",
        "    for x, y in tqdm(zip(test_x, test_y), total=len(test_x)):\n",
        "        \"\"\" Extracting name \"\"\"\n",
        "        name = x.split(\"/\")[-1].split(\".\")[0]\n",
        "\n",
        "        \"\"\" Read the image and mask \"\"\"\n",
        "        ori_x, x = read_image(x)\n",
        "        ori_y, y = read_mask(y)\n",
        "\n",
        "        \"\"\" Prediction \"\"\"\n",
        "        y_pred = model.predict(np.expand_dims(x, axis=0))[0]\n",
        "        y_pred = y_pred > 0.5\n",
        "        y_pred = y_pred.astype(np.int32)\n",
        "        y_pred = np.squeeze(y_pred, axis=-1)\n",
        "\n",
        "        \"\"\" Saving the images \"\"\"\n",
        "        save_image_path = f\"/content/drive/MyDrive/project/UNet layers/2_Unet/new_data/results/{name}.png\"\n",
        "        save_results(ori_x, ori_y, y_pred, save_image_path)\n",
        "\n",
        "        \"\"\" Flatten the array \"\"\"\n",
        "        y = y.flatten()\n",
        "        y_pred = y_pred.flatten()\n",
        "\n",
        "        \"\"\" Calculate the metrics \"\"\"\n",
        "        acc_value = accuracy_score(y, y_pred)\n",
        "        f1_value = f1_score(y, y_pred, labels=[0, 1], average=\"binary\")\n",
        "        jac_value = jaccard_score(y, y_pred, labels=[0, 1], average=\"binary\")\n",
        "        recall_value = recall_score(y, y_pred, labels=[0, 1], average=\"binary\")\n",
        "        precision_value = precision_score(y, y_pred, labels=[0, 1], average=\"binary\")\n",
        "        SCORE.append([name, acc_value, f1_value, jac_value, recall_value, precision_value])\n",
        "\n",
        "    score = [s[1:] for s in SCORE]\n",
        "    score = np.mean(score, axis=0)\n",
        "    print(f\"Accuracy: {score[0]:0.5f}\")\n",
        "    print(f\"F1: {score[1]:0.5f}\")\n",
        "    print(f\"Jaccard: {score[2]:0.5f}\")\n",
        "    print(f\"Recall: {score[3]:0.5f}\")\n",
        "    print(f\"Precision: {score[4]:0.5f}\")\n",
        "\n",
        "    \"\"\" Saving \"\"\"\n",
        "    df = pd.DataFrame(SCORE, columns=[\"Image\", \"Acc\", \"F1\", \"Jaccard\", \"Recall\", \"Precision\"])\n",
        "    df.to_csv(\"/content/drive/MyDrive/project/UNet layers/2_Unet/new_data/files/score.csv\")"
      ],
      "execution_count": 35,
      "outputs": [
        {
          "output_type": "stream",
          "name": "stderr",
          "text": [
            "100%|██████████| 15/15 [00:08<00:00,  1.67it/s]"
          ]
        },
        {
          "output_type": "stream",
          "name": "stdout",
          "text": [
            "Accuracy: 0.93097\n",
            "F1: 0.47663\n",
            "Jaccard: 0.31321\n",
            "Recall: 0.91327\n",
            "Precision: 0.32308\n"
          ]
        },
        {
          "output_type": "stream",
          "name": "stderr",
          "text": [
            "\n"
          ]
        }
      ]
    }
  ]
}