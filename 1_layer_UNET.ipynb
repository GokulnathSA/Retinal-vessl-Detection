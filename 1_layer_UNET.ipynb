{
  "nbformat": 4,
  "nbformat_minor": 0,
  "metadata": {
    "colab": {
      "name": "1-layer UNET.ipynb",
      "provenance": [],
      "collapsed_sections": [
        "JKVngFts_muU",
        "Huk5OfFUWs2L",
        "u-nWSf7uaLXC",
        "lz3PuzabYuOR"
      ]
    },
    "kernelspec": {
      "name": "python3",
      "display_name": "Python 3"
    },
    "language_info": {
      "name": "python"
    },
    "accelerator": "GPU"
  },
  "cells": [
    {
      "cell_type": "markdown",
      "metadata": {
        "id": "JKVngFts_muU"
      },
      "source": [
        "\n",
        "\n",
        "```\n",
        "\n",
        "```\n",
        "\n",
        "# Pre processing\n"
      ]
    },
    {
      "cell_type": "code",
      "metadata": {
        "colab": {
          "base_uri": "https://localhost:8080/"
        },
        "id": "DrUmKr57_M9c",
        "outputId": "fc384d5b-cd93-4531-c4fe-e4e7ecebc9a2"
      },
      "source": [
        "from google.colab import drive\n",
        "drive.mount('/content/drive')"
      ],
      "execution_count": 2,
      "outputs": [
        {
          "output_type": "stream",
          "name": "stdout",
          "text": [
            "Drive already mounted at /content/drive; to attempt to forcibly remount, call drive.mount(\"/content/drive\", force_remount=True).\n"
          ]
        }
      ]
    },
    {
      "cell_type": "code",
      "metadata": {
        "id": "MbgTX9tJOuCX"
      },
      "source": [
        "import os\n",
        "import numpy as np\n",
        "import cv2\n",
        "from glob import glob\n",
        "from tqdm import tqdm\n",
        "import imageio\n",
        "from albumentations import HorizontalFlip, VerticalFlip, ElasticTransform, GridDistortion, OpticalDistortion"
      ],
      "execution_count": 3,
      "outputs": []
    },
    {
      "cell_type": "code",
      "metadata": {
        "id": "Dwr4fwZOQiHY"
      },
      "source": [
        "def create_dir(path):\n",
        "    if not os.path.exists(path):\n",
        "        os.makedirs(path)"
      ],
      "execution_count": 4,
      "outputs": []
    },
    {
      "cell_type": "code",
      "metadata": {
        "id": "9bvyOXDZQlCi"
      },
      "source": [
        "def load_data(path):\n",
        "    \"\"\" X = Images and Y = masks \"\"\"\n",
        "\n",
        "    train_x = sorted(glob(os.path.join(path, \"training\",\"training\", \"training\", \"images\", \"*.tif\")))\n",
        "    train_y = sorted(glob(os.path.join(path, \"training\",\"training\", \"training\", \"1st_manual\", \"*.gif\")))\n",
        "\n",
        "    test_x = sorted(glob(os.path.join(path, \"test\", \"test\", \"test\", \"images\", \"*.tif\")))\n",
        "    test_y = sorted(glob(os.path.join(path, \"test\", \"test\", \"test\", \"1st_manual\", \"*.gif\")))\n",
        "\n",
        "    return (train_x, train_y), (test_x, test_y)"
      ],
      "execution_count": 5,
      "outputs": []
    },
    {
      "cell_type": "code",
      "metadata": {
        "id": "vjJbbKD-QlKY"
      },
      "source": [
        "def augment_data(images, masks, save_path, augment=True):\n",
        "    H = 512\n",
        "    W = 512\n",
        "\n",
        "    for idx, (x, y) in tqdm(enumerate(zip(images, masks)), total=len(images)):\n",
        "        \"\"\" Extracting names \"\"\"\n",
        "        name = x.split(\"/\")[-1].split(\".\")[0]\n",
        "\n",
        "        \"\"\" Reading image and mask \"\"\"\n",
        "        x = cv2.imread(x, cv2.IMREAD_COLOR)\n",
        "        y = imageio.mimread(y)[0]\n",
        "\n",
        "        if augment == True:\n",
        "            aug = HorizontalFlip(p=1.0)\n",
        "            augmented = aug(image=x, mask=y)\n",
        "            x1 = augmented[\"image\"]\n",
        "            y1 = augmented[\"mask\"]\n",
        "\n",
        "            aug = VerticalFlip(p=1.0)\n",
        "            augmented = aug(image=x, mask=y)\n",
        "            x2 = augmented[\"image\"]\n",
        "            y2 = augmented[\"mask\"]\n",
        "\n",
        "            aug = ElasticTransform(p=1, alpha=120, sigma=120 * 0.05, alpha_affine=120 * 0.03)\n",
        "            augmented = aug(image=x, mask=y)\n",
        "            x3 = augmented['image']\n",
        "            y3 = augmented['mask']\n",
        "\n",
        "            aug = GridDistortion(p=1)\n",
        "            augmented = aug(image=x, mask=y)\n",
        "            x4 = augmented['image']\n",
        "            y4 = augmented['mask']\n",
        "\n",
        "            aug = OpticalDistortion(p=1, distort_limit=2, shift_limit=0.5)\n",
        "            augmented = aug(image=x, mask=y)\n",
        "            x5 = augmented['image']\n",
        "            y5 = augmented['mask']\n",
        "\n",
        "            X = [x, x1, x2, x3, x4, x5]\n",
        "            Y = [y, y1, y2, y3, y4, y5]\n",
        "\n",
        "        else:\n",
        "            X = [x]\n",
        "            Y = [y]\n",
        "\n",
        "        index = 0\n",
        "        for i, m in zip(X, Y):\n",
        "            i = cv2.resize(i, (W, H))\n",
        "            m = cv2.resize(m, (W, H))\n",
        "\n",
        "            if len(X) == 1:\n",
        "                tmp_image_name = f\"{name}.jpg\"\n",
        "                tmp_mask_name = f\"{name}.jpg\"\n",
        "            else:\n",
        "                tmp_image_name = f\"{name}_{index}.jpg\"\n",
        "                tmp_mask_name = f\"{name}_{index}.jpg\"\n",
        "\n",
        "            image_path = os.path.join(save_path, \"image\", tmp_image_name)\n",
        "            mask_path = os.path.join(save_path, \"mask\", tmp_mask_name)\n",
        "\n",
        "            cv2.imwrite(image_path, i)\n",
        "            cv2.imwrite(mask_path, m)\n",
        "\n",
        "            index += 1\n",
        "\n"
      ],
      "execution_count": 6,
      "outputs": []
    },
    {
      "cell_type": "code",
      "metadata": {
        "colab": {
          "base_uri": "https://localhost:8080/"
        },
        "id": "pTvyRAZCQz26",
        "outputId": "311a0f06-4149-4842-9a38-cfe147394f00"
      },
      "source": [
        "if __name__ == \"__main__\":\n",
        "    \"\"\" Seeding \"\"\"\n",
        "    np.random.seed(42)\n",
        "\n",
        "    \"\"\" Load the data \"\"\"\n",
        "    data_path = \"/content/drive/MyDrive/project/UNet layers/1_Unet\"\n",
        "    (train_x, train_y), (test_x, test_y) = load_data(data_path)\n",
        "\n",
        "    print(f\"Train: {len(train_x)} - {len(train_y)}\")\n",
        "    print(f\"Test: {len(test_x)} - {len(test_y)}\")\n",
        "\n",
        "    \"\"\" Creating directories \"\"\"\n",
        "    create_dir(\"/content/drive/MyDrive/project/UNet layers/1_Unet/new_data/train/image\")\n",
        "    create_dir(\"/content/drive/MyDrive/project/UNet layers/1_Unet/new_data/train/mask\")\n",
        "    create_dir(\"/content/drive/MyDrive/project/UNet layers/1_Unet/new_data/test/image\")\n",
        "    create_dir(\"/content/drive/MyDrive/project/UNet layers/1_Unet/new_data/test/mask\")\n",
        "    create_dir(\"/content/drive/MyDrive/project/UNet layers/1_Unet/new_data/results\")\n",
        "\n",
        "    augment_data(train_x, train_y, \"/content/drive/MyDrive/project/UNet layers/1_Unet/new_data/train/\", augment= True)\n",
        "    augment_data(test_x, test_y, \"/content/drive/MyDrive/project/UNet layers/1_Unet/new_data/test/\", augment= True)"
      ],
      "execution_count": 7,
      "outputs": [
        {
          "output_type": "stream",
          "name": "stdout",
          "text": [
            "Train: 15 - 15\n",
            "Test: 5 - 5\n"
          ]
        },
        {
          "output_type": "stream",
          "name": "stderr",
          "text": [
            "100%|██████████| 15/15 [00:14<00:00,  1.07it/s]\n",
            "100%|██████████| 5/5 [00:06<00:00,  1.24s/it]\n"
          ]
        }
      ]
    },
    {
      "cell_type": "markdown",
      "metadata": {
        "id": "Huk5OfFUWs2L"
      },
      "source": [
        "# U net- 1 layer\n"
      ]
    },
    {
      "cell_type": "code",
      "metadata": {
        "id": "6U65BdcbWsLo"
      },
      "source": [
        "from tensorflow.keras.layers import Conv2D, BatchNormalization, Activation, MaxPool2D, Conv2DTranspose, Concatenate, Input\n",
        "from tensorflow.keras.models import Model"
      ],
      "execution_count": 8,
      "outputs": []
    },
    {
      "cell_type": "code",
      "metadata": {
        "id": "4_j61AyKXQpH"
      },
      "source": [
        "def conv_block(inputs, num_filters):\n",
        "    x = Conv2D(num_filters, 3, padding=\"same\")(inputs)\n",
        "    x = BatchNormalization()(x)\n",
        "    x = Activation(\"relu\")(x)\n",
        "\n",
        "    x = Conv2D(num_filters, 3, padding=\"same\")(x)\n",
        "    x = BatchNormalization()(x)\n",
        "    x = Activation(\"relu\")(x)\n",
        "\n",
        "    return x"
      ],
      "execution_count": 9,
      "outputs": []
    },
    {
      "cell_type": "code",
      "metadata": {
        "id": "GHQ0lMVvXUpT"
      },
      "source": [
        "def encoder_block(inputs, num_filters):\n",
        "    x = conv_block(inputs, num_filters)\n",
        "    p = MaxPool2D((2, 2))(x)\n",
        "    return x, p\n"
      ],
      "execution_count": 10,
      "outputs": []
    },
    {
      "cell_type": "code",
      "metadata": {
        "id": "aOxKXftyXWv-"
      },
      "source": [
        "def decoder_block(inputs, skip_features, num_filters):\n",
        "    x = Conv2DTranspose(num_filters, (2, 2), strides=2, padding=\"same\")(inputs)\n",
        "    x = Concatenate()([x, skip_features])\n",
        "    x = conv_block(x, num_filters)\n",
        "    return x"
      ],
      "execution_count": 11,
      "outputs": []
    },
    {
      "cell_type": "code",
      "metadata": {
        "id": "CEx_31yRXY4U"
      },
      "source": [
        "def build_unet(input_shape):\n",
        "    inputs = Input(input_shape)\n",
        "\n",
        "    s1, p1 = encoder_block(inputs, 64)\n",
        "    \n",
        "    b1 = conv_block(p1, 128)\n",
        "\n",
        "    d1 = decoder_block(b1, s1, 64)\n",
        "    \n",
        "    outputs = Conv2D(1, 1, padding=\"same\", activation=\"sigmoid\")(d1)\n",
        "\n",
        "    model = Model(inputs, outputs, name=\"UNET\")\n",
        "    return model"
      ],
      "execution_count": 12,
      "outputs": []
    },
    {
      "cell_type": "code",
      "metadata": {
        "colab": {
          "base_uri": "https://localhost:8080/"
        },
        "id": "JttJmADxXbVt",
        "outputId": "d2c9a0a7-8733-4ddf-8c96-84753afb0598"
      },
      "source": [
        "if __name__ == \"__main__\":\n",
        "    input_shape = (512, 512, 3)\n",
        "    model = build_unet(input_shape)\n",
        "    model.summary()"
      ],
      "execution_count": 13,
      "outputs": [
        {
          "output_type": "stream",
          "name": "stdout",
          "text": [
            "Model: \"UNET\"\n",
            "__________________________________________________________________________________________________\n",
            " Layer (type)                   Output Shape         Param #     Connected to                     \n",
            "==================================================================================================\n",
            " input_1 (InputLayer)           [(None, 512, 512, 3  0           []                               \n",
            "                                )]                                                                \n",
            "                                                                                                  \n",
            " conv2d (Conv2D)                (None, 512, 512, 64  1792        ['input_1[0][0]']                \n",
            "                                )                                                                 \n",
            "                                                                                                  \n",
            " batch_normalization (BatchNorm  (None, 512, 512, 64  256        ['conv2d[0][0]']                 \n",
            " alization)                     )                                                                 \n",
            "                                                                                                  \n",
            " activation (Activation)        (None, 512, 512, 64  0           ['batch_normalization[0][0]']    \n",
            "                                )                                                                 \n",
            "                                                                                                  \n",
            " conv2d_1 (Conv2D)              (None, 512, 512, 64  36928       ['activation[0][0]']             \n",
            "                                )                                                                 \n",
            "                                                                                                  \n",
            " batch_normalization_1 (BatchNo  (None, 512, 512, 64  256        ['conv2d_1[0][0]']               \n",
            " rmalization)                   )                                                                 \n",
            "                                                                                                  \n",
            " activation_1 (Activation)      (None, 512, 512, 64  0           ['batch_normalization_1[0][0]']  \n",
            "                                )                                                                 \n",
            "                                                                                                  \n",
            " max_pooling2d (MaxPooling2D)   (None, 256, 256, 64  0           ['activation_1[0][0]']           \n",
            "                                )                                                                 \n",
            "                                                                                                  \n",
            " conv2d_2 (Conv2D)              (None, 256, 256, 12  73856       ['max_pooling2d[0][0]']          \n",
            "                                8)                                                                \n",
            "                                                                                                  \n",
            " batch_normalization_2 (BatchNo  (None, 256, 256, 12  512        ['conv2d_2[0][0]']               \n",
            " rmalization)                   8)                                                                \n",
            "                                                                                                  \n",
            " activation_2 (Activation)      (None, 256, 256, 12  0           ['batch_normalization_2[0][0]']  \n",
            "                                8)                                                                \n",
            "                                                                                                  \n",
            " conv2d_3 (Conv2D)              (None, 256, 256, 12  147584      ['activation_2[0][0]']           \n",
            "                                8)                                                                \n",
            "                                                                                                  \n",
            " batch_normalization_3 (BatchNo  (None, 256, 256, 12  512        ['conv2d_3[0][0]']               \n",
            " rmalization)                   8)                                                                \n",
            "                                                                                                  \n",
            " activation_3 (Activation)      (None, 256, 256, 12  0           ['batch_normalization_3[0][0]']  \n",
            "                                8)                                                                \n",
            "                                                                                                  \n",
            " conv2d_transpose (Conv2DTransp  (None, 512, 512, 64  32832      ['activation_3[0][0]']           \n",
            " ose)                           )                                                                 \n",
            "                                                                                                  \n",
            " concatenate (Concatenate)      (None, 512, 512, 12  0           ['conv2d_transpose[0][0]',       \n",
            "                                8)                                'activation_1[0][0]']           \n",
            "                                                                                                  \n",
            " conv2d_4 (Conv2D)              (None, 512, 512, 64  73792       ['concatenate[0][0]']            \n",
            "                                )                                                                 \n",
            "                                                                                                  \n",
            " batch_normalization_4 (BatchNo  (None, 512, 512, 64  256        ['conv2d_4[0][0]']               \n",
            " rmalization)                   )                                                                 \n",
            "                                                                                                  \n",
            " activation_4 (Activation)      (None, 512, 512, 64  0           ['batch_normalization_4[0][0]']  \n",
            "                                )                                                                 \n",
            "                                                                                                  \n",
            " conv2d_5 (Conv2D)              (None, 512, 512, 64  36928       ['activation_4[0][0]']           \n",
            "                                )                                                                 \n",
            "                                                                                                  \n",
            " batch_normalization_5 (BatchNo  (None, 512, 512, 64  256        ['conv2d_5[0][0]']               \n",
            " rmalization)                   )                                                                 \n",
            "                                                                                                  \n",
            " activation_5 (Activation)      (None, 512, 512, 64  0           ['batch_normalization_5[0][0]']  \n",
            "                                )                                                                 \n",
            "                                                                                                  \n",
            " conv2d_6 (Conv2D)              (None, 512, 512, 1)  65          ['activation_5[0][0]']           \n",
            "                                                                                                  \n",
            "==================================================================================================\n",
            "Total params: 405,825\n",
            "Trainable params: 404,801\n",
            "Non-trainable params: 1,024\n",
            "__________________________________________________________________________________________________\n"
          ]
        }
      ]
    },
    {
      "cell_type": "markdown",
      "metadata": {
        "id": "u-nWSf7uaLXC"
      },
      "source": [
        "# Metric"
      ]
    },
    {
      "cell_type": "code",
      "metadata": {
        "id": "ux5bPMyqaIr2"
      },
      "source": [
        "import numpy as np\n",
        "import tensorflow as tf\n",
        "from tensorflow.keras import backend as K"
      ],
      "execution_count": 14,
      "outputs": []
    },
    {
      "cell_type": "code",
      "metadata": {
        "id": "-0GwKT5gaXBB"
      },
      "source": [
        "def iou(y_true, y_pred):\n",
        "    def f(y_true, y_pred):\n",
        "        intersection = (y_true * y_pred).sum()\n",
        "        union = y_true.sum() + y_pred.sum() - intersection\n",
        "        x = (intersection + 1e-15) / (union + 1e-15)\n",
        "        x = x.astype(np.float32)\n",
        "        return x\n",
        "    return tf.numpy_function(f, [y_true, y_pred], tf.float32)"
      ],
      "execution_count": 15,
      "outputs": []
    },
    {
      "cell_type": "code",
      "metadata": {
        "id": "JoBHU_1Sacef"
      },
      "source": [
        "smooth = 1e-15\n",
        "def dice_coef(y_true, y_pred):\n",
        "    y_true = tf.keras.layers.Flatten()(y_true)\n",
        "    y_pred = tf.keras.layers.Flatten()(y_pred)\n",
        "    intersection = tf.reduce_sum(y_true * y_pred)\n",
        "    return (2. * intersection + smooth) / (tf.reduce_sum(y_true) + tf.reduce_sum(y_pred) + smooth)"
      ],
      "execution_count": 16,
      "outputs": []
    },
    {
      "cell_type": "code",
      "metadata": {
        "id": "hN8lqWsKaelp"
      },
      "source": [
        "def dice_loss(y_true, y_pred):\n",
        "    return 1.0 - dice_coef(y_true, y_pred)"
      ],
      "execution_count": 17,
      "outputs": []
    },
    {
      "cell_type": "markdown",
      "metadata": {
        "id": "lz3PuzabYuOR"
      },
      "source": [
        "# Training\n"
      ]
    },
    {
      "cell_type": "code",
      "metadata": {
        "id": "O6xU6icHYtUn"
      },
      "source": [
        "import os\n",
        "os.environ[\"TF_CPP_MIN_LOG_LEVEL\"] = \"2\"\n",
        "import numpy as np\n",
        "import cv2\n",
        "from glob import glob\n",
        "from sklearn.utils import shuffle\n",
        "import tensorflow as tf\n",
        "from tensorflow.keras.callbacks import ModelCheckpoint, CSVLogger, ReduceLROnPlateau, EarlyStopping, TensorBoard\n",
        "from tensorflow.keras.optimizers import Adam\n",
        "from tensorflow.keras.metrics import Recall, Precision\n"
      ],
      "execution_count": 18,
      "outputs": []
    },
    {
      "cell_type": "code",
      "metadata": {
        "id": "odXO1Sq-apHv"
      },
      "source": [
        "H = 512\n",
        "W = 512"
      ],
      "execution_count": 19,
      "outputs": []
    },
    {
      "cell_type": "code",
      "metadata": {
        "id": "ad2a3IgQarod"
      },
      "source": [
        "def create_dir(path):\n",
        "    if not os.path.exists(path):\n",
        "        os.makedirs(path)"
      ],
      "execution_count": 20,
      "outputs": []
    },
    {
      "cell_type": "code",
      "metadata": {
        "id": "KIRpl_FWasuA"
      },
      "source": [
        "def load_data(path):\n",
        "    x = sorted(glob(os.path.join(path, \"image\", \"*.jpg\")))\n",
        "    y = sorted(glob(os.path.join(path, \"mask\", \"*.jpg\")))\n",
        "    return x, y"
      ],
      "execution_count": 21,
      "outputs": []
    },
    {
      "cell_type": "code",
      "metadata": {
        "id": "3tnI_ZPaax7H"
      },
      "source": [
        "def shuffling(x, y):\n",
        "    x, y = shuffle(x, y, random_state=42)\n",
        "    return x, y"
      ],
      "execution_count": 22,
      "outputs": []
    },
    {
      "cell_type": "code",
      "metadata": {
        "id": "bF4mZL0Aa0gR"
      },
      "source": [
        "def read_image(path):\n",
        "    path = path.decode()\n",
        "    x = cv2.imread(path, cv2.IMREAD_COLOR)\n",
        "    # x = cv2.resize(x, (W, H))\n",
        "    x = x/255.0\n",
        "    x = x.astype(np.float32)\n",
        "    return x"
      ],
      "execution_count": 23,
      "outputs": []
    },
    {
      "cell_type": "code",
      "metadata": {
        "id": "aOyJgzyga3iZ"
      },
      "source": [
        "def read_mask(path):\n",
        "    path = path.decode()\n",
        "    x = cv2.imread(path, cv2.IMREAD_GRAYSCALE)  ## (512, 512)\n",
        "    # x = cv2.resize(x, (W, H))\n",
        "    x = x/255.0\n",
        "    x = x.astype(np.float32)\n",
        "    x = np.expand_dims(x, axis=-1)              ## (512, 512, 1)\n",
        "    return x"
      ],
      "execution_count": 24,
      "outputs": []
    },
    {
      "cell_type": "code",
      "metadata": {
        "id": "XrSakcs8a51T"
      },
      "source": [
        "def tf_parse(x, y):\n",
        "    def _parse(x, y):\n",
        "        x = read_image(x)\n",
        "        y = read_mask(y)\n",
        "        return x, y\n",
        "\n",
        "    x, y = tf.numpy_function(_parse, [x, y], [tf.float32, tf.float32])\n",
        "    x.set_shape([H, W, 3])\n",
        "    y.set_shape([H, W, 1])\n",
        "    return x, y"
      ],
      "execution_count": 25,
      "outputs": []
    },
    {
      "cell_type": "code",
      "metadata": {
        "id": "S4WFOls-a8RP"
      },
      "source": [
        "def tf_dataset(X, Y, batch_size=2):\n",
        "    dataset = tf.data.Dataset.from_tensor_slices((X, Y))\n",
        "    dataset = dataset.map(tf_parse)\n",
        "    dataset = dataset.batch(batch_size)\n",
        "    dataset = dataset.prefetch(4)\n",
        "    return dataset"
      ],
      "execution_count": 26,
      "outputs": []
    },
    {
      "cell_type": "code",
      "metadata": {
        "colab": {
          "base_uri": "https://localhost:8080/"
        },
        "id": "_XOlxR3VbAjL",
        "outputId": "543a160f-d5e7-4673-aa55-d063c3e3bf75"
      },
      "source": [
        "if __name__ == \"__main__\":\n",
        "    \"\"\" Seeding \"\"\"\n",
        "    np.random.seed(42)\n",
        "    tf.random.set_seed(42)\n",
        "\n",
        "    \"\"\" Directory to save files \"\"\"\n",
        "    create_dir(\"/content/drive/MyDrive/project/UNet layers/1_Unet/new_data/files\")\n",
        "\n",
        "    \"\"\" Hyperparameters \"\"\"\n",
        "    batch_size = 2\n",
        "    lr = 1e-4\n",
        "    num_epochs = 70\n",
        "    model_path = os.path.join(\"/content/drive/MyDrive/project/UNet layers/1_Unet/new_data/files\", \"model.h5\")\n",
        "    csv_path = os.path.join(\"/content/drive/MyDrive/project/UNet layers/1_Unet/new_data/files\", \"data.csv\")\n",
        "\n",
        "    \"\"\" Dataset \"\"\"\n",
        "    dataset_path = \"/content/drive/MyDrive/project/UNet layers/1_Unet/new_data\"\n",
        "    train_path = os.path.join(dataset_path, \"train\")\n",
        "    valid_path = os.path.join(dataset_path, \"test\")\n",
        "\n",
        "    train_x, train_y = load_data(train_path)\n",
        "    train_x, train_y = shuffling(train_x, train_y)\n",
        "    valid_x, valid_y = load_data(valid_path)\n",
        "\n",
        "    print(f\"Train: {len(train_x)} - {len(train_y)}\")\n",
        "    print(f\"Valid: {len(valid_x)} - {len(valid_y)}\")\n",
        "\n",
        "    train_dataset = tf_dataset(train_x, train_y, batch_size=batch_size)\n",
        "    valid_dataset = tf_dataset(valid_x, valid_y, batch_size=batch_size)\n",
        "\n",
        "    train_steps = len(train_x)//batch_size\n",
        "    valid_setps = len(valid_x)//batch_size\n",
        "\n",
        "    if len(train_x) % batch_size != 0:\n",
        "        train_steps += 1\n",
        "    if len(valid_x) % batch_size != 0:\n",
        "        valid_setps += 1\n",
        "\n",
        "    \"\"\" Model \"\"\"\n",
        "    model = build_unet((H, W, 3))\n",
        "    model.compile(loss=dice_loss, optimizer=Adam(lr), metrics=[dice_coef, iou, Recall(), Precision()])\n",
        "    # model.summary()\n",
        "\n",
        "    callbacks = [\n",
        "        ModelCheckpoint(model_path, verbose=1, save_best_only=True),\n",
        "        ReduceLROnPlateau(monitor=\"val_loss\", factor=0.1, patience=5, min_lr=1e-6, verbose=1),\n",
        "        CSVLogger(csv_path),\n",
        "        TensorBoard(),\n",
        "        EarlyStopping(monitor=\"val_loss\", patience=10, restore_best_weights=False)\n",
        "    ]\n",
        "\n",
        "    model.fit(\n",
        "        train_dataset,\n",
        "        epochs=num_epochs,\n",
        "        validation_data=valid_dataset,\n",
        "        steps_per_epoch=train_steps,\n",
        "        validation_steps=valid_setps,\n",
        "        callbacks=callbacks\n",
        "    )"
      ],
      "execution_count": 27,
      "outputs": [
        {
          "output_type": "stream",
          "name": "stdout",
          "text": [
            "Train: 90 - 90\n",
            "Valid: 15 - 15\n",
            "Epoch 1/70\n",
            "45/45 [==============================] - ETA: 0s - loss: 0.7541 - dice_coef: 0.2459 - iou: 0.1409 - recall: 0.8112 - precision: 0.3240\n",
            "Epoch 00001: val_loss improved from inf to 0.85042, saving model to /content/drive/MyDrive/project/UNet layers/1_Unet/new_data/files/model.h5\n",
            "45/45 [==============================] - 47s 680ms/step - loss: 0.7541 - dice_coef: 0.2459 - iou: 0.1409 - recall: 0.8112 - precision: 0.3240 - val_loss: 0.8504 - val_dice_coef: 0.1484 - val_iou: 0.0802 - val_recall: 1.7909e-05 - val_precision: 0.0019 - lr: 1.0000e-04\n",
            "Epoch 2/70\n",
            "45/45 [==============================] - ETA: 0s - loss: 0.6167 - dice_coef: 0.3833 - iou: 0.2380 - recall: 0.5220 - precision: 0.5483\n",
            "Epoch 00002: val_loss did not improve from 0.85042\n",
            "45/45 [==============================] - 30s 663ms/step - loss: 0.6167 - dice_coef: 0.3833 - iou: 0.2380 - recall: 0.5220 - precision: 0.5483 - val_loss: 0.8769 - val_dice_coef: 0.1223 - val_iou: 0.0652 - val_recall: 0.0000e+00 - val_precision: 0.0000e+00 - lr: 1.0000e-04\n",
            "Epoch 3/70\n",
            "45/45 [==============================] - ETA: 0s - loss: 0.5467 - dice_coef: 0.4533 - iou: 0.2938 - recall: 0.4557 - precision: 0.7000\n",
            "Epoch 00003: val_loss did not improve from 0.85042\n",
            "45/45 [==============================] - 29s 644ms/step - loss: 0.5467 - dice_coef: 0.4533 - iou: 0.2938 - recall: 0.4557 - precision: 0.7000 - val_loss: 0.9019 - val_dice_coef: 0.0976 - val_iou: 0.0513 - val_recall: 0.0000e+00 - val_precision: 0.0000e+00 - lr: 1.0000e-04\n",
            "Epoch 4/70\n",
            "45/45 [==============================] - ETA: 0s - loss: 0.5075 - dice_coef: 0.4925 - iou: 0.3274 - recall: 0.4426 - precision: 0.7687\n",
            "Epoch 00004: val_loss did not improve from 0.85042\n",
            "45/45 [==============================] - 30s 663ms/step - loss: 0.5075 - dice_coef: 0.4925 - iou: 0.3274 - recall: 0.4426 - precision: 0.7687 - val_loss: 0.9240 - val_dice_coef: 0.0757 - val_iou: 0.0393 - val_recall: 0.0000e+00 - val_precision: 0.0000e+00 - lr: 1.0000e-04\n",
            "Epoch 5/70\n",
            "45/45 [==============================] - ETA: 0s - loss: 0.4832 - dice_coef: 0.5168 - iou: 0.3490 - recall: 0.4329 - precision: 0.7980\n",
            "Epoch 00005: val_loss did not improve from 0.85042\n",
            "45/45 [==============================] - 30s 662ms/step - loss: 0.4832 - dice_coef: 0.5168 - iou: 0.3490 - recall: 0.4329 - precision: 0.7980 - val_loss: 0.9392 - val_dice_coef: 0.0605 - val_iou: 0.0312 - val_recall: 9.3128e-05 - val_precision: 1.0000 - lr: 1.0000e-04\n",
            "Epoch 6/70\n",
            "45/45 [==============================] - ETA: 0s - loss: 0.4650 - dice_coef: 0.5350 - iou: 0.3658 - recall: 0.4277 - precision: 0.8110\n",
            "Epoch 00006: val_loss did not improve from 0.85042\n",
            "\n",
            "Epoch 00006: ReduceLROnPlateau reducing learning rate to 9.999999747378752e-06.\n",
            "45/45 [==============================] - 29s 641ms/step - loss: 0.4650 - dice_coef: 0.5350 - iou: 0.3658 - recall: 0.4277 - precision: 0.8110 - val_loss: 0.9421 - val_dice_coef: 0.0575 - val_iou: 0.0296 - val_recall: 0.0013 - val_precision: 0.1696 - lr: 1.0000e-04\n",
            "Epoch 7/70\n",
            "45/45 [==============================] - ETA: 0s - loss: 0.4546 - dice_coef: 0.5454 - iou: 0.3755 - recall: 0.4183 - precision: 0.8274\n",
            "Epoch 00007: val_loss did not improve from 0.85042\n",
            "45/45 [==============================] - 29s 642ms/step - loss: 0.4546 - dice_coef: 0.5454 - iou: 0.3755 - recall: 0.4183 - precision: 0.8274 - val_loss: 0.9236 - val_dice_coef: 0.0753 - val_iou: 0.0393 - val_recall: 0.0081 - val_precision: 0.2309 - lr: 1.0000e-05\n",
            "Epoch 8/70\n",
            "45/45 [==============================] - ETA: 0s - loss: 0.4495 - dice_coef: 0.5505 - iou: 0.3803 - recall: 0.4200 - precision: 0.8337\n",
            "Epoch 00008: val_loss did not improve from 0.85042\n",
            "45/45 [==============================] - 30s 662ms/step - loss: 0.4495 - dice_coef: 0.5505 - iou: 0.3803 - recall: 0.4200 - precision: 0.8337 - val_loss: 0.8750 - val_dice_coef: 0.1219 - val_iou: 0.0659 - val_recall: 0.0277 - val_precision: 0.3510 - lr: 1.0000e-05\n",
            "Epoch 9/70\n",
            "45/45 [==============================] - ETA: 0s - loss: 0.4473 - dice_coef: 0.5527 - iou: 0.3825 - recall: 0.4209 - precision: 0.8349\n",
            "Epoch 00009: val_loss improved from 0.85042 to 0.79992, saving model to /content/drive/MyDrive/project/UNet layers/1_Unet/new_data/files/model.h5\n",
            "45/45 [==============================] - 29s 653ms/step - loss: 0.4473 - dice_coef: 0.5527 - iou: 0.3825 - recall: 0.4209 - precision: 0.8349 - val_loss: 0.7999 - val_dice_coef: 0.1949 - val_iou: 0.1105 - val_recall: 0.0655 - val_precision: 0.4773 - lr: 1.0000e-05\n",
            "Epoch 10/70\n",
            "45/45 [==============================] - ETA: 0s - loss: 0.4455 - dice_coef: 0.5545 - iou: 0.3842 - recall: 0.4210 - precision: 0.8357\n",
            "Epoch 00010: val_loss improved from 0.79992 to 0.73177, saving model to /content/drive/MyDrive/project/UNet layers/1_Unet/new_data/files/model.h5\n",
            "45/45 [==============================] - 30s 673ms/step - loss: 0.4455 - dice_coef: 0.5545 - iou: 0.3842 - recall: 0.4210 - precision: 0.8357 - val_loss: 0.7318 - val_dice_coef: 0.2631 - val_iou: 0.1543 - val_recall: 0.1200 - val_precision: 0.5739 - lr: 1.0000e-05\n",
            "Epoch 11/70\n",
            "45/45 [==============================] - ETA: 0s - loss: 0.4438 - dice_coef: 0.5562 - iou: 0.3858 - recall: 0.4211 - precision: 0.8365\n",
            "Epoch 00011: val_loss improved from 0.73177 to 0.70579, saving model to /content/drive/MyDrive/project/UNet layers/1_Unet/new_data/files/model.h5\n",
            "45/45 [==============================] - 30s 654ms/step - loss: 0.4438 - dice_coef: 0.5562 - iou: 0.3858 - recall: 0.4211 - precision: 0.8365 - val_loss: 0.7058 - val_dice_coef: 0.2897 - val_iou: 0.1712 - val_recall: 0.1804 - val_precision: 0.6732 - lr: 1.0000e-05\n",
            "Epoch 12/70\n",
            "45/45 [==============================] - ETA: 0s - loss: 0.4422 - dice_coef: 0.5578 - iou: 0.3874 - recall: 0.4210 - precision: 0.8373\n",
            "Epoch 00012: val_loss improved from 0.70579 to 0.63113, saving model to /content/drive/MyDrive/project/UNet layers/1_Unet/new_data/files/model.h5\n",
            "45/45 [==============================] - 29s 652ms/step - loss: 0.4422 - dice_coef: 0.5578 - iou: 0.3874 - recall: 0.4210 - precision: 0.8373 - val_loss: 0.6311 - val_dice_coef: 0.3644 - val_iou: 0.2245 - val_recall: 0.2397 - val_precision: 0.8121 - lr: 1.0000e-05\n",
            "Epoch 13/70\n",
            "45/45 [==============================] - ETA: 0s - loss: 0.4406 - dice_coef: 0.5594 - iou: 0.3889 - recall: 0.4207 - precision: 0.8382\n",
            "Epoch 00013: val_loss improved from 0.63113 to 0.53921, saving model to /content/drive/MyDrive/project/UNet layers/1_Unet/new_data/files/model.h5\n",
            "45/45 [==============================] - 30s 674ms/step - loss: 0.4406 - dice_coef: 0.5594 - iou: 0.3889 - recall: 0.4207 - precision: 0.8382 - val_loss: 0.5392 - val_dice_coef: 0.4565 - val_iou: 0.2972 - val_recall: 0.2942 - val_precision: 0.8944 - lr: 1.0000e-05\n",
            "Epoch 14/70\n",
            "45/45 [==============================] - ETA: 0s - loss: 0.4390 - dice_coef: 0.5610 - iou: 0.3905 - recall: 0.4204 - precision: 0.8392\n",
            "Epoch 00014: val_loss improved from 0.53921 to 0.46738, saving model to /content/drive/MyDrive/project/UNet layers/1_Unet/new_data/files/model.h5\n",
            "45/45 [==============================] - 29s 653ms/step - loss: 0.4390 - dice_coef: 0.5610 - iou: 0.3905 - recall: 0.4204 - precision: 0.8392 - val_loss: 0.4674 - val_dice_coef: 0.5289 - val_iou: 0.3605 - val_recall: 0.3415 - val_precision: 0.9029 - lr: 1.0000e-05\n",
            "Epoch 15/70\n",
            "45/45 [==============================] - ETA: 0s - loss: 0.4374 - dice_coef: 0.5626 - iou: 0.3920 - recall: 0.4200 - precision: 0.8402\n",
            "Epoch 00015: val_loss improved from 0.46738 to 0.43612, saving model to /content/drive/MyDrive/project/UNet layers/1_Unet/new_data/files/model.h5\n",
            "45/45 [==============================] - 29s 651ms/step - loss: 0.4374 - dice_coef: 0.5626 - iou: 0.3920 - recall: 0.4200 - precision: 0.8402 - val_loss: 0.4361 - val_dice_coef: 0.5607 - val_iou: 0.3903 - val_recall: 0.3796 - val_precision: 0.8853 - lr: 1.0000e-05\n",
            "Epoch 16/70\n",
            "45/45 [==============================] - ETA: 0s - loss: 0.4358 - dice_coef: 0.5642 - iou: 0.3935 - recall: 0.4196 - precision: 0.8412\n",
            "Epoch 00016: val_loss improved from 0.43612 to 0.42688, saving model to /content/drive/MyDrive/project/UNet layers/1_Unet/new_data/files/model.h5\n",
            "45/45 [==============================] - 30s 654ms/step - loss: 0.4358 - dice_coef: 0.5642 - iou: 0.3935 - recall: 0.4196 - precision: 0.8412 - val_loss: 0.4269 - val_dice_coef: 0.5704 - val_iou: 0.3996 - val_recall: 0.4092 - val_precision: 0.8639 - lr: 1.0000e-05\n",
            "Epoch 17/70\n",
            "45/45 [==============================] - ETA: 0s - loss: 0.4342 - dice_coef: 0.5658 - iou: 0.3950 - recall: 0.4192 - precision: 0.8423\n",
            "Epoch 00017: val_loss improved from 0.42688 to 0.42608, saving model to /content/drive/MyDrive/project/UNet layers/1_Unet/new_data/files/model.h5\n",
            "45/45 [==============================] - 29s 651ms/step - loss: 0.4342 - dice_coef: 0.5658 - iou: 0.3950 - recall: 0.4192 - precision: 0.8423 - val_loss: 0.4261 - val_dice_coef: 0.5716 - val_iou: 0.4008 - val_recall: 0.4309 - val_precision: 0.8446 - lr: 1.0000e-05\n",
            "Epoch 18/70\n",
            "45/45 [==============================] - ETA: 0s - loss: 0.4327 - dice_coef: 0.5673 - iou: 0.3966 - recall: 0.4187 - precision: 0.8434\n",
            "Epoch 00018: val_loss did not improve from 0.42608\n",
            "45/45 [==============================] - 30s 664ms/step - loss: 0.4327 - dice_coef: 0.5673 - iou: 0.3966 - recall: 0.4187 - precision: 0.8434 - val_loss: 0.4276 - val_dice_coef: 0.5704 - val_iou: 0.3997 - val_recall: 0.4465 - val_precision: 0.8295 - lr: 1.0000e-05\n",
            "Epoch 19/70\n",
            "45/45 [==============================] - ETA: 0s - loss: 0.4311 - dice_coef: 0.5689 - iou: 0.3981 - recall: 0.4183 - precision: 0.8444\n",
            "Epoch 00019: val_loss did not improve from 0.42608\n",
            "45/45 [==============================] - 29s 641ms/step - loss: 0.4311 - dice_coef: 0.5689 - iou: 0.3981 - recall: 0.4183 - precision: 0.8444 - val_loss: 0.4291 - val_dice_coef: 0.5691 - val_iou: 0.3984 - val_recall: 0.4569 - val_precision: 0.8187 - lr: 1.0000e-05\n",
            "Epoch 20/70\n",
            "45/45 [==============================] - ETA: 0s - loss: 0.4296 - dice_coef: 0.5704 - iou: 0.3996 - recall: 0.4178 - precision: 0.8455\n",
            "Epoch 00020: val_loss did not improve from 0.42608\n",
            "45/45 [==============================] - 29s 642ms/step - loss: 0.4296 - dice_coef: 0.5704 - iou: 0.3996 - recall: 0.4178 - precision: 0.8455 - val_loss: 0.4305 - val_dice_coef: 0.5679 - val_iou: 0.3973 - val_recall: 0.4652 - val_precision: 0.8098 - lr: 1.0000e-05\n",
            "Epoch 21/70\n",
            "45/45 [==============================] - ETA: 0s - loss: 0.4280 - dice_coef: 0.5720 - iou: 0.4011 - recall: 0.4173 - precision: 0.8465\n",
            "Epoch 00021: val_loss did not improve from 0.42608\n",
            "45/45 [==============================] - 30s 663ms/step - loss: 0.4280 - dice_coef: 0.5720 - iou: 0.4011 - recall: 0.4173 - precision: 0.8465 - val_loss: 0.4316 - val_dice_coef: 0.5670 - val_iou: 0.3965 - val_recall: 0.4714 - val_precision: 0.8027 - lr: 1.0000e-05\n",
            "Epoch 22/70\n",
            "45/45 [==============================] - ETA: 0s - loss: 0.4265 - dice_coef: 0.5735 - iou: 0.4026 - recall: 0.4169 - precision: 0.8475\n",
            "Epoch 00022: val_loss did not improve from 0.42608\n",
            "\n",
            "Epoch 00022: ReduceLROnPlateau reducing learning rate to 1e-06.\n",
            "45/45 [==============================] - 29s 643ms/step - loss: 0.4265 - dice_coef: 0.5735 - iou: 0.4026 - recall: 0.4169 - precision: 0.8475 - val_loss: 0.4319 - val_dice_coef: 0.5668 - val_iou: 0.3963 - val_recall: 0.4750 - val_precision: 0.7986 - lr: 1.0000e-05\n",
            "Epoch 23/70\n",
            "45/45 [==============================] - ETA: 0s - loss: 0.4250 - dice_coef: 0.5750 - iou: 0.4040 - recall: 0.4160 - precision: 0.8495\n",
            "Epoch 00023: val_loss did not improve from 0.42608\n",
            "45/45 [==============================] - 29s 643ms/step - loss: 0.4250 - dice_coef: 0.5750 - iou: 0.4040 - recall: 0.4160 - precision: 0.8495 - val_loss: 0.4335 - val_dice_coef: 0.5653 - val_iou: 0.3949 - val_recall: 0.4796 - val_precision: 0.7932 - lr: 1.0000e-06\n",
            "Epoch 24/70\n",
            "45/45 [==============================] - ETA: 0s - loss: 0.4249 - dice_coef: 0.5751 - iou: 0.4042 - recall: 0.4158 - precision: 0.8498\n",
            "Epoch 00024: val_loss did not improve from 0.42608\n",
            "45/45 [==============================] - 30s 664ms/step - loss: 0.4249 - dice_coef: 0.5751 - iou: 0.4042 - recall: 0.4158 - precision: 0.8498 - val_loss: 0.4344 - val_dice_coef: 0.5645 - val_iou: 0.3941 - val_recall: 0.4821 - val_precision: 0.7904 - lr: 1.0000e-06\n",
            "Epoch 25/70\n",
            "45/45 [==============================] - ETA: 0s - loss: 0.4247 - dice_coef: 0.5753 - iou: 0.4044 - recall: 0.4157 - precision: 0.8500\n",
            "Epoch 00025: val_loss did not improve from 0.42608\n",
            "45/45 [==============================] - 30s 662ms/step - loss: 0.4247 - dice_coef: 0.5753 - iou: 0.4044 - recall: 0.4157 - precision: 0.8500 - val_loss: 0.4351 - val_dice_coef: 0.5638 - val_iou: 0.3935 - val_recall: 0.4839 - val_precision: 0.7879 - lr: 1.0000e-06\n",
            "Epoch 26/70\n",
            "45/45 [==============================] - ETA: 0s - loss: 0.4246 - dice_coef: 0.5754 - iou: 0.4045 - recall: 0.4157 - precision: 0.8500\n",
            "Epoch 00026: val_loss did not improve from 0.42608\n",
            "45/45 [==============================] - 30s 662ms/step - loss: 0.4246 - dice_coef: 0.5754 - iou: 0.4045 - recall: 0.4157 - precision: 0.8500 - val_loss: 0.4356 - val_dice_coef: 0.5634 - val_iou: 0.3931 - val_recall: 0.4853 - val_precision: 0.7863 - lr: 1.0000e-06\n",
            "Epoch 27/70\n",
            "45/45 [==============================] - ETA: 0s - loss: 0.4244 - dice_coef: 0.5756 - iou: 0.4047 - recall: 0.4157 - precision: 0.8500\n",
            "Epoch 00027: val_loss did not improve from 0.42608\n",
            "45/45 [==============================] - 29s 643ms/step - loss: 0.4244 - dice_coef: 0.5756 - iou: 0.4047 - recall: 0.4157 - precision: 0.8500 - val_loss: 0.4358 - val_dice_coef: 0.5632 - val_iou: 0.3929 - val_recall: 0.4860 - val_precision: 0.7854 - lr: 1.0000e-06\n"
          ]
        }
      ]
    },
    {
      "cell_type": "markdown",
      "metadata": {
        "id": "wowMhtDTwSqY"
      },
      "source": [
        "# Evaluate"
      ]
    },
    {
      "cell_type": "code",
      "metadata": {
        "id": "Gw-ZZk0uwJdC"
      },
      "source": [
        "import os\n",
        "os.environ[\"TF_CPP_MIN_LOG_LEVEL\"] = \"2\"\n",
        "import numpy as np\n",
        "import pandas as pd\n",
        "import cv2\n",
        "from glob import glob\n",
        "from tqdm import tqdm\n",
        "import tensorflow as tf\n",
        "from tensorflow.keras.utils import CustomObjectScope\n",
        "from sklearn.metrics import accuracy_score, f1_score, jaccard_score, precision_score, recall_score"
      ],
      "execution_count": 28,
      "outputs": []
    },
    {
      "cell_type": "code",
      "metadata": {
        "id": "ziOA3THMwiWD"
      },
      "source": [
        "H = 512\n",
        "W = 512"
      ],
      "execution_count": 29,
      "outputs": []
    },
    {
      "cell_type": "code",
      "metadata": {
        "id": "6oM6aVKgwk5y"
      },
      "source": [
        "def create_dir(path):\n",
        "    if not os.path.exists(path):\n",
        "        os.makedirs(path)"
      ],
      "execution_count": 30,
      "outputs": []
    },
    {
      "cell_type": "code",
      "metadata": {
        "id": "CoukMx4Kwo1U"
      },
      "source": [
        "def read_image(path):\n",
        "    x = cv2.imread(path, cv2.IMREAD_COLOR)\n",
        "    # x = cv2.resize(x, (W, H))\n",
        "    ori_x = x\n",
        "    x = x/255.0\n",
        "    x = x.astype(np.float32)\n",
        "    return ori_x, x"
      ],
      "execution_count": 31,
      "outputs": []
    },
    {
      "cell_type": "code",
      "metadata": {
        "id": "-Lu-EAO1wrKu"
      },
      "source": [
        "def read_mask(path):\n",
        "    x = cv2.imread(path, cv2.IMREAD_GRAYSCALE)  ## (512, 512)\n",
        "    # x = cv2.resize(x, (W, H))\n",
        "    ori_x = x\n",
        "    x = x/255.0\n",
        "    x = x.astype(np.int32)\n",
        "    return ori_x, x"
      ],
      "execution_count": 32,
      "outputs": []
    },
    {
      "cell_type": "code",
      "metadata": {
        "id": "C0dekbVzwtk4"
      },
      "source": [
        "def load_data(path):\n",
        "    x = sorted(glob(os.path.join(path, \"image\", \"*.jpg\")))\n",
        "    y = sorted(glob(os.path.join(path, \"mask\", \"*.jpg\")))\n",
        "    return x, y"
      ],
      "execution_count": 33,
      "outputs": []
    },
    {
      "cell_type": "code",
      "metadata": {
        "id": "G2QLHT6pwzTS"
      },
      "source": [
        "def save_results(ori_x, ori_y, y_pred, save_image_path):\n",
        "    line = np.ones((H, 10, 3)) * 255\n",
        "\n",
        "    ori_y = np.expand_dims(ori_y, axis=-1)\n",
        "    ori_y = np.concatenate([ori_y, ori_y, ori_y], axis=-1)\n",
        "\n",
        "    y_pred = np.expand_dims(y_pred, axis=-1)\n",
        "    y_pred = np.concatenate([y_pred, y_pred, y_pred], axis=-1) * 255\n",
        "\n",
        "    cat_images = np.concatenate([ori_x, line, ori_y, line, y_pred], axis=1)\n",
        "    cv2.imwrite(save_image_path, cat_images)"
      ],
      "execution_count": 34,
      "outputs": []
    },
    {
      "cell_type": "code",
      "metadata": {
        "id": "Ah1Cxczuw4AP",
        "colab": {
          "base_uri": "https://localhost:8080/"
        },
        "outputId": "d5475da2-e9e4-4f0a-cea5-ac4ce312b42e"
      },
      "source": [
        "if __name__ == \"__main__\":\n",
        "    \n",
        "\n",
        "    \"\"\" Load the model \"\"\"\n",
        "    with CustomObjectScope({'iou': iou, 'dice_coef': dice_coef, 'dice_loss': dice_loss}):\n",
        "        model = tf.keras.models.load_model(\"/content/drive/MyDrive/project/UNet layers/1_Unet/new_data/files/model.h5\")\n",
        "\n",
        "    \"\"\" Load the dataset \"\"\"\n",
        "    dataset_path = os.path.join(\"/content/drive/MyDrive/project/UNet layers/1_Unet/new_data\", \"test\")\n",
        "    test_x, test_y = load_data(dataset_path)\n",
        "\n",
        "    \"\"\" Make the prediction and calculate the metrics values \"\"\"\n",
        "    SCORE = []\n",
        "    for x, y in tqdm(zip(test_x, test_y), total=len(test_x)):\n",
        "        \"\"\" Extracting name \"\"\"\n",
        "        name = x.split(\"/\")[-1].split(\".\")[0]\n",
        "\n",
        "        \"\"\" Read the image and mask \"\"\"\n",
        "        ori_x, x = read_image(x)\n",
        "        ori_y, y = read_mask(y)\n",
        "\n",
        "        \"\"\" Prediction \"\"\"\n",
        "        y_pred = model.predict(np.expand_dims(x, axis=0))[0]\n",
        "        y_pred = y_pred > 0.9\n",
        "        y_pred = y_pred.astype(np.int32)\n",
        "        y_pred = np.squeeze(y_pred, axis=-1)\n",
        "\n",
        "        \"\"\" Saving the images \"\"\"\n",
        "        save_image_path = f\"/content/drive/MyDrive/project/UNet layers/1_Unet/new_data/results/{name}.png\"\n",
        "        save_results(ori_x, ori_y, y_pred, save_image_path)\n",
        "\n",
        "        \"\"\" Flatten the array \"\"\"\n",
        "        y = y.flatten()\n",
        "        y_pred = y_pred.flatten()\n",
        "\n",
        "        \"\"\" Calculate the metrics \"\"\"\n",
        "        acc_value = accuracy_score(y, y_pred)\n",
        "        f1_value = f1_score(y, y_pred, labels=[0, 1], average=\"binary\")\n",
        "        jac_value = jaccard_score(y, y_pred, labels=[0, 1], average=\"binary\")\n",
        "        recall_value = recall_score(y, y_pred, labels=[0, 1], average=\"binary\")\n",
        "        precision_value = precision_score(y, y_pred, labels=[0, 1], average=\"binary\")\n",
        "        SCORE.append([name, acc_value, f1_value, jac_value, recall_value, precision_value])\n",
        "\n",
        "    score = [s[1:] for s in SCORE]\n",
        "    score = np.mean(score, axis=0)\n",
        "    print(f\"Accuracy: {score[0]:0.5f}\")\n",
        "    print(f\"F1: {score[1]:0.5f}\")\n",
        "    print(f\"Jaccard: {score[2]:0.5f}\")\n",
        "    print(f\"Recall: {score[3]:0.5f}\")\n",
        "    print(f\"Precision: {score[4]:0.5f}\")\n",
        "\n",
        "    \"\"\" Saving \"\"\"\n",
        "    df = pd.DataFrame(SCORE, columns=[\"Image\", \"Acc\", \"F1\", \"Jaccard\", \"Recall\", \"Precision\"])\n",
        "    df.to_csv(\"/content/drive/MyDrive/project/UNet layers/1_Unet/new_data/files/score.csv\")"
      ],
      "execution_count": 35,
      "outputs": [
        {
          "output_type": "stream",
          "name": "stderr",
          "text": [
            "100%|██████████| 15/15 [00:07<00:00,  1.90it/s]"
          ]
        },
        {
          "output_type": "stream",
          "name": "stdout",
          "text": [
            "Accuracy: 0.93375\n",
            "F1: 0.46297\n",
            "Jaccard: 0.30178\n",
            "Recall: 0.80992\n",
            "Precision: 0.32769\n"
          ]
        },
        {
          "output_type": "stream",
          "name": "stderr",
          "text": [
            "\n"
          ]
        }
      ]
    }
  ]
}